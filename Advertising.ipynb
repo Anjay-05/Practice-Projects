{
 "cells": [
  {
   "cell_type": "code",
   "execution_count": 1,
   "id": "4f91e4b6",
   "metadata": {},
   "outputs": [],
   "source": [
    "import numpy as np\n",
    "import pandas as pd\n",
    "import seaborn as sns\n",
    "import matplotlib.pyplot as plt\n",
    "\n",
    "import warnings\n",
    "warnings.filterwarnings(\"ignore\")"
   ]
  },
  {
   "cell_type": "code",
   "execution_count": 2,
   "id": "edbf6f3f",
   "metadata": {},
   "outputs": [
    {
     "data": {
      "text/html": [
       "<div>\n",
       "<style scoped>\n",
       "    .dataframe tbody tr th:only-of-type {\n",
       "        vertical-align: middle;\n",
       "    }\n",
       "\n",
       "    .dataframe tbody tr th {\n",
       "        vertical-align: top;\n",
       "    }\n",
       "\n",
       "    .dataframe thead th {\n",
       "        text-align: right;\n",
       "    }\n",
       "</style>\n",
       "<table border=\"1\" class=\"dataframe\">\n",
       "  <thead>\n",
       "    <tr style=\"text-align: right;\">\n",
       "      <th></th>\n",
       "      <th>Unnamed: 0</th>\n",
       "      <th>TV</th>\n",
       "      <th>radio</th>\n",
       "      <th>newspaper</th>\n",
       "      <th>sales</th>\n",
       "    </tr>\n",
       "  </thead>\n",
       "  <tbody>\n",
       "    <tr>\n",
       "      <th>0</th>\n",
       "      <td>1</td>\n",
       "      <td>230.1</td>\n",
       "      <td>37.8</td>\n",
       "      <td>69.2</td>\n",
       "      <td>22.1</td>\n",
       "    </tr>\n",
       "    <tr>\n",
       "      <th>1</th>\n",
       "      <td>2</td>\n",
       "      <td>44.5</td>\n",
       "      <td>39.3</td>\n",
       "      <td>45.1</td>\n",
       "      <td>10.4</td>\n",
       "    </tr>\n",
       "    <tr>\n",
       "      <th>2</th>\n",
       "      <td>3</td>\n",
       "      <td>17.2</td>\n",
       "      <td>45.9</td>\n",
       "      <td>69.3</td>\n",
       "      <td>9.3</td>\n",
       "    </tr>\n",
       "    <tr>\n",
       "      <th>3</th>\n",
       "      <td>4</td>\n",
       "      <td>151.5</td>\n",
       "      <td>41.3</td>\n",
       "      <td>58.5</td>\n",
       "      <td>18.5</td>\n",
       "    </tr>\n",
       "    <tr>\n",
       "      <th>4</th>\n",
       "      <td>5</td>\n",
       "      <td>180.8</td>\n",
       "      <td>10.8</td>\n",
       "      <td>58.4</td>\n",
       "      <td>12.9</td>\n",
       "    </tr>\n",
       "  </tbody>\n",
       "</table>\n",
       "</div>"
      ],
      "text/plain": [
       "   Unnamed: 0     TV  radio  newspaper  sales\n",
       "0           1  230.1   37.8       69.2   22.1\n",
       "1           2   44.5   39.3       45.1   10.4\n",
       "2           3   17.2   45.9       69.3    9.3\n",
       "3           4  151.5   41.3       58.5   18.5\n",
       "4           5  180.8   10.8       58.4   12.9"
      ]
     },
     "execution_count": 2,
     "metadata": {},
     "output_type": "execute_result"
    }
   ],
   "source": [
    "df=pd.read_csv(\"Advertising.csv\")\n",
    "df.head()"
   ]
  },
  {
   "cell_type": "code",
   "execution_count": 3,
   "id": "82bb8782",
   "metadata": {},
   "outputs": [
    {
     "data": {
      "text/html": [
       "<div>\n",
       "<style scoped>\n",
       "    .dataframe tbody tr th:only-of-type {\n",
       "        vertical-align: middle;\n",
       "    }\n",
       "\n",
       "    .dataframe tbody tr th {\n",
       "        vertical-align: top;\n",
       "    }\n",
       "\n",
       "    .dataframe thead th {\n",
       "        text-align: right;\n",
       "    }\n",
       "</style>\n",
       "<table border=\"1\" class=\"dataframe\">\n",
       "  <thead>\n",
       "    <tr style=\"text-align: right;\">\n",
       "      <th></th>\n",
       "      <th>Unnamed: 0</th>\n",
       "      <th>TV</th>\n",
       "      <th>radio</th>\n",
       "      <th>newspaper</th>\n",
       "      <th>sales</th>\n",
       "    </tr>\n",
       "  </thead>\n",
       "  <tbody>\n",
       "    <tr>\n",
       "      <th>195</th>\n",
       "      <td>196</td>\n",
       "      <td>38.2</td>\n",
       "      <td>3.7</td>\n",
       "      <td>13.8</td>\n",
       "      <td>7.6</td>\n",
       "    </tr>\n",
       "    <tr>\n",
       "      <th>196</th>\n",
       "      <td>197</td>\n",
       "      <td>94.2</td>\n",
       "      <td>4.9</td>\n",
       "      <td>8.1</td>\n",
       "      <td>9.7</td>\n",
       "    </tr>\n",
       "    <tr>\n",
       "      <th>197</th>\n",
       "      <td>198</td>\n",
       "      <td>177.0</td>\n",
       "      <td>9.3</td>\n",
       "      <td>6.4</td>\n",
       "      <td>12.8</td>\n",
       "    </tr>\n",
       "    <tr>\n",
       "      <th>198</th>\n",
       "      <td>199</td>\n",
       "      <td>283.6</td>\n",
       "      <td>42.0</td>\n",
       "      <td>66.2</td>\n",
       "      <td>25.5</td>\n",
       "    </tr>\n",
       "    <tr>\n",
       "      <th>199</th>\n",
       "      <td>200</td>\n",
       "      <td>232.1</td>\n",
       "      <td>8.6</td>\n",
       "      <td>8.7</td>\n",
       "      <td>13.4</td>\n",
       "    </tr>\n",
       "  </tbody>\n",
       "</table>\n",
       "</div>"
      ],
      "text/plain": [
       "     Unnamed: 0     TV  radio  newspaper  sales\n",
       "195         196   38.2    3.7       13.8    7.6\n",
       "196         197   94.2    4.9        8.1    9.7\n",
       "197         198  177.0    9.3        6.4   12.8\n",
       "198         199  283.6   42.0       66.2   25.5\n",
       "199         200  232.1    8.6        8.7   13.4"
      ]
     },
     "execution_count": 3,
     "metadata": {},
     "output_type": "execute_result"
    }
   ],
   "source": [
    "df.tail()"
   ]
  },
  {
   "cell_type": "code",
   "execution_count": 4,
   "id": "35538fc4",
   "metadata": {},
   "outputs": [
    {
     "data": {
      "text/plain": [
       "(200, 5)"
      ]
     },
     "execution_count": 4,
     "metadata": {},
     "output_type": "execute_result"
    }
   ],
   "source": [
    "df.shape"
   ]
  },
  {
   "cell_type": "markdown",
   "id": "e11ca8ba",
   "metadata": {},
   "source": [
    "The dataset has 200 rows and 5 columns.\n",
    "\n",
    "The column Unnamed: 0 is not needed so removing from dataframe."
   ]
  },
  {
   "cell_type": "code",
   "execution_count": 5,
   "id": "4b78166e",
   "metadata": {},
   "outputs": [],
   "source": [
    "#Dropping the 1st column\n",
    "df=df.drop('Unnamed: 0',axis=1)"
   ]
  },
  {
   "cell_type": "code",
   "execution_count": 6,
   "id": "05eaa133",
   "metadata": {},
   "outputs": [
    {
     "data": {
      "text/plain": [
       "TV           float64\n",
       "radio        float64\n",
       "newspaper    float64\n",
       "sales        float64\n",
       "dtype: object"
      ]
     },
     "execution_count": 6,
     "metadata": {},
     "output_type": "execute_result"
    }
   ],
   "source": [
    "df.dtypes"
   ]
  },
  {
   "cell_type": "markdown",
   "id": "266c65f9",
   "metadata": {},
   "source": [
    "All the column are of float data type."
   ]
  },
  {
   "cell_type": "code",
   "execution_count": 7,
   "id": "a20b7830",
   "metadata": {},
   "outputs": [
    {
     "data": {
      "text/plain": [
       "TV           0\n",
       "radio        0\n",
       "newspaper    0\n",
       "sales        0\n",
       "dtype: int64"
      ]
     },
     "execution_count": 7,
     "metadata": {},
     "output_type": "execute_result"
    }
   ],
   "source": [
    "df.isnull().sum()"
   ]
  },
  {
   "cell_type": "code",
   "execution_count": 8,
   "id": "4e22166b",
   "metadata": {},
   "outputs": [
    {
     "data": {
      "text/plain": [
       "<AxesSubplot:>"
      ]
     },
     "execution_count": 8,
     "metadata": {},
     "output_type": "execute_result"
    },
    {
     "data": {
      "image/png": "[encoded data removed]",
      "text/plain": [
       "<Figure size 432x288 with 2 Axes>"
      ]
     },
     "metadata": {
      "needs_background": "light"
     },
     "output_type": "display_data"
    }
   ],
   "source": [
    "sns.heatmap(df.isnull())"
   ]
  },
  {
   "cell_type": "markdown",
   "id": "da1fe590",
   "metadata": {},
   "source": [
    "There is no null value present in the dataset."
   ]
  },
  {
   "cell_type": "code",
   "execution_count": 9,
   "id": "6812c80a",
   "metadata": {},
   "outputs": [
    {
     "name": "stdout",
     "output_type": "stream",
     "text": [
      "<class 'pandas.core.frame.DataFrame'>\n",
      "RangeIndex: 200 entries, 0 to 199\n",
      "Data columns (total 4 columns):\n",
      " #   Column     Non-Null Count  Dtype  \n",
      "---  ------     --------------  -----  \n",
      " 0   TV         200 non-null    float64\n",
      " 1   radio      200 non-null    float64\n",
      " 2   newspaper  200 non-null    float64\n",
      " 3   sales      200 non-null    float64\n",
      "dtypes: float64(4)\n",
      "memory usage: 6.4 KB\n"
     ]
    }
   ],
   "source": [
    "df.info()"
   ]
  },
  {
   "cell_type": "markdown",
   "id": "7b7c7cbb",
   "metadata": {},
   "source": [
    "The dataframe consist of 200 rows and 4 columns.\n",
    "\n",
    "The columns TV,radio,newspaper and sales has 200 non-null values of float datatype."
   ]
  },
  {
   "cell_type": "code",
   "execution_count": 10,
   "id": "e48f3cdd",
   "metadata": {},
   "outputs": [
    {
     "data": {
      "text/html": [
       "<div>\n",
       "<style scoped>\n",
       "    .dataframe tbody tr th:only-of-type {\n",
       "        vertical-align: middle;\n",
       "    }\n",
       "\n",
       "    .dataframe tbody tr th {\n",
       "        vertical-align: top;\n",
       "    }\n",
       "\n",
       "    .dataframe thead th {\n",
       "        text-align: right;\n",
       "    }\n",
       "</style>\n",
       "<table border=\"1\" class=\"dataframe\">\n",
       "  <thead>\n",
       "    <tr style=\"text-align: right;\">\n",
       "      <th></th>\n",
       "      <th>TV</th>\n",
       "      <th>radio</th>\n",
       "      <th>newspaper</th>\n",
       "      <th>sales</th>\n",
       "    </tr>\n",
       "  </thead>\n",
       "  <tbody>\n",
       "    <tr>\n",
       "      <th>count</th>\n",
       "      <td>200.000000</td>\n",
       "      <td>200.000000</td>\n",
       "      <td>200.000000</td>\n",
       "      <td>200.000000</td>\n",
       "    </tr>\n",
       "    <tr>\n",
       "      <th>mean</th>\n",
       "      <td>147.042500</td>\n",
       "      <td>23.264000</td>\n",
       "      <td>30.554000</td>\n",
       "      <td>14.022500</td>\n",
       "    </tr>\n",
       "    <tr>\n",
       "      <th>std</th>\n",
       "      <td>85.854236</td>\n",
       "      <td>14.846809</td>\n",
       "      <td>21.778621</td>\n",
       "      <td>5.217457</td>\n",
       "    </tr>\n",
       "    <tr>\n",
       "      <th>min</th>\n",
       "      <td>0.700000</td>\n",
       "      <td>0.000000</td>\n",
       "      <td>0.300000</td>\n",
       "      <td>1.600000</td>\n",
       "    </tr>\n",
       "    <tr>\n",
       "      <th>25%</th>\n",
       "      <td>74.375000</td>\n",
       "      <td>9.975000</td>\n",
       "      <td>12.750000</td>\n",
       "      <td>10.375000</td>\n",
       "    </tr>\n",
       "    <tr>\n",
       "      <th>50%</th>\n",
       "      <td>149.750000</td>\n",
       "      <td>22.900000</td>\n",
       "      <td>25.750000</td>\n",
       "      <td>12.900000</td>\n",
       "    </tr>\n",
       "    <tr>\n",
       "      <th>75%</th>\n",
       "      <td>218.825000</td>\n",
       "      <td>36.525000</td>\n",
       "      <td>45.100000</td>\n",
       "      <td>17.400000</td>\n",
       "    </tr>\n",
       "    <tr>\n",
       "      <th>max</th>\n",
       "      <td>296.400000</td>\n",
       "      <td>49.600000</td>\n",
       "      <td>114.000000</td>\n",
       "      <td>27.000000</td>\n",
       "    </tr>\n",
       "  </tbody>\n",
       "</table>\n",
       "</div>"
      ],
      "text/plain": [
       "               TV       radio   newspaper       sales\n",
       "count  200.000000  200.000000  200.000000  200.000000\n",
       "mean   147.042500   23.264000   30.554000   14.022500\n",
       "std     85.854236   14.846809   21.778621    5.217457\n",
       "min      0.700000    0.000000    0.300000    1.600000\n",
       "25%     74.375000    9.975000   12.750000   10.375000\n",
       "50%    149.750000   22.900000   25.750000   12.900000\n",
       "75%    218.825000   36.525000   45.100000   17.400000\n",
       "max    296.400000   49.600000  114.000000   27.000000"
      ]
     },
     "execution_count": 10,
     "metadata": {},
     "output_type": "execute_result"
    }
   ],
   "source": [
    "df.describe()"
   ]
  },
  {
   "cell_type": "markdown",
   "id": "3e938b60",
   "metadata": {},
   "source": [
    "All the columns in the dataframe has 200 columns.\n",
    "\n",
    "The mean is greater than median in radio,newspaper and sales\n",
    "\n",
    "The 75th percentile and Max has difference in TV,radio,newspaper and sales, So outliers are present."
   ]
  },
  {
   "cell_type": "code",
   "execution_count": 11,
   "id": "0c50eb69",
   "metadata": {},
   "outputs": [
    {
     "data": {
      "text/html": [
       "<div>\n",
       "<style scoped>\n",
       "    .dataframe tbody tr th:only-of-type {\n",
       "        vertical-align: middle;\n",
       "    }\n",
       "\n",
       "    .dataframe tbody tr th {\n",
       "        vertical-align: top;\n",
       "    }\n",
       "\n",
       "    .dataframe thead th {\n",
       "        text-align: right;\n",
       "    }\n",
       "</style>\n",
       "<table border=\"1\" class=\"dataframe\">\n",
       "  <thead>\n",
       "    <tr style=\"text-align: right;\">\n",
       "      <th></th>\n",
       "      <th>TV</th>\n",
       "      <th>radio</th>\n",
       "      <th>newspaper</th>\n",
       "      <th>sales</th>\n",
       "    </tr>\n",
       "  </thead>\n",
       "  <tbody>\n",
       "    <tr>\n",
       "      <th>TV</th>\n",
       "      <td>1.000000</td>\n",
       "      <td>0.054809</td>\n",
       "      <td>0.056648</td>\n",
       "      <td>0.782224</td>\n",
       "    </tr>\n",
       "    <tr>\n",
       "      <th>radio</th>\n",
       "      <td>0.054809</td>\n",
       "      <td>1.000000</td>\n",
       "      <td>0.354104</td>\n",
       "      <td>0.576223</td>\n",
       "    </tr>\n",
       "    <tr>\n",
       "      <th>newspaper</th>\n",
       "      <td>0.056648</td>\n",
       "      <td>0.354104</td>\n",
       "      <td>1.000000</td>\n",
       "      <td>0.228299</td>\n",
       "    </tr>\n",
       "    <tr>\n",
       "      <th>sales</th>\n",
       "      <td>0.782224</td>\n",
       "      <td>0.576223</td>\n",
       "      <td>0.228299</td>\n",
       "      <td>1.000000</td>\n",
       "    </tr>\n",
       "  </tbody>\n",
       "</table>\n",
       "</div>"
      ],
      "text/plain": [
       "                 TV     radio  newspaper     sales\n",
       "TV         1.000000  0.054809   0.056648  0.782224\n",
       "radio      0.054809  1.000000   0.354104  0.576223\n",
       "newspaper  0.056648  0.354104   1.000000  0.228299\n",
       "sales      0.782224  0.576223   0.228299  1.000000"
      ]
     },
     "execution_count": 11,
     "metadata": {},
     "output_type": "execute_result"
    }
   ],
   "source": [
    "df.corr()"
   ]
  },
  {
   "cell_type": "code",
   "execution_count": 12,
   "id": "4d4cce5b",
   "metadata": {},
   "outputs": [
    {
     "data": {
      "text/plain": [
       "<AxesSubplot:>"
      ]
     },
     "execution_count": 12,
     "metadata": {},
     "output_type": "execute_result"
    },
    {
     "data": {
      "image/png": "[encoded data removed]",
      "text/plain": [
       "<Figure size 720x360 with 2 Axes>"
      ]
     },
     "metadata": {
      "needs_background": "light"
     },
     "output_type": "display_data"
    }
   ],
   "source": [
    "plt.figure(figsize=(10,5))\n",
    "sns.heatmap(df.corr(),annot=True)"
   ]
  },
  {
   "cell_type": "markdown",
   "id": "d8e5e40a",
   "metadata": {},
   "source": [
    "The output variable/label sales is positively correlated to TV,radio and newspaper.\n",
    "\n",
    "Sales mostly correlated to TV and least correlated to newspaper."
   ]
  },
  {
   "cell_type": "code",
   "execution_count": 13,
   "id": "207de118",
   "metadata": {},
   "outputs": [
    {
     "data": {
      "text/plain": [
       "TV          -0.069853\n",
       "radio        0.094175\n",
       "newspaper    0.894720\n",
       "sales        0.407571\n",
       "dtype: float64"
      ]
     },
     "execution_count": 13,
     "metadata": {},
     "output_type": "execute_result"
    }
   ],
   "source": [
    "df.skew()"
   ]
  },
  {
   "cell_type": "markdown",
   "id": "ddb01679",
   "metadata": {},
   "source": [
    "Small skewness is present in newspaper"
   ]
  },
  {
   "cell_type": "markdown",
   "id": "32d44826",
   "metadata": {},
   "source": [
    "Data Visualization"
   ]
  },
  {
   "cell_type": "code",
   "execution_count": 14,
   "id": "8de6f1e8",
   "metadata": {},
   "outputs": [
    {
     "data": {
      "text/plain": [
       "<AxesSubplot:xlabel='TV', ylabel='Density'>"
      ]
     },
     "execution_count": 14,
     "metadata": {},
     "output_type": "execute_result"
    },
    {
     "data": {
      "image/png": "[encoded data removed]",
      "text/plain": [
       "<Figure size 432x288 with 1 Axes>"
      ]
     },
     "metadata": {
      "needs_background": "light"
     },
     "output_type": "display_data"
    }
   ],
   "source": [
    "sns.distplot(df['TV'])"
   ]
  },
  {
   "cell_type": "code",
   "execution_count": 15,
   "id": "f393ec84",
   "metadata": {},
   "outputs": [
    {
     "data": {
      "text/plain": [
       "<AxesSubplot:xlabel='radio', ylabel='Density'>"
      ]
     },
     "execution_count": 15,
     "metadata": {},
     "output_type": "execute_result"
    },
    {
     "data": {
      "image/png": "[encoded data removed]",
      "text/plain": [
       "<Figure size 432x288 with 1 Axes>"
      ]
     },
     "metadata": {
      "needs_background": "light"
     },
     "output_type": "display_data"
    }
   ],
   "source": [
    "sns.distplot(df['radio'])"
   ]
  },
  {
   "cell_type": "markdown",
   "id": "5fd97426",
   "metadata": {},
   "source": [
    "The data distribution in TV,radio are not normal distribution."
   ]
  },
  {
   "cell_type": "code",
   "execution_count": 16,
   "id": "f23b650e",
   "metadata": {},
   "outputs": [
    {
     "data": {
      "text/plain": [
       "<AxesSubplot:xlabel='newspaper', ylabel='Density'>"
      ]
     },
     "execution_count": 16,
     "metadata": {},
     "output_type": "execute_result"
    },
    {
     "data": {
      "image/png": "[encoded data removed]",
      "text/plain": [
       "<Figure size 432x288 with 1 Axes>"
      ]
     },
     "metadata": {
      "needs_background": "light"
     },
     "output_type": "display_data"
    }
   ],
   "source": [
    "sns.distplot(df['newspaper'])"
   ]
  },
  {
   "cell_type": "markdown",
   "id": "07edc4e6",
   "metadata": {},
   "source": [
    "There is skewness is present in the newspaper column."
   ]
  },
  {
   "cell_type": "code",
   "execution_count": 17,
   "id": "460297f2",
   "metadata": {},
   "outputs": [],
   "source": [
    "#removing skewness\n",
    "df['newspaper']=np.sqrt(df['newspaper'])"
   ]
  },
  {
   "cell_type": "code",
   "execution_count": 18,
   "id": "e7dba172",
   "metadata": {},
   "outputs": [
    {
     "data": {
      "text/plain": [
       "<AxesSubplot:xlabel='newspaper', ylabel='Density'>"
      ]
     },
     "execution_count": 18,
     "metadata": {},
     "output_type": "execute_result"
    },
    {
     "data": {
      "image/png": "[encoded data removed]",
      "text/plain": [
       "<Figure size 432x288 with 1 Axes>"
      ]
     },
     "metadata": {
      "needs_background": "light"
     },
     "output_type": "display_data"
    }
   ],
   "source": [
    "sns.distplot(df['newspaper'])"
   ]
  },
  {
   "cell_type": "markdown",
   "id": "4e480466",
   "metadata": {},
   "source": [
    "The distribution of data is good."
   ]
  },
  {
   "cell_type": "code",
   "execution_count": 19,
   "id": "0e3f20ca",
   "metadata": {},
   "outputs": [],
   "source": [
    "df['TV']=np.sqrt(df['TV'])\n",
    "df['radio']=np.sqrt(df['radio'])"
   ]
  },
  {
   "cell_type": "code",
   "execution_count": 20,
   "id": "4b28cdb2",
   "metadata": {},
   "outputs": [
    {
     "data": {
      "text/plain": [
       "<AxesSubplot:xlabel='TV', ylabel='Density'>"
      ]
     },
     "execution_count": 20,
     "metadata": {},
     "output_type": "execute_result"
    },
    {
     "data": {
      "image/png": "[encoded data removed]",
      "text/plain": [
       "<Figure size 432x288 with 1 Axes>"
      ]
     },
     "metadata": {
      "needs_background": "light"
     },
     "output_type": "display_data"
    }
   ],
   "source": [
    "sns.distplot(df['TV'])"
   ]
  },
  {
   "cell_type": "code",
   "execution_count": 21,
   "id": "5b9fe296",
   "metadata": {},
   "outputs": [
    {
     "data": {
      "text/plain": [
       "<AxesSubplot:xlabel='radio', ylabel='Density'>"
      ]
     },
     "execution_count": 21,
     "metadata": {},
     "output_type": "execute_result"
    },
    {
     "data": {
      "image/png": "[encoded data removed]",
      "text/plain": [
       "<Figure size 432x288 with 1 Axes>"
      ]
     },
     "metadata": {
      "needs_background": "light"
     },
     "output_type": "display_data"
    }
   ],
   "source": [
    "sns.distplot(df['radio'])"
   ]
  },
  {
   "cell_type": "code",
   "execution_count": 22,
   "id": "7ccb501f",
   "metadata": {},
   "outputs": [
    {
     "data": {
      "text/plain": [
       "<AxesSubplot:xlabel='sales', ylabel='Density'>"
      ]
     },
     "execution_count": 22,
     "metadata": {},
     "output_type": "execute_result"
    },
    {
     "data": {
      "image/png": "[encoded data removed]",
      "text/plain": [
       "<Figure size 432x288 with 1 Axes>"
      ]
     },
     "metadata": {
      "needs_background": "light"
     },
     "output_type": "display_data"
    }
   ],
   "source": [
    "sns.distplot(df['sales'])"
   ]
  },
  {
   "cell_type": "markdown",
   "id": "7713c38e",
   "metadata": {},
   "source": [
    "The data distribution in sales are normally distributed."
   ]
  },
  {
   "cell_type": "markdown",
   "id": "1fe31f77",
   "metadata": {},
   "source": [
    "Checking outliers"
   ]
  },
  {
   "cell_type": "code",
   "execution_count": 23,
   "id": "b3ff4fe0",
   "metadata": {},
   "outputs": [
    {
     "data": {
      "text/plain": [
       "<AxesSubplot:>"
      ]
     },
     "execution_count": 23,
     "metadata": {},
     "output_type": "execute_result"
    },
    {
     "data": {
      "image/png": "[encoded data removed]",
      "text/plain": [
       "<Figure size 432x288 with 1 Axes>"
      ]
     },
     "metadata": {
      "needs_background": "light"
     },
     "output_type": "display_data"
    }
   ],
   "source": [
    "df['TV'].plot.box()"
   ]
  },
  {
   "cell_type": "code",
   "execution_count": 24,
   "id": "729dd88f",
   "metadata": {},
   "outputs": [
    {
     "data": {
      "text/plain": [
       "<AxesSubplot:>"
      ]
     },
     "execution_count": 24,
     "metadata": {},
     "output_type": "execute_result"
    },
    {
     "data": {
      "image/png": "[encoded data removed]",
      "text/plain": [
       "<Figure size 432x288 with 1 Axes>"
      ]
     },
     "metadata": {
      "needs_background": "light"
     },
     "output_type": "display_data"
    }
   ],
   "source": [
    "df['radio'].plot.box()"
   ]
  },
  {
   "cell_type": "code",
   "execution_count": 25,
   "id": "8b7aae6b",
   "metadata": {},
   "outputs": [
    {
     "data": {
      "text/plain": [
       "<AxesSubplot:>"
      ]
     },
     "execution_count": 25,
     "metadata": {},
     "output_type": "execute_result"
    },
    {
     "data": {
      "image/png": "[encoded data removed]",
      "text/plain": [
       "<Figure size 432x288 with 1 Axes>"
      ]
     },
     "metadata": {
      "needs_background": "light"
     },
     "output_type": "display_data"
    }
   ],
   "source": [
    "df['newspaper'].plot.box()"
   ]
  },
  {
   "cell_type": "markdown",
   "id": "7889d086",
   "metadata": {},
   "source": [
    "There is no outliers present in the features."
   ]
  },
  {
   "cell_type": "code",
   "execution_count": 26,
   "id": "7f4577e6",
   "metadata": {},
   "outputs": [
    {
     "data": {
      "text/plain": [
       "<seaborn.axisgrid.FacetGrid at 0x21094370ee0>"
      ]
     },
     "execution_count": 26,
     "metadata": {},
     "output_type": "execute_result"
    },
    {
     "data": {
      "image/png": "[encoded data removed]",
      "text/plain": [
       "<Figure size 360x360 with 1 Axes>"
      ]
     },
     "metadata": {},
     "output_type": "display_data"
    }
   ],
   "source": [
    "sns.set(style='whitegrid')\n",
    "sns.displot(df['TV'])"
   ]
  },
  {
   "cell_type": "code",
   "execution_count": 27,
   "id": "c3f758a7",
   "metadata": {},
   "outputs": [
    {
     "data": {
      "text/plain": [
       "<seaborn.axisgrid.FacetGrid at 0x210943c1400>"
      ]
     },
     "execution_count": 27,
     "metadata": {},
     "output_type": "execute_result"
    },
    {
     "data": {
      "image/png": "[encoded data removed]",
      "text/plain": [
       "<Figure size 360x360 with 1 Axes>"
      ]
     },
     "metadata": {},
     "output_type": "display_data"
    }
   ],
   "source": [
    "sns.set(style='whitegrid')\n",
    "sns.displot(df['radio'])"
   ]
  },
  {
   "cell_type": "code",
   "execution_count": 28,
   "id": "8ecad859",
   "metadata": {},
   "outputs": [
    {
     "data": {
      "text/plain": [
       "<seaborn.axisgrid.FacetGrid at 0x21094377160>"
      ]
     },
     "execution_count": 28,
     "metadata": {},
     "output_type": "execute_result"
    },
    {
     "data": {
      "image/png": "[encoded data removed]",
      "text/plain": [
       "<Figure size 360x360 with 1 Axes>"
      ]
     },
     "metadata": {},
     "output_type": "display_data"
    }
   ],
   "source": [
    "sns.set(style='whitegrid')\n",
    "sns.displot(df['newspaper'])"
   ]
  },
  {
   "cell_type": "code",
   "execution_count": 29,
   "id": "ce38543d",
   "metadata": {},
   "outputs": [
    {
     "data": {
      "text/plain": [
       "<seaborn.axisgrid.FacetGrid at 0x210944d94f0>"
      ]
     },
     "execution_count": 29,
     "metadata": {},
     "output_type": "execute_result"
    },
    {
     "data": {
      "image/png": "[encoded data removed]",
      "text/plain": [
       "<Figure size 360x360 with 1 Axes>"
      ]
     },
     "metadata": {},
     "output_type": "display_data"
    }
   ],
   "source": [
    "sns.set(style='whitegrid')\n",
    "sns.displot(df['sales'])"
   ]
  },
  {
   "cell_type": "code",
   "execution_count": 30,
   "id": "8c34da1a",
   "metadata": {},
   "outputs": [
    {
     "data": {
      "text/plain": [
       "<AxesSubplot:xlabel='TV', ylabel='sales'>"
      ]
     },
     "execution_count": 30,
     "metadata": {},
     "output_type": "execute_result"
    },
    {
     "data": {
      "image/png": "[encoded data removed]",
      "text/plain": [
       "<Figure size 432x288 with 1 Axes>"
      ]
     },
     "metadata": {},
     "output_type": "display_data"
    }
   ],
   "source": [
    "sns.regplot(x=df['TV'],y=df['sales'],data=df)"
   ]
  },
  {
   "cell_type": "markdown",
   "id": "3e722e62",
   "metadata": {},
   "source": [
    "TV is positively correlated to sales, as the number of TV increases sale also increases."
   ]
  },
  {
   "cell_type": "code",
   "execution_count": 31,
   "id": "00dcf2e7",
   "metadata": {},
   "outputs": [
    {
     "data": {
      "text/plain": [
       "<AxesSubplot:xlabel='radio', ylabel='sales'>"
      ]
     },
     "execution_count": 31,
     "metadata": {},
     "output_type": "execute_result"
    },
    {
     "data": {
      "image/png": "[encoded data removed]",
      "text/plain": [
       "<Figure size 432x288 with 1 Axes>"
      ]
     },
     "metadata": {},
     "output_type": "display_data"
    }
   ],
   "source": [
    "sns.regplot(x=df['radio'],y=df['sales'],data=df)"
   ]
  },
  {
   "cell_type": "markdown",
   "id": "7656b26d",
   "metadata": {},
   "source": [
    "Radio is also positively correlated to sales."
   ]
  },
  {
   "cell_type": "code",
   "execution_count": 32,
   "id": "d69dbe88",
   "metadata": {},
   "outputs": [
    {
     "data": {
      "text/plain": [
       "<AxesSubplot:xlabel='newspaper', ylabel='sales'>"
      ]
     },
     "execution_count": 32,
     "metadata": {},
     "output_type": "execute_result"
    },
    {
     "data": {
      "image/png": "[encoded data removed]",
      "text/plain": [
       "<Figure size 432x288 with 1 Axes>"
      ]
     },
     "metadata": {},
     "output_type": "display_data"
    }
   ],
   "source": [
    "sns.regplot(x=df['newspaper'],y=df['sales'],data=df)"
   ]
  },
  {
   "cell_type": "markdown",
   "id": "959da627",
   "metadata": {},
   "source": [
    "news paper is least correlated to sales."
   ]
  },
  {
   "cell_type": "code",
   "execution_count": 33,
   "id": "2558e03e",
   "metadata": {},
   "outputs": [
    {
     "data": {
      "text/html": [
       "<div>\n",
       "<style scoped>\n",
       "    .dataframe tbody tr th:only-of-type {\n",
       "        vertical-align: middle;\n",
       "    }\n",
       "\n",
       "    .dataframe tbody tr th {\n",
       "        vertical-align: top;\n",
       "    }\n",
       "\n",
       "    .dataframe thead th {\n",
       "        text-align: right;\n",
       "    }\n",
       "</style>\n",
       "<table border=\"1\" class=\"dataframe\">\n",
       "  <thead>\n",
       "    <tr style=\"text-align: right;\">\n",
       "      <th></th>\n",
       "      <th>TV</th>\n",
       "      <th>radio</th>\n",
       "      <th>newspaper</th>\n",
       "    </tr>\n",
       "  </thead>\n",
       "  <tbody>\n",
       "    <tr>\n",
       "      <th>0</th>\n",
       "      <td>15.169047</td>\n",
       "      <td>6.148170</td>\n",
       "      <td>8.318654</td>\n",
       "    </tr>\n",
       "    <tr>\n",
       "      <th>1</th>\n",
       "      <td>6.670832</td>\n",
       "      <td>6.268971</td>\n",
       "      <td>6.715653</td>\n",
       "    </tr>\n",
       "    <tr>\n",
       "      <th>2</th>\n",
       "      <td>4.147288</td>\n",
       "      <td>6.774954</td>\n",
       "      <td>8.324662</td>\n",
       "    </tr>\n",
       "    <tr>\n",
       "      <th>3</th>\n",
       "      <td>12.308534</td>\n",
       "      <td>6.426508</td>\n",
       "      <td>7.648529</td>\n",
       "    </tr>\n",
       "    <tr>\n",
       "      <th>4</th>\n",
       "      <td>13.446189</td>\n",
       "      <td>3.286335</td>\n",
       "      <td>7.641989</td>\n",
       "    </tr>\n",
       "    <tr>\n",
       "      <th>...</th>\n",
       "      <td>...</td>\n",
       "      <td>...</td>\n",
       "      <td>...</td>\n",
       "    </tr>\n",
       "    <tr>\n",
       "      <th>195</th>\n",
       "      <td>6.180615</td>\n",
       "      <td>1.923538</td>\n",
       "      <td>3.714835</td>\n",
       "    </tr>\n",
       "    <tr>\n",
       "      <th>196</th>\n",
       "      <td>9.705668</td>\n",
       "      <td>2.213594</td>\n",
       "      <td>2.846050</td>\n",
       "    </tr>\n",
       "    <tr>\n",
       "      <th>197</th>\n",
       "      <td>13.304135</td>\n",
       "      <td>3.049590</td>\n",
       "      <td>2.529822</td>\n",
       "    </tr>\n",
       "    <tr>\n",
       "      <th>198</th>\n",
       "      <td>16.840428</td>\n",
       "      <td>6.480741</td>\n",
       "      <td>8.136338</td>\n",
       "    </tr>\n",
       "    <tr>\n",
       "      <th>199</th>\n",
       "      <td>15.234829</td>\n",
       "      <td>2.932576</td>\n",
       "      <td>2.949576</td>\n",
       "    </tr>\n",
       "  </tbody>\n",
       "</table>\n",
       "<p>200 rows × 3 columns</p>\n",
       "</div>"
      ],
      "text/plain": [
       "            TV     radio  newspaper\n",
       "0    15.169047  6.148170   8.318654\n",
       "1     6.670832  6.268971   6.715653\n",
       "2     4.147288  6.774954   8.324662\n",
       "3    12.308534  6.426508   7.648529\n",
       "4    13.446189  3.286335   7.641989\n",
       "..         ...       ...        ...\n",
       "195   6.180615  1.923538   3.714835\n",
       "196   9.705668  2.213594   2.846050\n",
       "197  13.304135  3.049590   2.529822\n",
       "198  16.840428  6.480741   8.136338\n",
       "199  15.234829  2.932576   2.949576\n",
       "\n",
       "[200 rows x 3 columns]"
      ]
     },
     "execution_count": 33,
     "metadata": {},
     "output_type": "execute_result"
    }
   ],
   "source": [
    "#Seperating independent variables and dependent variable.\n",
    "\n",
    "X=df.drop('sales',axis=1)\n",
    "Y=df['sales']\n",
    "X"
   ]
  },
  {
   "cell_type": "code",
   "execution_count": 34,
   "id": "88a87438",
   "metadata": {},
   "outputs": [
    {
     "data": {
      "text/plain": [
       "0      22.1\n",
       "1      10.4\n",
       "2       9.3\n",
       "3      18.5\n",
       "4      12.9\n",
       "       ... \n",
       "195     7.6\n",
       "196     9.7\n",
       "197    12.8\n",
       "198    25.5\n",
       "199    13.4\n",
       "Name: sales, Length: 200, dtype: float64"
      ]
     },
     "execution_count": 34,
     "metadata": {},
     "output_type": "execute_result"
    }
   ],
   "source": [
    "Y"
   ]
  },
  {
   "cell_type": "code",
   "execution_count": 35,
   "id": "30f969b3",
   "metadata": {},
   "outputs": [
    {
     "data": {
      "text/html": [
       "<div>\n",
       "<style scoped>\n",
       "    .dataframe tbody tr th:only-of-type {\n",
       "        vertical-align: middle;\n",
       "    }\n",
       "\n",
       "    .dataframe tbody tr th {\n",
       "        vertical-align: top;\n",
       "    }\n",
       "\n",
       "    .dataframe thead th {\n",
       "        text-align: right;\n",
       "    }\n",
       "</style>\n",
       "<table border=\"1\" class=\"dataframe\">\n",
       "  <thead>\n",
       "    <tr style=\"text-align: right;\">\n",
       "      <th></th>\n",
       "      <th>VIF</th>\n",
       "      <th>Features</th>\n",
       "    </tr>\n",
       "  </thead>\n",
       "  <tbody>\n",
       "    <tr>\n",
       "      <th>0</th>\n",
       "      <td>5.334219</td>\n",
       "      <td>TV</td>\n",
       "    </tr>\n",
       "    <tr>\n",
       "      <th>1</th>\n",
       "      <td>6.647235</td>\n",
       "      <td>radio</td>\n",
       "    </tr>\n",
       "    <tr>\n",
       "      <th>2</th>\n",
       "      <td>6.640685</td>\n",
       "      <td>newspaper</td>\n",
       "    </tr>\n",
       "  </tbody>\n",
       "</table>\n",
       "</div>"
      ],
      "text/plain": [
       "        VIF   Features\n",
       "0  5.334219         TV\n",
       "1  6.647235      radio\n",
       "2  6.640685  newspaper"
      ]
     },
     "execution_count": 35,
     "metadata": {},
     "output_type": "execute_result"
    }
   ],
   "source": [
    "#Checking multicollinearity\n",
    "from statsmodels.stats.outliers_influence import variance_inflation_factor\n",
    "vif=pd.DataFrame()\n",
    "vif['VIF']=[variance_inflation_factor(X.values,i) for i in range(X.shape[1])] \n",
    "vif['Features']=X.columns\n",
    "vif"
   ]
  },
  {
   "cell_type": "markdown",
   "id": "2c150a94",
   "metadata": {},
   "source": [
    "No multicollinearity present."
   ]
  },
  {
   "cell_type": "code",
   "execution_count": 36,
   "id": "1ad7d897",
   "metadata": {},
   "outputs": [
    {
     "data": {
      "text/plain": [
       "array([[ 9.12803621e-01,  9.38682050e-01,  1.56309461e+00],\n",
       "       [-1.14664513e+00,  1.00693575e+00,  7.74855194e-01],\n",
       "       [-1.75819812e+00,  1.29282131e+00,  1.56604912e+00],\n",
       "       [ 2.19589658e-01,  1.09594548e+00,  1.23357596e+00],\n",
       "       [ 4.95287899e-01, -6.78285088e-01,  1.23036007e+00],\n",
       "       [-2.04845041e+00,  1.41593691e+00,  1.73106889e+00],\n",
       "       [-9.25621467e-01,  7.00788843e-01, -1.43678801e-01],\n",
       "       [-1.06345970e-01, -3.36908504e-02, -8.52652825e-01],\n",
       "       [-2.05257032e+00, -1.71632122e+00, -2.03568892e+00],\n",
       "       [ 6.62228849e-01, -1.62404715e+00, -2.63332869e-01],\n",
       "       [-7.92985665e-01, -1.17437367e+00, -1.08436840e-01],\n",
       "       [ 7.87659143e-01,  2.32875924e-01, -1.54396138e+00],\n",
       "       [-1.58099111e+00,  8.12320165e-01,  1.46436938e+00],\n",
       "       [-3.70342100e-01, -9.77472654e-01, -1.20797302e+00],\n",
       "       [ 6.98893364e-01,  7.05717845e-01,  8.07641928e-01],\n",
       "       [ 6.24300915e-01,  1.36715681e+00,  1.04903522e+00],\n",
       "       [-7.67810308e-01,  8.83097961e-01,  2.72279688e+00],\n",
       "       [ 1.30198399e+00,  1.02042927e+00,  1.14575858e+00],\n",
       "       [-7.47313715e-01,  2.30948859e-02, -4.23879865e-01],\n",
       "       [ 1.77952797e-01,  2.27103290e-01, -3.78392733e-01],\n",
       "       [ 8.18125453e-01,  4.38595975e-01,  1.06589741e+00],\n",
       "       [ 9.70660306e-01, -1.25912579e+00, -1.43678801e-01],\n",
       "       [-1.88278648e+00, -2.82130704e-01,  9.35686184e-01],\n",
       "       [ 8.98397094e-01, -2.12362886e-01, -1.04630767e-02],\n",
       "       [-8.50457743e-01, -5.29510723e-01, -4.23879865e-01],\n",
       "       [ 1.16608271e+00, -1.47806133e+00, -3.56006466e-01],\n",
       "       [ 1.33691442e-01,  5.23273260e-01, -7.81956865e-01],\n",
       "       [ 9.91833533e-01, -2.26147794e-01, -1.74306253e-01],\n",
       "       [ 1.05926066e+00,  4.06213572e-01, -1.74306253e-01],\n",
       "       [-7.27023430e-01, -2.75057002e-01,  6.13487141e-01],\n",
       "       [ 1.38421933e+00,  4.70629524e-01,  7.04546681e-01],\n",
       "       [-1.88289231e-01, -1.78253330e-01,  5.27632526e-01],\n",
       "       [-3.74026329e-01, -1.84310553e+00,  1.65886160e-01],\n",
       "       [ 1.18620841e+00, -8.29518922e-03, -2.25808619e+00],\n",
       "       [-3.92533357e-01, -1.86656981e+00, -1.18977295e+00],\n",
       "       [ 1.36861396e+00, -1.39104011e+00, -1.09379666e+00],\n",
       "       [ 1.19586207e+00,  1.20422933e+00, -1.42788026e+00],\n",
       "       [-6.68732291e-01,  1.43608511e+00,  7.96748948e-01],\n",
       "       [-1.17227805e+00,  3.84425769e-01,  3.85835748e-01],\n",
       "       [ 8.95990492e-01,  9.34084058e-01,  2.54214524e-01],\n",
       "       [ 6.85296292e-01,  1.33043128e-01,  2.36774660e-01],\n",
       "       [ 4.60862594e-01,  7.30251255e-01,  5.31587283e-01],\n",
       "       [ 1.38917237e+00,  4.38595975e-01, -1.86769474e+00],\n",
       "       [ 7.22560619e-01, -8.97543093e-01, -8.74648181e-04],\n",
       "       [-1.54913186e+00,  3.29231280e-01,  7.08285217e-01],\n",
       "       [ 4.43511357e-01,  1.44981185e-01,  2.32397474e-01],\n",
       "       [-4.68053277e-01, -7.57335041e-01,  4.10629831e-01],\n",
       "       [ 9.90269242e-01,  1.10472674e+00, -4.12416366e-01],\n",
       "       [ 8.89565135e-01, -2.89226686e-01,  9.46143488e-01],\n",
       "       [-7.81098607e-01, -6.02465791e-01,  4.55550447e-01],\n",
       "       [ 6.62228849e-01, -1.54029556e+00,  3.65011663e-01],\n",
       "       [-3.35016055e-01, -7.84478075e-01, -1.59442906e+00],\n",
       "       [ 8.01689509e-01,  1.11348686e+00,  5.66952663e-01],\n",
       "       [ 5.11468314e-01,  1.30531049e+00,  1.23999953e+00],\n",
       "       [ 1.16458782e+00,  4.97065643e-01, -5.66662552e-01],\n",
       "       [ 6.54505105e-01,  1.43608511e+00,  1.28148863e+00],\n",
       "       [-2.10848384e+00,  4.59989742e-01,  6.36497731e-01],\n",
       "       [ 6.49633273e-02, -5.93470004e-02, -5.23966170e-01],\n",
       "       [ 7.55260439e-01,  1.44411582e+00,  4.91806608e-01],\n",
       "       [ 7.54425779e-01,  5.33693640e-01, -1.02784902e+00],\n",
       "       [-9.90690940e-01, -1.73605371e+00, -2.52678300e-01],\n",
       "       [ 1.15410758e+00,  1.15697572e+00,  1.10937324e+00],\n",
       "       [ 9.85572452e-01, -3.10650445e-01,  4.18304911e-02],\n",
       "       [-3.07360136e-01,  5.38890584e-01, -1.10225467e+00],\n",
       "       [ 1.15070493e-02,  1.16129647e+00,  1.16047828e-01],\n",
       "       [-7.50229022e-01, -8.12048637e-01, -2.06092275e+00],\n",
       "       [-1.40312359e+00,  2.67262029e-01, -1.79806665e+00],\n",
       "       [ 9.69681940e-02, -3.83603134e-01, -9.56964653e-01],\n",
       "       [ 9.70660306e-01,  4.27841164e-01, -8.96540728e-01],\n",
       "       [ 8.04982755e-01,  1.20849554e+00,  3.71205936e-02],\n",
       "       [ 6.56223000e-01,  5.90384785e-01,  5.31587283e-01],\n",
       "       [-2.23886801e-01, -3.98492560e-01,  2.41144925e-01],\n",
       "       [-1.50868994e+00,  7.10639362e-01, -3.67170601e-01],\n",
       "       [-6.54205379e-03, -1.18615506e+00,  2.23622209e-01],\n",
       "       [ 7.76892520e-01,  2.67262029e-01, -7.47661651e-01],\n",
       "       [-1.76700164e+00,  1.19995825e+00,  2.12194471e+00],\n",
       "       [-1.49241141e+00, -1.82041121e+00, -2.90191276e-01],\n",
       "       [-1.03032435e-01,  4.81231775e-01, -6.74445131e-01],\n",
       "       [-2.20010280e+00,  5.54428964e-01, -1.01980839e+00],\n",
       "       [-1.53177114e-01, -9.67258599e-01, -1.64053001e-01],\n",
       "       [-6.45033193e-01,  3.84425769e-01, -2.05337635e-01],\n",
       "       [ 9.89486852e-01, -1.39104011e+00,  4.59600641e-01],\n",
       "       [-6.60337406e-01,  1.05853037e-02,  2.75861785e-01],\n",
       "       [-7.59000387e-01,  1.23399137e+00,  4.06512034e-01],\n",
       "       [ 7.77721884e-01,  1.16992284e+00,  3.31377634e-01],\n",
       "       [ 6.05176803e-01, -1.11473940e-01,  1.45830743e+00],\n",
       "       [-6.46419913e-01,  4.27841164e-01, -5.60506324e-01],\n",
       "       [-2.13500824e-01,  1.06504241e+00,  1.38174010e+00],\n",
       "       [-4.86034932e-01,  3.18064256e-01,  1.68540016e+00],\n",
       "       [-2.23886801e-01,  1.37124508e+00,  9.97964748e-01],\n",
       "       [ 4.51671698e-02, -1.28439510e+00, -1.02784902e+00],\n",
       "       [-1.46724389e+00, -1.84310553e+00,  2.97343158e-01],\n",
       "       [ 8.12381466e-01,  7.35135851e-01,  1.24961438e+00],\n",
       "       [ 1.07535874e+00,  8.78425098e-01,  1.65371357e+00],\n",
       "       [-2.51792713e-01, -4.21023314e-01, -9.03970725e-01],\n",
       "       [ 3.33575055e-01,  6.41044230e-01,  1.04903522e+00],\n",
       "       [ 6.43317668e-01, -1.47806133e+00, -1.33301442e+00],\n",
       "       [ 5.32027671e-01,  5.41044330e-02, -2.21009887e-01],\n",
       "       [ 1.36150109e+00,  1.13964194e+00,  9.91099345e-01],\n",
       "       [ 5.45616334e-02,  1.11348686e+00,  8.04014892e-01],\n",
       "       [ 8.50773103e-01, -1.36346846e+00,  9.42661222e-01],\n",
       "       [ 1.40892576e+00,  8.69060130e-01,  2.41193703e+00],\n",
       "       [ 1.29330686e+00, -7.39467614e-01, -2.52678300e-01],\n",
       "       [ 5.58653006e-01, -1.91837570e-01, -4.46996354e-01],\n",
       "       [ 9.76946351e-01,  7.73953058e-01, -1.39537466e+00],\n",
       "       [ 8.25589544e-02,  1.31361408e+00,  1.24961438e+00],\n",
       "       [-1.55155284e+00, -6.61171230e-01,  1.52385811e-01],\n",
       "       [-4.59115073e-01, -2.22563031e+00, -1.58943020e-01],\n",
       "       [-1.88612790e+00, -2.17775528e+00, -3.94500707e-02],\n",
       "       [ 1.10962929e+00,  3.95339920e-01, -1.37421317e+00],\n",
       "       [ 8.78293479e-01, -9.17155253e-01,  1.16872641e+00],\n",
       "       [ 1.00432448e+00,  9.47859823e-01, -1.58943020e-01],\n",
       "       [ 4.49000820e-01, -3.17837697e-01, -1.76563543e+00],\n",
       "       [ 7.45231417e-01,  2.93267934e-02, -9.18933677e-01],\n",
       "       [-6.20225671e-01,  1.33016777e+00,  3.60828829e-01],\n",
       "       [-6.63131972e-01,  8.07548360e-01,  1.04226804e+00],\n",
       "       [ 9.59413708e-02, -3.98492560e-01, -3.94500707e-02],\n",
       "       [-6.45033193e-01, -2.02973852e+00, -6.35702865e-01],\n",
       "       [-4.62398293e-02,  8.97078376e-01,  1.84868232e+00],\n",
       "       [-1.69585524e+00, -2.75057002e-01, -2.05337635e-01],\n",
       "       [ 1.17427796e-01,  3.89887935e-01,  8.14884191e-01],\n",
       "       [-1.71249095e+00,  9.69040893e-02,  9.63502716e-01],\n",
       "       [ 8.63749880e-01, -1.65978871e+00, -5.85248317e-01],\n",
       "       [-7.44861798e-02,  7.88392628e-01, -7.95865131e-01],\n",
       "       [ 9.08007727e-01,  6.76030344e-01,  1.70829607e+00],\n",
       "       [-5.00263608e-01, -5.94224246e-01, -2.49146030e-02],\n",
       "       [-2.08643177e+00,  9.88864025e-01,  9.70422285e-01],\n",
       "       [-5.92994312e-01, -2.53509935e+00, -1.03593300e+00],\n",
       "       [ 8.33670035e-01,  1.41997476e+00, -1.64778750e+00],\n",
       "       [-8.92365731e-01, -5.77845263e-01,  7.00803816e-01],\n",
       "       [-2.56049235e+00,  1.02042927e+00, -1.07702861e+00],\n",
       "       [ 1.18323330e+00, -1.57292099e+00,  6.97056606e-01],\n",
       "       [-2.06088262e+00,  4.11635352e-01, -1.81483556e+00],\n",
       "       [ 8.29585876e-01,  7.35135851e-01,  7.74855194e-01],\n",
       "       [-1.29115064e+00,  9.75249177e-01,  1.45527300e+00],\n",
       "       [-1.07903544e+00,  1.33841808e+00, -1.09379666e+00],\n",
       "       [-1.53709871e+00,  9.93390634e-01, -1.02784902e+00],\n",
       "       [ 1.24597938e+00,  5.02325256e-01,  1.27195443e+00],\n",
       "       [-1.17412479e+00,  3.40354936e-01, -3.01025360e-01],\n",
       "       [ 5.32027671e-01,  1.20849554e+00, -1.88628219e+00],\n",
       "       [-6.87037650e-01, -2.05501020e-01, -7.61299819e-01],\n",
       "       [ 6.09532714e-01,  8.26594940e-01,  1.74806889e+00],\n",
       "       [ 8.35302401e-01,  7.20460077e-01,  4.99804564e-01],\n",
       "       [-2.84746689e-01, -1.18615506e+00,  3.56639928e-01],\n",
       "       [-3.86348337e-01, -3.61460222e-01,  5.39481500e-01],\n",
       "       [ 1.07216223e-01, -1.75628600e+00, -1.05223385e+00],\n",
       "       [ 9.91833533e-01, -1.00852481e+00, -1.07702861e+00],\n",
       "       [ 1.01599725e+00,  1.41997476e+00,  7.45435707e-01],\n",
       "       [-1.26936995e+00,  1.05171673e+00, -8.31134637e-01],\n",
       "       [-1.14301638e+00,  3.34798497e-01, -2.95601744e-01],\n",
       "       [ 1.29692459e+00, -4.28587116e-01,  4.63645352e-01],\n",
       "       [-9.75190298e-02, -8.97543093e-01,  9.04123071e-01],\n",
       "       [ 6.43317668e-01,  1.92210908e-01, -6.74445131e-01],\n",
       "       [ 4.08524137e-01,  1.02491574e+00,  4.91806608e-01],\n",
       "       [ 5.57768934e-01,  6.02618824e-02, -1.01181041e+00],\n",
       "       [-2.27254866e+00, -6.10742633e-01, -1.35343306e+00],\n",
       "       [-4.14934310e-01,  1.19140141e+00,  9.66964214e-01],\n",
       "       [ 2.02807054e-01, -1.89088816e+00, -1.03444101e-01],\n",
       "       [-1.93432087e+00,  8.97078376e-01,  7.78514222e-01],\n",
       "       [ 1.78493541e-02, -1.11473940e-01,  3.65011663e-01],\n",
       "       [ 4.19614282e-01, -1.31312954e-01,  1.97126837e-01],\n",
       "       [-5.19811778e-01,  8.45534213e-01,  9.25197207e-01],\n",
       "       [ 5.63069842e-01, -1.31312954e-01, -3.94500707e-02],\n",
       "       [ 3.35470876e-01,  8.92424574e-01, -1.18977295e+00],\n",
       "       [-1.39711484e-01, -3.68816044e-01, -1.38474492e+00],\n",
       "       [ 9.47784136e-01, -1.49327130e+00,  2.00075071e+00],\n",
       "       [-1.73795048e+00,  9.29479963e-01, -2.42073402e-01],\n",
       "       [ 7.21718128e-01, -1.24667698e+00, -3.61581340e-01],\n",
       "       [ 7.93443056e-01,  2.09712544e-01,  1.20453312e+00],\n",
       "       [ 1.32287766e+00, -6.95558154e-01, -1.28343326e+00],\n",
       "       [-1.04965240e+00, -6.10742633e-01, -4.18140328e-01],\n",
       "       [ 3.44932634e-01,  4.79323056e-02,  8.58012435e-01],\n",
       "       [-1.69036733e+00, -1.98605541e-03, -4.99971899e-01],\n",
       "       [ 3.81561495e-01, -1.02958202e+00, -7.68158551e-01],\n",
       "       [ 8.50773103e-01, -1.49327130e+00, -7.47661651e-01],\n",
       "       [ 1.26934848e+00,  1.41593691e+00,  6.51745599e-01],\n",
       "       [ 1.05618667e+00,  5.69889586e-01, -3.11912423e-01],\n",
       "       [ 3.98323996e-01, -9.57110657e-01,  3.89982728e-01],\n",
       "       [ 1.26789188e+00, -1.67821837e+00, -1.33556727e-01],\n",
       "       [ 3.55307411e-01, -7.48378993e-01, -4.64503706e-01],\n",
       "       [ 2.69380269e-01, -1.62404715e+00, -1.11076317e+00],\n",
       "       [ 8.18945270e-01, -1.22213339e+00,  4.65317703e-02],\n",
       "       [-9.46513393e-01, -1.18615506e+00,  1.52385811e-01],\n",
       "       [ 1.34652400e+00,  1.16992284e+00,  1.63923092e+00],\n",
       "       [ 1.09747905e+00,  7.25331623e-02,  1.65886160e-01],\n",
       "       [ 7.06518301e-01,  1.25931589e+00, -3.50445868e-01],\n",
       "       [ 9.90207352e-02, -1.71632122e+00,  8.67752879e-03],\n",
       "       [ 5.86820130e-01,  4.91796890e-01, -4.29635106e-01],\n",
       "       [ 1.33507614e+00, -4.28587116e-01, -1.58155966e+00],\n",
       "       [-1.71528924e+00, -5.69706957e-01, -1.48755990e-01],\n",
       "       [-1.24017088e+00,  1.08714294e+00, -1.34317973e+00],\n",
       "       [-6.57546548e-01, -6.78285088e-01, -1.32293490e+00],\n",
       "       [-1.75819812e+00, -1.39104011e+00,  2.36774660e-01],\n",
       "       [ 3.66586128e-01,  1.12658776e+00, -1.59442906e+00],\n",
       "       [ 2.01816884e-01,  8.36077877e-01, -1.32293490e+00],\n",
       "       [-1.26544385e+00, -1.44827979e+00, -7.00729744e-01],\n",
       "       [-4.11186002e-01, -1.28439510e+00, -1.12793536e+00],\n",
       "       [ 4.60862594e-01, -8.12048637e-01, -1.28343326e+00],\n",
       "       [ 1.31784415e+00,  1.12658776e+00,  1.47344507e+00],\n",
       "       [ 9.28744941e-01, -8.78163055e-01, -1.07702861e+00]])"
      ]
     },
     "execution_count": 36,
     "metadata": {},
     "output_type": "execute_result"
    }
   ],
   "source": [
    "#Scaling dataponits using standardscaler\n",
    "from sklearn.preprocessing import StandardScaler\n",
    "\n",
    "scale=StandardScaler()\n",
    "X_scale=scale.fit_transform(X)\n",
    "X_scale"
   ]
  },
  {
   "cell_type": "code",
   "execution_count": 37,
   "id": "9b56bb4d",
   "metadata": {},
   "outputs": [
    {
     "name": "stdout",
     "output_type": "stream",
     "text": [
      "(200, 3)\n",
      "(200,)\n"
     ]
    }
   ],
   "source": [
    "from sklearn.model_selection import train_test_split\n",
    "\n",
    "x_train,x_test,y_train,y_test=train_test_split(X_scale,Y,test_size=0.25,random_state=52)\n",
    "print(X.shape)\n",
    "print(Y.shape)"
   ]
  },
  {
   "cell_type": "markdown",
   "id": "10967fec",
   "metadata": {},
   "source": [
    "Linear Regression"
   ]
  },
  {
   "cell_type": "code",
   "execution_count": 38,
   "id": "c933edde",
   "metadata": {},
   "outputs": [
    {
     "data": {
      "text/plain": [
       "0.9192983782714612"
      ]
     },
     "execution_count": 38,
     "metadata": {},
     "output_type": "execute_result"
    }
   ],
   "source": [
    "from sklearn.linear_model import LinearRegression\n",
    "from sklearn.metrics import r2_score\n",
    "\n",
    "lr=LinearRegression()\n",
    "lr.fit(x_train,y_train)\n",
    "lr.score(x_train,y_train)"
   ]
  },
  {
   "cell_type": "code",
   "execution_count": 39,
   "id": "ab047b82",
   "metadata": {},
   "outputs": [
    {
     "name": "stdout",
     "output_type": "stream",
     "text": [
      "0.8727984872780221\n"
     ]
    }
   ],
   "source": [
    "predlr=lr.predict(x_test)\n",
    "print(r2_score(y_test,predlr))"
   ]
  },
  {
   "cell_type": "markdown",
   "id": "87d2e2ed",
   "metadata": {},
   "source": [
    "Lasso and Ridge Regression"
   ]
  },
  {
   "cell_type": "code",
   "execution_count": 40,
   "id": "a1fb07a0",
   "metadata": {},
   "outputs": [
    {
     "data": {
      "text/plain": [
       "0.8223443499625055"
      ]
     },
     "execution_count": 40,
     "metadata": {},
     "output_type": "execute_result"
    }
   ],
   "source": [
    "from sklearn.linear_model import Ridge,Lasso\n",
    "#Lasso\n",
    "lso=Lasso()\n",
    "lso.fit(x_train,y_train)\n",
    "lso.score(x_train,y_train)"
   ]
  },
  {
   "cell_type": "code",
   "execution_count": 41,
   "id": "505c3c44",
   "metadata": {},
   "outputs": [
    {
     "name": "stdout",
     "output_type": "stream",
     "text": [
      "0.8540670570945883\n"
     ]
    }
   ],
   "source": [
    "predlso=lso.predict(x_test)\n",
    "print(r2_score(y_test,predlso))"
   ]
  },
  {
   "cell_type": "code",
   "execution_count": 42,
   "id": "50f91f0c",
   "metadata": {},
   "outputs": [
    {
     "data": {
      "text/plain": [
       "0.9192409135082248"
      ]
     },
     "execution_count": 42,
     "metadata": {},
     "output_type": "execute_result"
    }
   ],
   "source": [
    "#Ridge\n",
    "\n",
    "rdg=Ridge()\n",
    "rdg.fit(x_train,y_train)\n",
    "rdg.score(x_train,y_train)"
   ]
  },
  {
   "cell_type": "code",
   "execution_count": 43,
   "id": "1eddff3c",
   "metadata": {},
   "outputs": [
    {
     "name": "stdout",
     "output_type": "stream",
     "text": [
      "0.8753013562218002\n"
     ]
    }
   ],
   "source": [
    "predrdg=rdg.predict(x_test)\n",
    "print(r2_score(y_test,predrdg))"
   ]
  },
  {
   "cell_type": "markdown",
   "id": "fe0b74e1",
   "metadata": {},
   "source": [
    "Support Vector Regression"
   ]
  },
  {
   "cell_type": "code",
   "execution_count": 44,
   "id": "01bc3d3d",
   "metadata": {},
   "outputs": [
    {
     "data": {
      "text/plain": [
       "0.9185280416935248"
      ]
     },
     "execution_count": 44,
     "metadata": {},
     "output_type": "execute_result"
    }
   ],
   "source": [
    "from sklearn.svm import SVR\n",
    "\n",
    "svr=SVR()\n",
    "svr.fit(x_train,y_train)\n",
    "svr.score(x_train,y_train)"
   ]
  },
  {
   "cell_type": "code",
   "execution_count": 45,
   "id": "a34877d7",
   "metadata": {},
   "outputs": [
    {
     "name": "stdout",
     "output_type": "stream",
     "text": [
      "0.8820981748668049\n"
     ]
    }
   ],
   "source": [
    "predsvr=svr.predict(x_test)\n",
    "print(r2_score(y_test,predsvr))"
   ]
  },
  {
   "cell_type": "markdown",
   "id": "c8d155cd",
   "metadata": {},
   "source": [
    "Cross validation"
   ]
  },
  {
   "cell_type": "code",
   "execution_count": 46,
   "id": "b271636b",
   "metadata": {},
   "outputs": [
    {
     "name": "stdout",
     "output_type": "stream",
     "text": [
      "[0.90729489 0.88806591 0.92230622 0.9140784  0.90341882 0.85141486\n",
      " 0.87803742 0.94506039 0.85217529 0.90532712]\n",
      "0.8967179323158347\n",
      "0.028256443607716297\n"
     ]
    }
   ],
   "source": [
    "from sklearn.model_selection import cross_val_score\n",
    "#linear\n",
    "score=cross_val_score(lr,X,Y,cv=10)\n",
    "print(score)\n",
    "print(score.mean())\n",
    "print(score.std())"
   ]
  },
  {
   "cell_type": "code",
   "execution_count": 47,
   "id": "f76e0cd4",
   "metadata": {},
   "outputs": [
    {
     "name": "stdout",
     "output_type": "stream",
     "text": [
      "[0.90817263 0.86883425 0.87308425 0.92689769 0.88701259 0.88813797\n",
      " 0.87505948 0.92138359 0.78717723 0.89096928]\n",
      "0.8826728968916127\n",
      "0.036990475828780435\n"
     ]
    }
   ],
   "source": [
    "#lasso\n",
    "score=cross_val_score(lso,X,Y,cv=10)\n",
    "print(score)\n",
    "print(score.mean())\n",
    "print(score.std())"
   ]
  },
  {
   "cell_type": "code",
   "execution_count": 48,
   "id": "8845ea9d",
   "metadata": {},
   "outputs": [
    {
     "name": "stdout",
     "output_type": "stream",
     "text": [
      "[0.90735876 0.88796291 0.92198272 0.91432477 0.90349548 0.85191425\n",
      " 0.8781958  0.94501343 0.85162556 0.90538794]\n",
      "0.8967261623102237\n",
      "0.028240942163811854\n"
     ]
    }
   ],
   "source": [
    "#Ridge\n",
    "score=cross_val_score(rdg,X,Y,cv=10)\n",
    "print(score)\n",
    "print(score.mean())\n",
    "print(score.std())"
   ]
  },
  {
   "cell_type": "code",
   "execution_count": 49,
   "id": "07d804e4",
   "metadata": {},
   "outputs": [
    {
     "name": "stdout",
     "output_type": "stream",
     "text": [
      "[0.94306727 0.92387964 0.92859027 0.97090979 0.94814247 0.94314746\n",
      " 0.88071354 0.9463119  0.93065248 0.92617165]\n",
      "0.9341586475836685\n",
      "0.022188256988251845\n"
     ]
    }
   ],
   "source": [
    "#SVR\n",
    "score=cross_val_score(svr,X,Y,cv=10)\n",
    "print(score)\n",
    "print(score.mean())\n",
    "print(score.std())"
   ]
  },
  {
   "cell_type": "markdown",
   "id": "64d248a1",
   "metadata": {},
   "source": [
    "Hyperparameter Tuning"
   ]
  },
  {
   "cell_type": "code",
   "execution_count": 50,
   "id": "773ffa48",
   "metadata": {},
   "outputs": [
    {
     "data": {
      "text/plain": [
       "GridSearchCV(cv=10, estimator=SVR(),\n",
       "             param_grid={'C': [1, 10, 100, 1000], 'gamma': ['scale', 'auto'],\n",
       "                         'kernel': ('poly', 'rbf', 'linear', 'sigmoid')})"
      ]
     },
     "execution_count": 50,
     "metadata": {},
     "output_type": "execute_result"
    }
   ],
   "source": [
    "#SVR\n",
    "from sklearn.model_selection import GridSearchCV\n",
    "\n",
    "grid_para={'kernel':('poly','rbf','linear','sigmoid'),'C':[1,10,100,1000],'gamma':['scale','auto']}\n",
    "grid_search=GridSearchCV(estimator=svr,param_grid=grid_para,cv=10)\n",
    "grid_search.fit(x_train,y_train)"
   ]
  },
  {
   "cell_type": "code",
   "execution_count": 51,
   "id": "67783b02",
   "metadata": {},
   "outputs": [
    {
     "name": "stdout",
     "output_type": "stream",
     "text": [
      "{'C': 100, 'gamma': 'auto', 'kernel': 'rbf'}\n"
     ]
    }
   ],
   "source": [
    "best_para=grid_search.best_params_\n",
    "print(best_para)"
   ]
  },
  {
   "cell_type": "code",
   "execution_count": 52,
   "id": "f58de9f5",
   "metadata": {},
   "outputs": [
    {
     "name": "stdout",
     "output_type": "stream",
     "text": [
      "0.9640831159043042\n"
     ]
    }
   ],
   "source": [
    "svr=SVR(C=100,gamma='auto',kernel='rbf')\n",
    "svr.fit(x_train,y_train)\n",
    "predsvr=svr.predict(x_test)\n",
    "print(r2_score(y_test,predsvr))"
   ]
  },
  {
   "cell_type": "code",
   "execution_count": 53,
   "id": "a4477ad2",
   "metadata": {},
   "outputs": [
    {
     "data": {
      "text/plain": [
       "GridSearchCV(cv=10, estimator=Ridge(),\n",
       "             param_grid={'alpha': [1, 10, 100, 1000],\n",
       "                         'max_iter': [1000, 2000, 3000, 4000, 5000],\n",
       "                         'solver': ['svd', 'auto', 'sag', 'saga', 'lbfgs']})"
      ]
     },
     "execution_count": 53,
     "metadata": {},
     "output_type": "execute_result"
    }
   ],
   "source": [
    "#Ridge\n",
    "\n",
    "grid_para={'alpha':[1,10,100,1000],'solver':['svd','auto','sag','saga','lbfgs'],'max_iter':[1000,2000,3000,4000,5000]}\n",
    "grid_search=GridSearchCV(estimator=rdg,param_grid=grid_para,cv=10)\n",
    "grid_search.fit(x_train,y_train)"
   ]
  },
  {
   "cell_type": "code",
   "execution_count": 54,
   "id": "5d693e79",
   "metadata": {},
   "outputs": [
    {
     "name": "stdout",
     "output_type": "stream",
     "text": [
      "{'alpha': 10, 'max_iter': 5000, 'solver': 'saga'}\n"
     ]
    }
   ],
   "source": [
    "best_para=grid_search.best_params_\n",
    "print(best_para)"
   ]
  },
  {
   "cell_type": "code",
   "execution_count": 59,
   "id": "8489c3be",
   "metadata": {},
   "outputs": [
    {
     "name": "stdout",
     "output_type": "stream",
     "text": [
      "0.8903361456460298\n"
     ]
    }
   ],
   "source": [
    "rdg=Ridge(alpha=10,max_iter=5000,solver='saga')\n",
    "rdg.fit(x_train,y_train)\n",
    "predrdg=rdg.predict(x_test)\n",
    "print(r2_score(y_test,predrdg))"
   ]
  },
  {
   "cell_type": "markdown",
   "id": "c1b5448f",
   "metadata": {},
   "source": [
    "The Ridge regression model r2 score and crossvalidation score is 89%.\n",
    "\n",
    "This model gives better result."
   ]
  },
  {
   "cell_type": "code",
   "execution_count": 56,
   "id": "c74470d4",
   "metadata": {},
   "outputs": [],
   "source": [
    "import pickle\n",
    "filename=\"Advertising.pkl\"\n",
    "pickle.dump(rdg,open(filename, 'wb'))"
   ]
  },
  {
   "cell_type": "markdown",
   "id": "354b4753",
   "metadata": {},
   "source": [
    "Conclusion"
   ]
  },
  {
   "cell_type": "code",
   "execution_count": 57,
   "id": "e2ef2c39",
   "metadata": {},
   "outputs": [
    {
     "name": "stdout",
     "output_type": "stream",
     "text": [
      "0.890341056766932\n"
     ]
    }
   ],
   "source": [
    "model=pickle.load(open(\"Advertising.pkl\",'rb'))\n",
    "result=model.score(x_test,y_test)\n",
    "print(result)"
   ]
  },
  {
   "cell_type": "code",
   "execution_count": 58,
   "id": "1b0b7f16",
   "metadata": {},
   "outputs": [
    {
     "data": {
      "text/html": [
       "<div>\n",
       "<style scoped>\n",
       "    .dataframe tbody tr th:only-of-type {\n",
       "        vertical-align: middle;\n",
       "    }\n",
       "\n",
       "    .dataframe tbody tr th {\n",
       "        vertical-align: top;\n",
       "    }\n",
       "\n",
       "    .dataframe thead th {\n",
       "        text-align: right;\n",
       "    }\n",
       "</style>\n",
       "<table border=\"1\" class=\"dataframe\">\n",
       "  <thead>\n",
       "    <tr style=\"text-align: right;\">\n",
       "      <th></th>\n",
       "      <th>0</th>\n",
       "      <th>1</th>\n",
       "      <th>2</th>\n",
       "      <th>3</th>\n",
       "      <th>4</th>\n",
       "      <th>5</th>\n",
       "      <th>6</th>\n",
       "      <th>7</th>\n",
       "      <th>8</th>\n",
       "      <th>9</th>\n",
       "      <th>...</th>\n",
       "      <th>40</th>\n",
       "      <th>41</th>\n",
       "      <th>42</th>\n",
       "      <th>43</th>\n",
       "      <th>44</th>\n",
       "      <th>45</th>\n",
       "      <th>46</th>\n",
       "      <th>47</th>\n",
       "      <th>48</th>\n",
       "      <th>49</th>\n",
       "    </tr>\n",
       "  </thead>\n",
       "  <tbody>\n",
       "    <tr>\n",
       "      <th>Predicted</th>\n",
       "      <td>6.630786</td>\n",
       "      <td>16.813914</td>\n",
       "      <td>7.039362</td>\n",
       "      <td>15.266486</td>\n",
       "      <td>19.709004</td>\n",
       "      <td>16.750849</td>\n",
       "      <td>5.73809</td>\n",
       "      <td>19.517042</td>\n",
       "      <td>14.093314</td>\n",
       "      <td>7.159642</td>\n",
       "      <td>...</td>\n",
       "      <td>4.97105</td>\n",
       "      <td>15.691259</td>\n",
       "      <td>18.753286</td>\n",
       "      <td>16.857795</td>\n",
       "      <td>13.157397</td>\n",
       "      <td>21.807466</td>\n",
       "      <td>15.406129</td>\n",
       "      <td>10.442779</td>\n",
       "      <td>10.608126</td>\n",
       "      <td>6.130312</td>\n",
       "    </tr>\n",
       "    <tr>\n",
       "      <th>Original</th>\n",
       "      <td>6.630786</td>\n",
       "      <td>16.813914</td>\n",
       "      <td>7.039362</td>\n",
       "      <td>15.266486</td>\n",
       "      <td>19.709004</td>\n",
       "      <td>16.750849</td>\n",
       "      <td>5.73809</td>\n",
       "      <td>19.517042</td>\n",
       "      <td>14.093314</td>\n",
       "      <td>7.159642</td>\n",
       "      <td>...</td>\n",
       "      <td>4.97105</td>\n",
       "      <td>15.691259</td>\n",
       "      <td>18.753286</td>\n",
       "      <td>16.857795</td>\n",
       "      <td>13.157397</td>\n",
       "      <td>21.807466</td>\n",
       "      <td>15.406129</td>\n",
       "      <td>10.442779</td>\n",
       "      <td>10.608126</td>\n",
       "      <td>6.130312</td>\n",
       "    </tr>\n",
       "  </tbody>\n",
       "</table>\n",
       "<p>2 rows × 50 columns</p>\n",
       "</div>"
      ],
      "text/plain": [
       "                 0          1         2          3          4          5   \\\n",
       "Predicted  6.630786  16.813914  7.039362  15.266486  19.709004  16.750849   \n",
       "Original   6.630786  16.813914  7.039362  15.266486  19.709004  16.750849   \n",
       "\n",
       "                6          7          8         9   ...       40         41  \\\n",
       "Predicted  5.73809  19.517042  14.093314  7.159642  ...  4.97105  15.691259   \n",
       "Original   5.73809  19.517042  14.093314  7.159642  ...  4.97105  15.691259   \n",
       "\n",
       "                  42         43         44         45         46         47  \\\n",
       "Predicted  18.753286  16.857795  13.157397  21.807466  15.406129  10.442779   \n",
       "Original   18.753286  16.857795  13.157397  21.807466  15.406129  10.442779   \n",
       "\n",
       "                  48        49  \n",
       "Predicted  10.608126  6.130312  \n",
       "Original   10.608126  6.130312  \n",
       "\n",
       "[2 rows x 50 columns]"
      ]
     },
     "execution_count": 58,
     "metadata": {},
     "output_type": "execute_result"
    }
   ],
   "source": [
    "Accuracy=pd.DataFrame([model.predict(x_test),predrdg],index=['Predicted','Original'])\n",
    "Accuracy"
   ]
  },
  {
   "cell_type": "code",
   "execution_count": null,
   "id": "00394686",
   "metadata": {},
   "outputs": [],
   "source": []
  }
 ],
 "metadata": {
  "kernelspec": {
   "display_name": "Python 3",
   "language": "python",
   "name": "python3"
  },
  "language_info": {
   "codemirror_mode": {
    "name": "ipython",
    "version": 3
   },
   "file_extension": ".py",
   "mimetype": "text/x-python",
   "name": "python",
   "nbconvert_exporter": "python",
   "pygments_lexer": "ipython3",
   "version": "3.8.8"
  }
 },
 "nbformat": 4,
 "nbformat_minor": 5
}
