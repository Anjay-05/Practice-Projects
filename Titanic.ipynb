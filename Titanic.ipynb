{
 "cells": [
  {
   "cell_type": "code",
   "execution_count": 1,
   "id": "469cd5b1",
   "metadata": {},
   "outputs": [],
   "source": [
    "import numpy as np\n",
    "import pandas as pd\n",
    "import seaborn as sns\n",
    "import matplotlib.pyplot as plt\n",
    "from scipy.stats import zscore\n",
    "\n",
    "import warnings\n",
    "warnings.filterwarnings(\"ignore\")"
   ]
  },
  {
   "cell_type": "code",
   "execution_count": 2,
   "id": "04b2c86f",
   "metadata": {},
   "outputs": [
    {
     "data": {
      "text/html": [
       "<div>\n",
       "<style scoped>\n",
       "    .dataframe tbody tr th:only-of-type {\n",
       "        vertical-align: middle;\n",
       "    }\n",
       "\n",
       "    .dataframe tbody tr th {\n",
       "        vertical-align: top;\n",
       "    }\n",
       "\n",
       "    .dataframe thead th {\n",
       "        text-align: right;\n",
       "    }\n",
       "</style>\n",
       "<table border=\"1\" class=\"dataframe\">\n",
       "  <thead>\n",
       "    <tr style=\"text-align: right;\">\n",
       "      <th></th>\n",
       "      <th>PassengerId</th>\n",
       "      <th>Survived</th>\n",
       "      <th>Pclass</th>\n",
       "      <th>Name</th>\n",
       "      <th>Sex</th>\n",
       "      <th>Age</th>\n",
       "      <th>SibSp</th>\n",
       "      <th>Parch</th>\n",
       "      <th>Ticket</th>\n",
       "      <th>Fare</th>\n",
       "      <th>Cabin</th>\n",
       "      <th>Embarked</th>\n",
       "    </tr>\n",
       "  </thead>\n",
       "  <tbody>\n",
       "    <tr>\n",
       "      <th>0</th>\n",
       "      <td>1</td>\n",
       "      <td>0</td>\n",
       "      <td>3</td>\n",
       "      <td>Braund, Mr. Owen Harris</td>\n",
       "      <td>male</td>\n",
       "      <td>22.0</td>\n",
       "      <td>1</td>\n",
       "      <td>0</td>\n",
       "      <td>A/5 21171</td>\n",
       "      <td>7.2500</td>\n",
       "      <td>NaN</td>\n",
       "      <td>S</td>\n",
       "    </tr>\n",
       "    <tr>\n",
       "      <th>1</th>\n",
       "      <td>2</td>\n",
       "      <td>1</td>\n",
       "      <td>1</td>\n",
       "      <td>Cumings, Mrs. John Bradley (Florence Briggs Th...</td>\n",
       "      <td>female</td>\n",
       "      <td>38.0</td>\n",
       "      <td>1</td>\n",
       "      <td>0</td>\n",
       "      <td>PC 17599</td>\n",
       "      <td>71.2833</td>\n",
       "      <td>C85</td>\n",
       "      <td>C</td>\n",
       "    </tr>\n",
       "    <tr>\n",
       "      <th>2</th>\n",
       "      <td>3</td>\n",
       "      <td>1</td>\n",
       "      <td>3</td>\n",
       "      <td>Heikkinen, Miss. Laina</td>\n",
       "      <td>female</td>\n",
       "      <td>26.0</td>\n",
       "      <td>0</td>\n",
       "      <td>0</td>\n",
       "      <td>STON/O2. 3101282</td>\n",
       "      <td>7.9250</td>\n",
       "      <td>NaN</td>\n",
       "      <td>S</td>\n",
       "    </tr>\n",
       "    <tr>\n",
       "      <th>3</th>\n",
       "      <td>4</td>\n",
       "      <td>1</td>\n",
       "      <td>1</td>\n",
       "      <td>Futrelle, Mrs. Jacques Heath (Lily May Peel)</td>\n",
       "      <td>female</td>\n",
       "      <td>35.0</td>\n",
       "      <td>1</td>\n",
       "      <td>0</td>\n",
       "      <td>113803</td>\n",
       "      <td>53.1000</td>\n",
       "      <td>C123</td>\n",
       "      <td>S</td>\n",
       "    </tr>\n",
       "    <tr>\n",
       "      <th>4</th>\n",
       "      <td>5</td>\n",
       "      <td>0</td>\n",
       "      <td>3</td>\n",
       "      <td>Allen, Mr. William Henry</td>\n",
       "      <td>male</td>\n",
       "      <td>35.0</td>\n",
       "      <td>0</td>\n",
       "      <td>0</td>\n",
       "      <td>373450</td>\n",
       "      <td>8.0500</td>\n",
       "      <td>NaN</td>\n",
       "      <td>S</td>\n",
       "    </tr>\n",
       "  </tbody>\n",
       "</table>\n",
       "</div>"
      ],
      "text/plain": [
       "   PassengerId  Survived  Pclass  \\\n",
       "0            1         0       3   \n",
       "1            2         1       1   \n",
       "2            3         1       3   \n",
       "3            4         1       1   \n",
       "4            5         0       3   \n",
       "\n",
       "                                                Name     Sex   Age  SibSp  \\\n",
       "0                            Braund, Mr. Owen Harris    male  22.0      1   \n",
       "1  Cumings, Mrs. John Bradley (Florence Briggs Th...  female  38.0      1   \n",
       "2                             Heikkinen, Miss. Laina  female  26.0      0   \n",
       "3       Futrelle, Mrs. Jacques Heath (Lily May Peel)  female  35.0      1   \n",
       "4                           Allen, Mr. William Henry    male  35.0      0   \n",
       "\n",
       "   Parch            Ticket     Fare Cabin Embarked  \n",
       "0      0         A/5 21171   7.2500   NaN        S  \n",
       "1      0          PC 17599  71.2833   C85        C  \n",
       "2      0  STON/O2. 3101282   7.9250   NaN        S  \n",
       "3      0            113803  53.1000  C123        S  \n",
       "4      0            373450   8.0500   NaN        S  "
      ]
     },
     "execution_count": 2,
     "metadata": {},
     "output_type": "execute_result"
    }
   ],
   "source": [
    "df=pd.read_csv(\"titanic_train.csv\")\n",
    "df.head()"
   ]
  },
  {
   "cell_type": "code",
   "execution_count": 3,
   "id": "b7823a77",
   "metadata": {},
   "outputs": [
    {
     "data": {
      "text/plain": [
       "PassengerId      0\n",
       "Survived         0\n",
       "Pclass           0\n",
       "Name             0\n",
       "Sex              0\n",
       "Age            177\n",
       "SibSp            0\n",
       "Parch            0\n",
       "Ticket           0\n",
       "Fare             0\n",
       "Cabin          687\n",
       "Embarked         2\n",
       "dtype: int64"
      ]
     },
     "execution_count": 3,
     "metadata": {},
     "output_type": "execute_result"
    }
   ],
   "source": [
    "df.isnull().sum()"
   ]
  },
  {
   "cell_type": "markdown",
   "id": "292ba5e9",
   "metadata": {},
   "source": [
    "Null values are present in the dataset. Age has 177 null value, Cabin has 687 null values and Embarked has 2 null values."
   ]
  },
  {
   "cell_type": "code",
   "execution_count": 4,
   "id": "3468a7e6",
   "metadata": {},
   "outputs": [
    {
     "data": {
      "text/plain": [
       "<AxesSubplot:>"
      ]
     },
     "execution_count": 4,
     "metadata": {},
     "output_type": "execute_result"
    },
    {
     "data": {
      "image/png": "[encoded data removed]",
      "text/plain": [
       "<Figure size 720x360 with 2 Axes>"
      ]
     },
     "metadata": {
      "needs_background": "light"
     },
     "output_type": "display_data"
    }
   ],
   "source": [
    "plt.figure(figsize=(10,5))\n",
    "sns.heatmap(df.isnull())"
   ]
  },
  {
   "cell_type": "markdown",
   "id": "471adcbc",
   "metadata": {},
   "source": [
    "The dataset has null values in the Age and Cabin Columns. Huge number of values are missing in Cabin column, so will drop cabin column."
   ]
  },
  {
   "cell_type": "code",
   "execution_count": 5,
   "id": "e27c9755",
   "metadata": {},
   "outputs": [
    {
     "data": {
      "text/plain": [
       "PassengerId      int64\n",
       "Survived         int64\n",
       "Pclass           int64\n",
       "Name            object\n",
       "Sex             object\n",
       "Age            float64\n",
       "SibSp            int64\n",
       "Parch            int64\n",
       "Ticket          object\n",
       "Fare           float64\n",
       "Cabin           object\n",
       "Embarked        object\n",
       "dtype: object"
      ]
     },
     "execution_count": 5,
     "metadata": {},
     "output_type": "execute_result"
    }
   ],
   "source": [
    "df.dtypes"
   ]
  },
  {
   "cell_type": "markdown",
   "id": "c13ee7a9",
   "metadata": {},
   "source": [
    "The dataset consist of integer,float and object data types.\n",
    "\n",
    "Integer - PassengerId,Survived,Pclass,SibSp,Parch\n",
    "\n",
    "Float - Age,Fare\n",
    "\n",
    "Object - Name,Sex,Ticket,Cabin,Embarked "
   ]
  },
  {
   "cell_type": "code",
   "execution_count": 6,
   "id": "40078bca",
   "metadata": {},
   "outputs": [
    {
     "name": "stdout",
     "output_type": "stream",
     "text": [
      "<class 'pandas.core.frame.DataFrame'>\n",
      "RangeIndex: 891 entries, 0 to 890\n",
      "Data columns (total 12 columns):\n",
      " #   Column       Non-Null Count  Dtype  \n",
      "---  ------       --------------  -----  \n",
      " 0   PassengerId  891 non-null    int64  \n",
      " 1   Survived     891 non-null    int64  \n",
      " 2   Pclass       891 non-null    int64  \n",
      " 3   Name         891 non-null    object \n",
      " 4   Sex          891 non-null    object \n",
      " 5   Age          714 non-null    float64\n",
      " 6   SibSp        891 non-null    int64  \n",
      " 7   Parch        891 non-null    int64  \n",
      " 8   Ticket       891 non-null    object \n",
      " 9   Fare         891 non-null    float64\n",
      " 10  Cabin        204 non-null    object \n",
      " 11  Embarked     889 non-null    object \n",
      "dtypes: float64(2), int64(5), object(5)\n",
      "memory usage: 83.7+ KB\n"
     ]
    }
   ],
   "source": [
    "df.info()"
   ]
  },
  {
   "cell_type": "markdown",
   "id": "218c8d26",
   "metadata": {},
   "source": [
    "The data set has 891 rows and 12 columns\n",
    "\n",
    "The columns PassengerId,Survived,Pclass,Name,Sex,SibSp,Parch,Ticket and Fare has 891 non null values. But in Age only 714 non-values, Cabin only 204 non-values and Embarked only 889 non- values.\n",
    "\n",
    "Null values are present in Age,Cabin and Embarked"
   ]
  },
  {
   "cell_type": "code",
   "execution_count": 7,
   "id": "2462d731",
   "metadata": {},
   "outputs": [
    {
     "data": {
      "text/html": [
       "<div>\n",
       "<style scoped>\n",
       "    .dataframe tbody tr th:only-of-type {\n",
       "        vertical-align: middle;\n",
       "    }\n",
       "\n",
       "    .dataframe tbody tr th {\n",
       "        vertical-align: top;\n",
       "    }\n",
       "\n",
       "    .dataframe thead th {\n",
       "        text-align: right;\n",
       "    }\n",
       "</style>\n",
       "<table border=\"1\" class=\"dataframe\">\n",
       "  <thead>\n",
       "    <tr style=\"text-align: right;\">\n",
       "      <th></th>\n",
       "      <th>PassengerId</th>\n",
       "      <th>Survived</th>\n",
       "      <th>Pclass</th>\n",
       "      <th>Age</th>\n",
       "      <th>SibSp</th>\n",
       "      <th>Parch</th>\n",
       "      <th>Fare</th>\n",
       "    </tr>\n",
       "  </thead>\n",
       "  <tbody>\n",
       "    <tr>\n",
       "      <th>count</th>\n",
       "      <td>891.000000</td>\n",
       "      <td>891.000000</td>\n",
       "      <td>891.000000</td>\n",
       "      <td>714.000000</td>\n",
       "      <td>891.000000</td>\n",
       "      <td>891.000000</td>\n",
       "      <td>891.000000</td>\n",
       "    </tr>\n",
       "    <tr>\n",
       "      <th>mean</th>\n",
       "      <td>446.000000</td>\n",
       "      <td>0.383838</td>\n",
       "      <td>2.308642</td>\n",
       "      <td>29.699118</td>\n",
       "      <td>0.523008</td>\n",
       "      <td>0.381594</td>\n",
       "      <td>32.204208</td>\n",
       "    </tr>\n",
       "    <tr>\n",
       "      <th>std</th>\n",
       "      <td>257.353842</td>\n",
       "      <td>0.486592</td>\n",
       "      <td>0.836071</td>\n",
       "      <td>14.526497</td>\n",
       "      <td>1.102743</td>\n",
       "      <td>0.806057</td>\n",
       "      <td>49.693429</td>\n",
       "    </tr>\n",
       "    <tr>\n",
       "      <th>min</th>\n",
       "      <td>1.000000</td>\n",
       "      <td>0.000000</td>\n",
       "      <td>1.000000</td>\n",
       "      <td>0.420000</td>\n",
       "      <td>0.000000</td>\n",
       "      <td>0.000000</td>\n",
       "      <td>0.000000</td>\n",
       "    </tr>\n",
       "    <tr>\n",
       "      <th>25%</th>\n",
       "      <td>223.500000</td>\n",
       "      <td>0.000000</td>\n",
       "      <td>2.000000</td>\n",
       "      <td>20.125000</td>\n",
       "      <td>0.000000</td>\n",
       "      <td>0.000000</td>\n",
       "      <td>7.910400</td>\n",
       "    </tr>\n",
       "    <tr>\n",
       "      <th>50%</th>\n",
       "      <td>446.000000</td>\n",
       "      <td>0.000000</td>\n",
       "      <td>3.000000</td>\n",
       "      <td>28.000000</td>\n",
       "      <td>0.000000</td>\n",
       "      <td>0.000000</td>\n",
       "      <td>14.454200</td>\n",
       "    </tr>\n",
       "    <tr>\n",
       "      <th>75%</th>\n",
       "      <td>668.500000</td>\n",
       "      <td>1.000000</td>\n",
       "      <td>3.000000</td>\n",
       "      <td>38.000000</td>\n",
       "      <td>1.000000</td>\n",
       "      <td>0.000000</td>\n",
       "      <td>31.000000</td>\n",
       "    </tr>\n",
       "    <tr>\n",
       "      <th>max</th>\n",
       "      <td>891.000000</td>\n",
       "      <td>1.000000</td>\n",
       "      <td>3.000000</td>\n",
       "      <td>80.000000</td>\n",
       "      <td>8.000000</td>\n",
       "      <td>6.000000</td>\n",
       "      <td>512.329200</td>\n",
       "    </tr>\n",
       "  </tbody>\n",
       "</table>\n",
       "</div>"
      ],
      "text/plain": [
       "       PassengerId    Survived      Pclass         Age       SibSp  \\\n",
       "count   891.000000  891.000000  891.000000  714.000000  891.000000   \n",
       "mean    446.000000    0.383838    2.308642   29.699118    0.523008   \n",
       "std     257.353842    0.486592    0.836071   14.526497    1.102743   \n",
       "min       1.000000    0.000000    1.000000    0.420000    0.000000   \n",
       "25%     223.500000    0.000000    2.000000   20.125000    0.000000   \n",
       "50%     446.000000    0.000000    3.000000   28.000000    0.000000   \n",
       "75%     668.500000    1.000000    3.000000   38.000000    1.000000   \n",
       "max     891.000000    1.000000    3.000000   80.000000    8.000000   \n",
       "\n",
       "            Parch        Fare  \n",
       "count  891.000000  891.000000  \n",
       "mean     0.381594   32.204208  \n",
       "std      0.806057   49.693429  \n",
       "min      0.000000    0.000000  \n",
       "25%      0.000000    7.910400  \n",
       "50%      0.000000   14.454200  \n",
       "75%      0.000000   31.000000  \n",
       "max      6.000000  512.329200  "
      ]
     },
     "execution_count": 7,
     "metadata": {},
     "output_type": "execute_result"
    }
   ],
   "source": [
    "#Statistical summary\n",
    "df.describe()"
   ]
  },
  {
   "cell_type": "markdown",
   "id": "ea5f26da",
   "metadata": {},
   "source": [
    "The count in Age does not match with others, So missing data present in Age.\n",
    "\n",
    "The mean is greater than median in Fare and There is a huge difference between 75th percentile and MAX in Fare, So outlier will be there.\n",
    "\n"
   ]
  },
  {
   "cell_type": "code",
   "execution_count": 8,
   "id": "c251e71e",
   "metadata": {},
   "outputs": [
    {
     "data": {
      "text/plain": [
       "PassengerId    0.000000\n",
       "Survived       0.478523\n",
       "Pclass        -0.630548\n",
       "Age            0.389108\n",
       "SibSp          3.695352\n",
       "Parch          2.749117\n",
       "Fare           4.787317\n",
       "dtype: float64"
      ]
     },
     "execution_count": 8,
     "metadata": {},
     "output_type": "execute_result"
    }
   ],
   "source": [
    "df.skew()"
   ]
  },
  {
   "cell_type": "markdown",
   "id": "c375fba1",
   "metadata": {},
   "source": [
    "Skewness is present in SibSp, Parch and Fare. SO need to remove skewness."
   ]
  },
  {
   "cell_type": "code",
   "execution_count": 9,
   "id": "f587f6e0",
   "metadata": {},
   "outputs": [
    {
     "data": {
      "text/plain": [
       "PassengerId    0.000000\n",
       "Survived       0.478523\n",
       "Pclass        -0.630548\n",
       "Age            0.389108\n",
       "SibSp          1.436526\n",
       "Parch          1.529799\n",
       "Fare           2.085004\n",
       "dtype: float64"
      ]
     },
     "execution_count": 9,
     "metadata": {},
     "output_type": "execute_result"
    }
   ],
   "source": [
    "#removing skewness using squre root\n",
    "df['SibSp']=np.sqrt(df['SibSp'])\n",
    "df['Parch']=np.sqrt(df['Parch'])\n",
    "df['Fare']=np.sqrt(df['Fare'])\n",
    "df.skew()"
   ]
  },
  {
   "cell_type": "markdown",
   "id": "26bbcfad",
   "metadata": {},
   "source": [
    "The skewness good enough."
   ]
  },
  {
   "cell_type": "code",
   "execution_count": 10,
   "id": "abc0ba73",
   "metadata": {},
   "outputs": [
    {
     "data": {
      "text/html": [
       "<div>\n",
       "<style scoped>\n",
       "    .dataframe tbody tr th:only-of-type {\n",
       "        vertical-align: middle;\n",
       "    }\n",
       "\n",
       "    .dataframe tbody tr th {\n",
       "        vertical-align: top;\n",
       "    }\n",
       "\n",
       "    .dataframe thead th {\n",
       "        text-align: right;\n",
       "    }\n",
       "</style>\n",
       "<table border=\"1\" class=\"dataframe\">\n",
       "  <thead>\n",
       "    <tr style=\"text-align: right;\">\n",
       "      <th></th>\n",
       "      <th>Survived</th>\n",
       "      <th>Pclass</th>\n",
       "      <th>Sex</th>\n",
       "      <th>Age</th>\n",
       "      <th>SibSp</th>\n",
       "      <th>Parch</th>\n",
       "      <th>Ticket</th>\n",
       "      <th>Fare</th>\n",
       "      <th>Embarked</th>\n",
       "    </tr>\n",
       "  </thead>\n",
       "  <tbody>\n",
       "    <tr>\n",
       "      <th>0</th>\n",
       "      <td>0</td>\n",
       "      <td>3</td>\n",
       "      <td>male</td>\n",
       "      <td>22.0</td>\n",
       "      <td>1.0</td>\n",
       "      <td>0.000000</td>\n",
       "      <td>A/5 21171</td>\n",
       "      <td>2.692582</td>\n",
       "      <td>S</td>\n",
       "    </tr>\n",
       "    <tr>\n",
       "      <th>1</th>\n",
       "      <td>1</td>\n",
       "      <td>1</td>\n",
       "      <td>female</td>\n",
       "      <td>38.0</td>\n",
       "      <td>1.0</td>\n",
       "      <td>0.000000</td>\n",
       "      <td>PC 17599</td>\n",
       "      <td>8.442944</td>\n",
       "      <td>C</td>\n",
       "    </tr>\n",
       "    <tr>\n",
       "      <th>2</th>\n",
       "      <td>1</td>\n",
       "      <td>3</td>\n",
       "      <td>female</td>\n",
       "      <td>26.0</td>\n",
       "      <td>0.0</td>\n",
       "      <td>0.000000</td>\n",
       "      <td>STON/O2. 3101282</td>\n",
       "      <td>2.815138</td>\n",
       "      <td>S</td>\n",
       "    </tr>\n",
       "    <tr>\n",
       "      <th>3</th>\n",
       "      <td>1</td>\n",
       "      <td>1</td>\n",
       "      <td>female</td>\n",
       "      <td>35.0</td>\n",
       "      <td>1.0</td>\n",
       "      <td>0.000000</td>\n",
       "      <td>113803</td>\n",
       "      <td>7.286975</td>\n",
       "      <td>S</td>\n",
       "    </tr>\n",
       "    <tr>\n",
       "      <th>4</th>\n",
       "      <td>0</td>\n",
       "      <td>3</td>\n",
       "      <td>male</td>\n",
       "      <td>35.0</td>\n",
       "      <td>0.0</td>\n",
       "      <td>0.000000</td>\n",
       "      <td>373450</td>\n",
       "      <td>2.837252</td>\n",
       "      <td>S</td>\n",
       "    </tr>\n",
       "    <tr>\n",
       "      <th>...</th>\n",
       "      <td>...</td>\n",
       "      <td>...</td>\n",
       "      <td>...</td>\n",
       "      <td>...</td>\n",
       "      <td>...</td>\n",
       "      <td>...</td>\n",
       "      <td>...</td>\n",
       "      <td>...</td>\n",
       "      <td>...</td>\n",
       "    </tr>\n",
       "    <tr>\n",
       "      <th>886</th>\n",
       "      <td>0</td>\n",
       "      <td>2</td>\n",
       "      <td>male</td>\n",
       "      <td>27.0</td>\n",
       "      <td>0.0</td>\n",
       "      <td>0.000000</td>\n",
       "      <td>211536</td>\n",
       "      <td>3.605551</td>\n",
       "      <td>S</td>\n",
       "    </tr>\n",
       "    <tr>\n",
       "      <th>887</th>\n",
       "      <td>1</td>\n",
       "      <td>1</td>\n",
       "      <td>female</td>\n",
       "      <td>19.0</td>\n",
       "      <td>0.0</td>\n",
       "      <td>0.000000</td>\n",
       "      <td>112053</td>\n",
       "      <td>5.477226</td>\n",
       "      <td>S</td>\n",
       "    </tr>\n",
       "    <tr>\n",
       "      <th>888</th>\n",
       "      <td>0</td>\n",
       "      <td>3</td>\n",
       "      <td>female</td>\n",
       "      <td>NaN</td>\n",
       "      <td>1.0</td>\n",
       "      <td>1.414214</td>\n",
       "      <td>W./C. 6607</td>\n",
       "      <td>4.842520</td>\n",
       "      <td>S</td>\n",
       "    </tr>\n",
       "    <tr>\n",
       "      <th>889</th>\n",
       "      <td>1</td>\n",
       "      <td>1</td>\n",
       "      <td>male</td>\n",
       "      <td>26.0</td>\n",
       "      <td>0.0</td>\n",
       "      <td>0.000000</td>\n",
       "      <td>111369</td>\n",
       "      <td>5.477226</td>\n",
       "      <td>C</td>\n",
       "    </tr>\n",
       "    <tr>\n",
       "      <th>890</th>\n",
       "      <td>0</td>\n",
       "      <td>3</td>\n",
       "      <td>male</td>\n",
       "      <td>32.0</td>\n",
       "      <td>0.0</td>\n",
       "      <td>0.000000</td>\n",
       "      <td>370376</td>\n",
       "      <td>2.783882</td>\n",
       "      <td>Q</td>\n",
       "    </tr>\n",
       "  </tbody>\n",
       "</table>\n",
       "<p>891 rows × 9 columns</p>\n",
       "</div>"
      ],
      "text/plain": [
       "     Survived  Pclass     Sex   Age  SibSp     Parch            Ticket  \\\n",
       "0           0       3    male  22.0    1.0  0.000000         A/5 21171   \n",
       "1           1       1  female  38.0    1.0  0.000000          PC 17599   \n",
       "2           1       3  female  26.0    0.0  0.000000  STON/O2. 3101282   \n",
       "3           1       1  female  35.0    1.0  0.000000            113803   \n",
       "4           0       3    male  35.0    0.0  0.000000            373450   \n",
       "..        ...     ...     ...   ...    ...       ...               ...   \n",
       "886         0       2    male  27.0    0.0  0.000000            211536   \n",
       "887         1       1  female  19.0    0.0  0.000000            112053   \n",
       "888         0       3  female   NaN    1.0  1.414214        W./C. 6607   \n",
       "889         1       1    male  26.0    0.0  0.000000            111369   \n",
       "890         0       3    male  32.0    0.0  0.000000            370376   \n",
       "\n",
       "         Fare Embarked  \n",
       "0    2.692582        S  \n",
       "1    8.442944        C  \n",
       "2    2.815138        S  \n",
       "3    7.286975        S  \n",
       "4    2.837252        S  \n",
       "..        ...      ...  \n",
       "886  3.605551        S  \n",
       "887  5.477226        S  \n",
       "888  4.842520        S  \n",
       "889  5.477226        C  \n",
       "890  2.783882        Q  \n",
       "\n",
       "[891 rows x 9 columns]"
      ]
     },
     "execution_count": 10,
     "metadata": {},
     "output_type": "execute_result"
    }
   ],
   "source": [
    "#Dropping the Cabin colum and PassengerId\n",
    "df=df.drop([\"Cabin\",\"PassengerId\",\"Name\"],axis=1)\n",
    "df"
   ]
  },
  {
   "cell_type": "code",
   "execution_count": 11,
   "id": "4c43686b",
   "metadata": {},
   "outputs": [
    {
     "data": {
      "text/plain": [
       "<AxesSubplot:>"
      ]
     },
     "execution_count": 11,
     "metadata": {},
     "output_type": "execute_result"
    },
    {
     "data": {
      "image/png": "[encoded data removed]",
      "text/plain": [
       "<Figure size 720x360 with 2 Axes>"
      ]
     },
     "metadata": {
      "needs_background": "light"
     },
     "output_type": "display_data"
    }
   ],
   "source": [
    "#Checking the null values again\n",
    "plt.figure(figsize=(10,5))\n",
    "sns.heatmap(df.isnull())"
   ]
  },
  {
   "cell_type": "markdown",
   "id": "e81d6475",
   "metadata": {},
   "source": [
    "Still missing values in Age, need to take care of Age."
   ]
  },
  {
   "cell_type": "code",
   "execution_count": 12,
   "id": "24bb5ac2",
   "metadata": {},
   "outputs": [
    {
     "data": {
      "text/plain": [
       "0    S\n",
       "dtype: object"
      ]
     },
     "execution_count": 12,
     "metadata": {},
     "output_type": "execute_result"
    }
   ],
   "source": [
    "#Checking which one is most frequently occuring in Embarked\n",
    "df['Embarked'].mode()"
   ]
  },
  {
   "cell_type": "code",
   "execution_count": 13,
   "id": "2b115469",
   "metadata": {},
   "outputs": [],
   "source": [
    "#replacing the null values of Age using mean and in Embarked using mode.\n",
    "df['Age']=df['Age'].fillna(df['Age'].mean())\n",
    "df['Embarked']=df['Embarked'].fillna(df['Embarked'].mode()[0])\n",
    "#Age is a float datatype changing to integer\n",
    "df['Age']=df['Age'].astype(int)"
   ]
  },
  {
   "cell_type": "code",
   "execution_count": 14,
   "id": "969a9386",
   "metadata": {},
   "outputs": [
    {
     "data": {
      "text/plain": [
       "Survived    0\n",
       "Pclass      0\n",
       "Sex         0\n",
       "Age         0\n",
       "SibSp       0\n",
       "Parch       0\n",
       "Ticket      0\n",
       "Fare        0\n",
       "Embarked    0\n",
       "dtype: int64"
      ]
     },
     "execution_count": 14,
     "metadata": {},
     "output_type": "execute_result"
    }
   ],
   "source": [
    "df.isnull().sum()"
   ]
  },
  {
   "cell_type": "markdown",
   "id": "267e8f78",
   "metadata": {},
   "source": [
    "There is no null value in the dataset."
   ]
  },
  {
   "cell_type": "code",
   "execution_count": 15,
   "id": "678c690e",
   "metadata": {},
   "outputs": [
    {
     "data": {
      "text/plain": [
       "<AxesSubplot:>"
      ]
     },
     "execution_count": 15,
     "metadata": {},
     "output_type": "execute_result"
    },
    {
     "data": {
      "image/png": "[encoded data removed]",
      "text/plain": [
       "<Figure size 720x360 with 2 Axes>"
      ]
     },
     "metadata": {
      "needs_background": "light"
     },
     "output_type": "display_data"
    }
   ],
   "source": [
    "plt.figure(figsize=(10,5))\n",
    "sns.heatmap(df.isnull())"
   ]
  },
  {
   "cell_type": "code",
   "execution_count": 16,
   "id": "f8b3dbcd",
   "metadata": {},
   "outputs": [
    {
     "data": {
      "text/html": [
       "<div>\n",
       "<style scoped>\n",
       "    .dataframe tbody tr th:only-of-type {\n",
       "        vertical-align: middle;\n",
       "    }\n",
       "\n",
       "    .dataframe tbody tr th {\n",
       "        vertical-align: top;\n",
       "    }\n",
       "\n",
       "    .dataframe thead th {\n",
       "        text-align: right;\n",
       "    }\n",
       "</style>\n",
       "<table border=\"1\" class=\"dataframe\">\n",
       "  <thead>\n",
       "    <tr style=\"text-align: right;\">\n",
       "      <th></th>\n",
       "      <th>Survived</th>\n",
       "      <th>Pclass</th>\n",
       "      <th>Age</th>\n",
       "      <th>SibSp</th>\n",
       "      <th>Parch</th>\n",
       "      <th>Fare</th>\n",
       "    </tr>\n",
       "  </thead>\n",
       "  <tbody>\n",
       "    <tr>\n",
       "      <th>count</th>\n",
       "      <td>891.000000</td>\n",
       "      <td>891.000000</td>\n",
       "      <td>891.000000</td>\n",
       "      <td>891.000000</td>\n",
       "      <td>891.000000</td>\n",
       "      <td>891.000000</td>\n",
       "    </tr>\n",
       "    <tr>\n",
       "      <th>mean</th>\n",
       "      <td>0.383838</td>\n",
       "      <td>2.308642</td>\n",
       "      <td>29.544332</td>\n",
       "      <td>0.385286</td>\n",
       "      <td>0.293409</td>\n",
       "      <td>4.851220</td>\n",
       "    </tr>\n",
       "    <tr>\n",
       "      <th>std</th>\n",
       "      <td>0.486592</td>\n",
       "      <td>0.836071</td>\n",
       "      <td>13.013778</td>\n",
       "      <td>0.612359</td>\n",
       "      <td>0.543909</td>\n",
       "      <td>2.946119</td>\n",
       "    </tr>\n",
       "    <tr>\n",
       "      <th>min</th>\n",
       "      <td>0.000000</td>\n",
       "      <td>1.000000</td>\n",
       "      <td>0.000000</td>\n",
       "      <td>0.000000</td>\n",
       "      <td>0.000000</td>\n",
       "      <td>0.000000</td>\n",
       "    </tr>\n",
       "    <tr>\n",
       "      <th>25%</th>\n",
       "      <td>0.000000</td>\n",
       "      <td>2.000000</td>\n",
       "      <td>22.000000</td>\n",
       "      <td>0.000000</td>\n",
       "      <td>0.000000</td>\n",
       "      <td>2.812542</td>\n",
       "    </tr>\n",
       "    <tr>\n",
       "      <th>50%</th>\n",
       "      <td>0.000000</td>\n",
       "      <td>3.000000</td>\n",
       "      <td>29.000000</td>\n",
       "      <td>0.000000</td>\n",
       "      <td>0.000000</td>\n",
       "      <td>3.801868</td>\n",
       "    </tr>\n",
       "    <tr>\n",
       "      <th>75%</th>\n",
       "      <td>1.000000</td>\n",
       "      <td>3.000000</td>\n",
       "      <td>35.000000</td>\n",
       "      <td>1.000000</td>\n",
       "      <td>0.000000</td>\n",
       "      <td>5.567764</td>\n",
       "    </tr>\n",
       "    <tr>\n",
       "      <th>max</th>\n",
       "      <td>1.000000</td>\n",
       "      <td>3.000000</td>\n",
       "      <td>80.000000</td>\n",
       "      <td>2.828427</td>\n",
       "      <td>2.449490</td>\n",
       "      <td>22.634690</td>\n",
       "    </tr>\n",
       "  </tbody>\n",
       "</table>\n",
       "</div>"
      ],
      "text/plain": [
       "         Survived      Pclass         Age       SibSp       Parch        Fare\n",
       "count  891.000000  891.000000  891.000000  891.000000  891.000000  891.000000\n",
       "mean     0.383838    2.308642   29.544332    0.385286    0.293409    4.851220\n",
       "std      0.486592    0.836071   13.013778    0.612359    0.543909    2.946119\n",
       "min      0.000000    1.000000    0.000000    0.000000    0.000000    0.000000\n",
       "25%      0.000000    2.000000   22.000000    0.000000    0.000000    2.812542\n",
       "50%      0.000000    3.000000   29.000000    0.000000    0.000000    3.801868\n",
       "75%      1.000000    3.000000   35.000000    1.000000    0.000000    5.567764\n",
       "max      1.000000    3.000000   80.000000    2.828427    2.449490   22.634690"
      ]
     },
     "execution_count": 16,
     "metadata": {},
     "output_type": "execute_result"
    }
   ],
   "source": [
    "df.describe()"
   ]
  },
  {
   "cell_type": "markdown",
   "id": "21e10c26",
   "metadata": {},
   "source": [
    "The count of all columns are equal. \n",
    "\n",
    "The 75th percentile and MAX has a difference , So there will be outliers."
   ]
  },
  {
   "cell_type": "code",
   "execution_count": 17,
   "id": "8eef2cde",
   "metadata": {},
   "outputs": [
    {
     "data": {
      "text/html": [
       "<div>\n",
       "<style scoped>\n",
       "    .dataframe tbody tr th:only-of-type {\n",
       "        vertical-align: middle;\n",
       "    }\n",
       "\n",
       "    .dataframe tbody tr th {\n",
       "        vertical-align: top;\n",
       "    }\n",
       "\n",
       "    .dataframe thead th {\n",
       "        text-align: right;\n",
       "    }\n",
       "</style>\n",
       "<table border=\"1\" class=\"dataframe\">\n",
       "  <thead>\n",
       "    <tr style=\"text-align: right;\">\n",
       "      <th></th>\n",
       "      <th>Survived</th>\n",
       "      <th>Pclass</th>\n",
       "      <th>Age</th>\n",
       "      <th>SibSp</th>\n",
       "      <th>Parch</th>\n",
       "      <th>Fare</th>\n",
       "    </tr>\n",
       "  </thead>\n",
       "  <tbody>\n",
       "    <tr>\n",
       "      <th>Survived</th>\n",
       "      <td>1.000000</td>\n",
       "      <td>-0.338481</td>\n",
       "      <td>-0.067809</td>\n",
       "      <td>0.043535</td>\n",
       "      <td>0.121652</td>\n",
       "      <td>0.312508</td>\n",
       "    </tr>\n",
       "    <tr>\n",
       "      <th>Pclass</th>\n",
       "      <td>-0.338481</td>\n",
       "      <td>1.000000</td>\n",
       "      <td>-0.335071</td>\n",
       "      <td>0.006049</td>\n",
       "      <td>-0.006792</td>\n",
       "      <td>-0.660850</td>\n",
       "    </tr>\n",
       "    <tr>\n",
       "      <th>Age</th>\n",
       "      <td>-0.067809</td>\n",
       "      <td>-0.335071</td>\n",
       "      <td>1.000000</td>\n",
       "      <td>-0.216037</td>\n",
       "      <td>-0.234555</td>\n",
       "      <td>0.111814</td>\n",
       "    </tr>\n",
       "    <tr>\n",
       "      <th>SibSp</th>\n",
       "      <td>0.043535</td>\n",
       "      <td>0.006049</td>\n",
       "      <td>-0.216037</td>\n",
       "      <td>1.000000</td>\n",
       "      <td>0.473591</td>\n",
       "      <td>0.309346</td>\n",
       "    </tr>\n",
       "    <tr>\n",
       "      <th>Parch</th>\n",
       "      <td>0.121652</td>\n",
       "      <td>-0.006792</td>\n",
       "      <td>-0.234555</td>\n",
       "      <td>0.473591</td>\n",
       "      <td>1.000000</td>\n",
       "      <td>0.320344</td>\n",
       "    </tr>\n",
       "    <tr>\n",
       "      <th>Fare</th>\n",
       "      <td>0.312508</td>\n",
       "      <td>-0.660850</td>\n",
       "      <td>0.111814</td>\n",
       "      <td>0.309346</td>\n",
       "      <td>0.320344</td>\n",
       "      <td>1.000000</td>\n",
       "    </tr>\n",
       "  </tbody>\n",
       "</table>\n",
       "</div>"
      ],
      "text/plain": [
       "          Survived    Pclass       Age     SibSp     Parch      Fare\n",
       "Survived  1.000000 -0.338481 -0.067809  0.043535  0.121652  0.312508\n",
       "Pclass   -0.338481  1.000000 -0.335071  0.006049 -0.006792 -0.660850\n",
       "Age      -0.067809 -0.335071  1.000000 -0.216037 -0.234555  0.111814\n",
       "SibSp     0.043535  0.006049 -0.216037  1.000000  0.473591  0.309346\n",
       "Parch     0.121652 -0.006792 -0.234555  0.473591  1.000000  0.320344\n",
       "Fare      0.312508 -0.660850  0.111814  0.309346  0.320344  1.000000"
      ]
     },
     "execution_count": 17,
     "metadata": {},
     "output_type": "execute_result"
    }
   ],
   "source": [
    "df.corr()"
   ]
  },
  {
   "cell_type": "code",
   "execution_count": 18,
   "id": "2d602714",
   "metadata": {},
   "outputs": [
    {
     "data": {
      "image/png": "[encoded data removed]",
      "text/plain": [
       "<Figure size 720x360 with 2 Axes>"
      ]
     },
     "metadata": {
      "needs_background": "light"
     },
     "output_type": "display_data"
    }
   ],
   "source": [
    "plt.figure(figsize=(10,5))\n",
    "ax=sns.heatmap(df.corr(),annot=True)"
   ]
  },
  {
   "cell_type": "markdown",
   "id": "b7b47172",
   "metadata": {},
   "source": [
    "The target variable Survived is positively correlated to SibSp,Parch and Fare. Negatively correlated to Pclass and Age."
   ]
  },
  {
   "cell_type": "markdown",
   "id": "55fc8a48",
   "metadata": {},
   "source": [
    "Data Visualization"
   ]
  },
  {
   "cell_type": "code",
   "execution_count": 19,
   "id": "5f0d2e4f",
   "metadata": {},
   "outputs": [
    {
     "data": {
      "text/plain": [
       "0    549\n",
       "1    342\n",
       "Name: Survived, dtype: int64"
      ]
     },
     "execution_count": 19,
     "metadata": {},
     "output_type": "execute_result"
    },
    {
     "data": {
      "image/png": "[encoded data removed]",
      "text/plain": [
       "<Figure size 720x360 with 1 Axes>"
      ]
     },
     "metadata": {
      "needs_background": "light"
     },
     "output_type": "display_data"
    }
   ],
   "source": [
    "#Using count plot finding out how many people survived and not survived\n",
    "plt.figure(figsize=(10,5))\n",
    "sns.countplot(df['Survived'])\n",
    "df['Survived'].value_counts()"
   ]
  },
  {
   "cell_type": "markdown",
   "id": "38224814",
   "metadata": {},
   "source": [
    "In total 891 people, 549 -Not survived, 342 - Survived."
   ]
  },
  {
   "cell_type": "code",
   "execution_count": 20,
   "id": "034799cd",
   "metadata": {},
   "outputs": [
    {
     "data": {
      "text/plain": [
       "male      577\n",
       "female    314\n",
       "Name: Sex, dtype: int64"
      ]
     },
     "execution_count": 20,
     "metadata": {},
     "output_type": "execute_result"
    },
    {
     "data": {
      "image/png": "[encoded data removed]",
      "text/plain": [
       "<Figure size 720x360 with 1 Axes>"
      ]
     },
     "metadata": {
      "needs_background": "light"
     },
     "output_type": "display_data"
    }
   ],
   "source": [
    "plt.figure(figsize=(10,5))\n",
    "sns.countplot(df['Sex'])\n",
    "df['Sex'].value_counts()"
   ]
  },
  {
   "cell_type": "markdown",
   "id": "799b344a",
   "metadata": {},
   "source": [
    "In the dataset there were Male - 577, Female - 314"
   ]
  },
  {
   "cell_type": "code",
   "execution_count": 21,
   "id": "7beccd70",
   "metadata": {},
   "outputs": [
    {
     "data": {
      "text/plain": [
       "3    491\n",
       "1    216\n",
       "2    184\n",
       "Name: Pclass, dtype: int64"
      ]
     },
     "execution_count": 21,
     "metadata": {},
     "output_type": "execute_result"
    },
    {
     "data": {
      "image/png": "[encoded data removed]",
      "text/plain": [
       "<Figure size 720x360 with 1 Axes>"
      ]
     },
     "metadata": {
      "needs_background": "light"
     },
     "output_type": "display_data"
    }
   ],
   "source": [
    "plt.figure(figsize=(10,5))\n",
    "sns.countplot(df['Pclass'])\n",
    "df['Pclass'].value_counts()"
   ]
  },
  {
   "cell_type": "markdown",
   "id": "a999a366",
   "metadata": {},
   "source": [
    "The Pclass 3 has 491 people, Pclass 1 has 216 people and Pclass 2 has 184 people."
   ]
  },
  {
   "cell_type": "code",
   "execution_count": 22,
   "id": "2f4e3c0d",
   "metadata": {},
   "outputs": [
    {
     "data": {
      "text/plain": [
       "<AxesSubplot:xlabel='Age', ylabel='Density'>"
      ]
     },
     "execution_count": 22,
     "metadata": {},
     "output_type": "execute_result"
    },
    {
     "data": {
      "image/png": "[encoded data removed]",
      "text/plain": [
       "<Figure size 720x360 with 1 Axes>"
      ]
     },
     "metadata": {
      "needs_background": "light"
     },
     "output_type": "display_data"
    }
   ],
   "source": [
    "plt.figure(figsize=(10,5))\n",
    "sns.distplot(df['Age'])"
   ]
  },
  {
   "cell_type": "markdown",
   "id": "ca744960",
   "metadata": {},
   "source": [
    "Distribution of Age is normally distributed."
   ]
  },
  {
   "cell_type": "code",
   "execution_count": 23,
   "id": "ca40e25c",
   "metadata": {},
   "outputs": [
    {
     "data": {
      "text/plain": [
       "<AxesSubplot:xlabel='Age'>"
      ]
     },
     "execution_count": 23,
     "metadata": {},
     "output_type": "execute_result"
    },
    {
     "data": {
      "image/png": "[encoded data removed]",
      "text/plain": [
       "<Figure size 720x360 with 1 Axes>"
      ]
     },
     "metadata": {
      "needs_background": "light"
     },
     "output_type": "display_data"
    }
   ],
   "source": [
    "plt.figure(figsize=(10,5))\n",
    "sns.violinplot(df['Age'])\n"
   ]
  },
  {
   "cell_type": "markdown",
   "id": "4ec0f6d7",
   "metadata": {},
   "source": [
    "Majority of the people age is between 20 and 40. Minority people between 60 and 80."
   ]
  },
  {
   "cell_type": "code",
   "execution_count": 24,
   "id": "42b196b5",
   "metadata": {},
   "outputs": [
    {
     "data": {
      "text/plain": [
       "0.000000    608\n",
       "1.000000    209\n",
       "1.414214     28\n",
       "2.000000     18\n",
       "1.732051     16\n",
       "2.828427      7\n",
       "2.236068      5\n",
       "Name: SibSp, dtype: int64"
      ]
     },
     "execution_count": 24,
     "metadata": {},
     "output_type": "execute_result"
    },
    {
     "data": {
      "image/png": "[encoded data removed]",
      "text/plain": [
       "<Figure size 720x360 with 1 Axes>"
      ]
     },
     "metadata": {
      "needs_background": "light"
     },
     "output_type": "display_data"
    }
   ],
   "source": [
    "plt.figure(figsize=(10,5))\n",
    "sns.countplot(df['SibSp'])\n",
    "df['SibSp'].value_counts()"
   ]
  },
  {
   "cell_type": "markdown",
   "id": "af098b2d",
   "metadata": {},
   "source": [
    "This chart shows how many siblings/spouse they had."
   ]
  },
  {
   "cell_type": "code",
   "execution_count": 25,
   "id": "8803deaf",
   "metadata": {},
   "outputs": [
    {
     "data": {
      "text/plain": [
       "0.000000    678\n",
       "1.000000    118\n",
       "1.414214     80\n",
       "2.236068      5\n",
       "1.732051      5\n",
       "2.000000      4\n",
       "2.449490      1\n",
       "Name: Parch, dtype: int64"
      ]
     },
     "execution_count": 25,
     "metadata": {},
     "output_type": "execute_result"
    },
    {
     "data": {
      "image/png": "[encoded data removed]",
      "text/plain": [
       "<Figure size 720x360 with 1 Axes>"
      ]
     },
     "metadata": {
      "needs_background": "light"
     },
     "output_type": "display_data"
    }
   ],
   "source": [
    "plt.figure(figsize=(10,5))\n",
    "sns.countplot(df['Parch'])\n",
    "df['Parch'].value_counts()"
   ]
  },
  {
   "cell_type": "code",
   "execution_count": 26,
   "id": "166ac5e2",
   "metadata": {},
   "outputs": [
    {
     "data": {
      "text/plain": [
       "<AxesSubplot:xlabel='Fare', ylabel='Density'>"
      ]
     },
     "execution_count": 26,
     "metadata": {},
     "output_type": "execute_result"
    },
    {
     "data": {
      "image/png": "[encoded data removed]",
      "text/plain": [
       "<Figure size 720x360 with 1 Axes>"
      ]
     },
     "metadata": {
      "needs_background": "light"
     },
     "output_type": "display_data"
    }
   ],
   "source": [
    "plt.figure(figsize=(10,5))\n",
    "sns.distplot(df['Fare'])"
   ]
  },
  {
   "cell_type": "code",
   "execution_count": 27,
   "id": "ebb754e0",
   "metadata": {},
   "outputs": [
    {
     "data": {
      "text/plain": [
       "S    646\n",
       "C    168\n",
       "Q     77\n",
       "Name: Embarked, dtype: int64"
      ]
     },
     "execution_count": 27,
     "metadata": {},
     "output_type": "execute_result"
    },
    {
     "data": {
      "image/png": "[encoded data removed]",
      "text/plain": [
       "<Figure size 720x360 with 1 Axes>"
      ]
     },
     "metadata": {
      "needs_background": "light"
     },
     "output_type": "display_data"
    }
   ],
   "source": [
    "#Embarked is the dataset is the boarding place of the traveler.\n",
    "plt.figure(figsize=(10,5))\n",
    "sns.countplot(df['Embarked'])\n",
    "df['Embarked'].value_counts()"
   ]
  },
  {
   "cell_type": "markdown",
   "id": "dce38cd0",
   "metadata": {},
   "source": [
    "646 people boarded in S, 168 people boarded in C and 77 people boarded in Q."
   ]
  },
  {
   "cell_type": "code",
   "execution_count": 28,
   "id": "481cc7a2",
   "metadata": {},
   "outputs": [
    {
     "data": {
      "image/png": "[encoded data removed]",
      "text/plain": [
       "<Figure size 432x288 with 1 Axes>"
      ]
     },
     "metadata": {},
     "output_type": "display_data"
    }
   ],
   "source": [
    "sns.set(style='whitegrid')\n",
    "ax=sns.countplot(x='Survived',hue='Sex',data=df)\n",
    "for i in ax.patches:\n",
    "   ax.annotate( '{:.1f}'.format(i.get_height()),(i.get_x()+0.20, i.get_height()+0.01),ha='center')"
   ]
  },
  {
   "cell_type": "markdown",
   "id": "f1c9ca5d",
   "metadata": {},
   "source": [
    "468-Male & 81-Female not survived. 109-male & 233-Female survived."
   ]
  },
  {
   "cell_type": "code",
   "execution_count": 29,
   "id": "98b81727",
   "metadata": {},
   "outputs": [
    {
     "data": {
      "image/png": "[encoded data removed]",
      "text/plain": [
       "<Figure size 720x360 with 1 Axes>"
      ]
     },
     "metadata": {},
     "output_type": "display_data"
    }
   ],
   "source": [
    "plt.figure(figsize=(10,5))\n",
    "sns.set(style='whitegrid')\n",
    "ax=sns.countplot(x='Survived',hue='Pclass',data=df)\n",
    "for i in ax.patches:\n",
    "   ax.annotate( '{:.1f}'.format(i.get_height()),(i.get_x()+0.20, i.get_height()+0.01),ha='right')"
   ]
  },
  {
   "cell_type": "markdown",
   "id": "bd3c88d6",
   "metadata": {},
   "source": [
    "136 people from class1,87 people from class2 and 119 people from class3 survived.\n",
    "\n",
    "80 people from class1,97 people from class2 and 372 people from class3 not survived."
   ]
  },
  {
   "cell_type": "code",
   "execution_count": 30,
   "id": "8327a240",
   "metadata": {},
   "outputs": [
    {
     "data": {
      "image/png": "[encoded data removed]",
      "text/plain": [
       "<Figure size 720x720 with 1 Axes>"
      ]
     },
     "metadata": {},
     "output_type": "display_data"
    }
   ],
   "source": [
    "plt.figure(figsize=(10,10))\n",
    "sns.set(style='whitegrid')\n",
    "ax=sns.countplot(x='Embarked',hue='Pclass',data=df)\n",
    "for i in ax.patches:\n",
    "   ax.annotate( '{:.1f}'.format(i.get_height()),(i.get_x()+0.20, i.get_height()+0.02),ha='right')"
   ]
  },
  {
   "cell_type": "markdown",
   "id": "dc85437b",
   "metadata": {},
   "source": [
    "129 people in class1,164 people in class2,353 people in class3, they are boarded from S.\n",
    "\n",
    "85 people in class1,17 people in class2,66 people in class3, they are boarded from C.\n",
    "\n",
    "2 people in class1,3 people in class2,72 people in class3, they are boarded from Q."
   ]
  },
  {
   "cell_type": "code",
   "execution_count": 31,
   "id": "da5c2b79",
   "metadata": {},
   "outputs": [
    {
     "data": {
      "image/png": "[encoded data removed]",
      "text/plain": [
       "<Figure size 720x360 with 1 Axes>"
      ]
     },
     "metadata": {},
     "output_type": "display_data"
    }
   ],
   "source": [
    "plt.figure(figsize=(10,5))\n",
    "sns.set(style='whitegrid')\n",
    "ax=sns.countplot(x='Embarked',hue='Survived',data=df)\n",
    "for i in ax.patches:\n",
    "   ax.annotate( '{:.1f}'.format(i.get_height()),(i.get_x()+0.25, i.get_height()+0.01),ha='center')"
   ]
  },
  {
   "cell_type": "markdown",
   "id": "fbd5a1df",
   "metadata": {},
   "source": [
    "From the people boarded from S 219 of them survived, 427 of them not survived.\n",
    "\n",
    "From the people boarded from C 93 of them survived, 75 of them not survived.\n",
    "\n",
    "From the people boarded form Q 30 of them survived, 47 of them not survived."
   ]
  },
  {
   "cell_type": "code",
   "execution_count": 32,
   "id": "fa5eae8e",
   "metadata": {},
   "outputs": [
    {
     "data": {
      "image/png": "[encoded data removed]",
      "text/plain": [
       "<Figure size 720x360 with 1 Axes>"
      ]
     },
     "metadata": {},
     "output_type": "display_data"
    }
   ],
   "source": [
    "plt.figure(figsize=(10,5))\n",
    "sns.set(style='whitegrid')\n",
    "ax=sns.countplot(x='Embarked',hue='Sex',data=df)\n",
    "for i in ax.patches:\n",
    "   ax.annotate( '{:.1f}'.format(i.get_height()),(i.get_x()+0.25, i.get_height()+0.01),ha='center')"
   ]
  },
  {
   "cell_type": "markdown",
   "id": "9f1a0475",
   "metadata": {},
   "source": [
    "441 Male & 205 Female boarded from S\n",
    "\n",
    "95 Male & 73 Female boarded from C\n",
    "\n",
    "41 Male & 36 Female boarded from Q"
   ]
  },
  {
   "cell_type": "code",
   "execution_count": 33,
   "id": "adef25ed",
   "metadata": {},
   "outputs": [
    {
     "data": {
      "image/png": "[encoded data removed]",
      "text/plain": [
       "<Figure size 720x360 with 1 Axes>"
      ]
     },
     "metadata": {},
     "output_type": "display_data"
    }
   ],
   "source": [
    "plt.figure(figsize=(10,5))\n",
    "sns.set(style='whitegrid')\n",
    "ax=sns.countplot(x='Sex',hue='Pclass',data=df)\n",
    "for i in ax.patches:\n",
    "   ax.annotate( '{:.1f}'.format(i.get_height()),(i.get_x()+0.20, i.get_height()+0.01),ha='right')"
   ]
  },
  {
   "cell_type": "markdown",
   "id": "fb8d1ba8",
   "metadata": {},
   "source": [
    "The 1st class has 122 male and 94 female.\n",
    "\n",
    "The 2nd class has 108 male and 76 female.\n",
    "\n",
    "The 3rd class has 347 male and 144 female."
   ]
  },
  {
   "cell_type": "markdown",
   "id": "fccb1a16",
   "metadata": {},
   "source": [
    "Checking outliers"
   ]
  },
  {
   "cell_type": "code",
   "execution_count": 34,
   "id": "c825851c",
   "metadata": {},
   "outputs": [
    {
     "data": {
      "text/html": [
       "<div>\n",
       "<style scoped>\n",
       "    .dataframe tbody tr th:only-of-type {\n",
       "        vertical-align: middle;\n",
       "    }\n",
       "\n",
       "    .dataframe tbody tr th {\n",
       "        vertical-align: top;\n",
       "    }\n",
       "\n",
       "    .dataframe thead th {\n",
       "        text-align: right;\n",
       "    }\n",
       "</style>\n",
       "<table border=\"1\" class=\"dataframe\">\n",
       "  <thead>\n",
       "    <tr style=\"text-align: right;\">\n",
       "      <th></th>\n",
       "      <th>Survived</th>\n",
       "      <th>Pclass</th>\n",
       "      <th>Sex</th>\n",
       "      <th>Age</th>\n",
       "      <th>SibSp</th>\n",
       "      <th>Parch</th>\n",
       "      <th>Ticket</th>\n",
       "      <th>Fare</th>\n",
       "      <th>Embarked</th>\n",
       "    </tr>\n",
       "  </thead>\n",
       "  <tbody>\n",
       "    <tr>\n",
       "      <th>0</th>\n",
       "      <td>0</td>\n",
       "      <td>3</td>\n",
       "      <td>male</td>\n",
       "      <td>22</td>\n",
       "      <td>1.0</td>\n",
       "      <td>0.000000</td>\n",
       "      <td>A/5 21171</td>\n",
       "      <td>2.692582</td>\n",
       "      <td>S</td>\n",
       "    </tr>\n",
       "    <tr>\n",
       "      <th>1</th>\n",
       "      <td>1</td>\n",
       "      <td>1</td>\n",
       "      <td>female</td>\n",
       "      <td>38</td>\n",
       "      <td>1.0</td>\n",
       "      <td>0.000000</td>\n",
       "      <td>PC 17599</td>\n",
       "      <td>8.442944</td>\n",
       "      <td>C</td>\n",
       "    </tr>\n",
       "    <tr>\n",
       "      <th>2</th>\n",
       "      <td>1</td>\n",
       "      <td>3</td>\n",
       "      <td>female</td>\n",
       "      <td>26</td>\n",
       "      <td>0.0</td>\n",
       "      <td>0.000000</td>\n",
       "      <td>STON/O2. 3101282</td>\n",
       "      <td>2.815138</td>\n",
       "      <td>S</td>\n",
       "    </tr>\n",
       "    <tr>\n",
       "      <th>3</th>\n",
       "      <td>1</td>\n",
       "      <td>1</td>\n",
       "      <td>female</td>\n",
       "      <td>35</td>\n",
       "      <td>1.0</td>\n",
       "      <td>0.000000</td>\n",
       "      <td>113803</td>\n",
       "      <td>7.286975</td>\n",
       "      <td>S</td>\n",
       "    </tr>\n",
       "    <tr>\n",
       "      <th>4</th>\n",
       "      <td>0</td>\n",
       "      <td>3</td>\n",
       "      <td>male</td>\n",
       "      <td>35</td>\n",
       "      <td>0.0</td>\n",
       "      <td>0.000000</td>\n",
       "      <td>373450</td>\n",
       "      <td>2.837252</td>\n",
       "      <td>S</td>\n",
       "    </tr>\n",
       "    <tr>\n",
       "      <th>...</th>\n",
       "      <td>...</td>\n",
       "      <td>...</td>\n",
       "      <td>...</td>\n",
       "      <td>...</td>\n",
       "      <td>...</td>\n",
       "      <td>...</td>\n",
       "      <td>...</td>\n",
       "      <td>...</td>\n",
       "      <td>...</td>\n",
       "    </tr>\n",
       "    <tr>\n",
       "      <th>886</th>\n",
       "      <td>0</td>\n",
       "      <td>2</td>\n",
       "      <td>male</td>\n",
       "      <td>27</td>\n",
       "      <td>0.0</td>\n",
       "      <td>0.000000</td>\n",
       "      <td>211536</td>\n",
       "      <td>3.605551</td>\n",
       "      <td>S</td>\n",
       "    </tr>\n",
       "    <tr>\n",
       "      <th>887</th>\n",
       "      <td>1</td>\n",
       "      <td>1</td>\n",
       "      <td>female</td>\n",
       "      <td>19</td>\n",
       "      <td>0.0</td>\n",
       "      <td>0.000000</td>\n",
       "      <td>112053</td>\n",
       "      <td>5.477226</td>\n",
       "      <td>S</td>\n",
       "    </tr>\n",
       "    <tr>\n",
       "      <th>888</th>\n",
       "      <td>0</td>\n",
       "      <td>3</td>\n",
       "      <td>female</td>\n",
       "      <td>29</td>\n",
       "      <td>1.0</td>\n",
       "      <td>1.414214</td>\n",
       "      <td>W./C. 6607</td>\n",
       "      <td>4.842520</td>\n",
       "      <td>S</td>\n",
       "    </tr>\n",
       "    <tr>\n",
       "      <th>889</th>\n",
       "      <td>1</td>\n",
       "      <td>1</td>\n",
       "      <td>male</td>\n",
       "      <td>26</td>\n",
       "      <td>0.0</td>\n",
       "      <td>0.000000</td>\n",
       "      <td>111369</td>\n",
       "      <td>5.477226</td>\n",
       "      <td>C</td>\n",
       "    </tr>\n",
       "    <tr>\n",
       "      <th>890</th>\n",
       "      <td>0</td>\n",
       "      <td>3</td>\n",
       "      <td>male</td>\n",
       "      <td>32</td>\n",
       "      <td>0.0</td>\n",
       "      <td>0.000000</td>\n",
       "      <td>370376</td>\n",
       "      <td>2.783882</td>\n",
       "      <td>Q</td>\n",
       "    </tr>\n",
       "  </tbody>\n",
       "</table>\n",
       "<p>891 rows × 9 columns</p>\n",
       "</div>"
      ],
      "text/plain": [
       "     Survived  Pclass     Sex  Age  SibSp     Parch            Ticket  \\\n",
       "0           0       3    male   22    1.0  0.000000         A/5 21171   \n",
       "1           1       1  female   38    1.0  0.000000          PC 17599   \n",
       "2           1       3  female   26    0.0  0.000000  STON/O2. 3101282   \n",
       "3           1       1  female   35    1.0  0.000000            113803   \n",
       "4           0       3    male   35    0.0  0.000000            373450   \n",
       "..        ...     ...     ...  ...    ...       ...               ...   \n",
       "886         0       2    male   27    0.0  0.000000            211536   \n",
       "887         1       1  female   19    0.0  0.000000            112053   \n",
       "888         0       3  female   29    1.0  1.414214        W./C. 6607   \n",
       "889         1       1    male   26    0.0  0.000000            111369   \n",
       "890         0       3    male   32    0.0  0.000000            370376   \n",
       "\n",
       "         Fare Embarked  \n",
       "0    2.692582        S  \n",
       "1    8.442944        C  \n",
       "2    2.815138        S  \n",
       "3    7.286975        S  \n",
       "4    2.837252        S  \n",
       "..        ...      ...  \n",
       "886  3.605551        S  \n",
       "887  5.477226        S  \n",
       "888  4.842520        S  \n",
       "889  5.477226        C  \n",
       "890  2.783882        Q  \n",
       "\n",
       "[891 rows x 9 columns]"
      ]
     },
     "execution_count": 34,
     "metadata": {},
     "output_type": "execute_result"
    }
   ],
   "source": [
    "df"
   ]
  },
  {
   "cell_type": "code",
   "execution_count": 35,
   "id": "36b477c3",
   "metadata": {},
   "outputs": [
    {
     "data": {
      "text/plain": [
       "Survived      int64\n",
       "Pclass        int64\n",
       "Sex          object\n",
       "Age           int32\n",
       "SibSp       float64\n",
       "Parch       float64\n",
       "Ticket       object\n",
       "Fare        float64\n",
       "Embarked     object\n",
       "dtype: object"
      ]
     },
     "execution_count": 35,
     "metadata": {},
     "output_type": "execute_result"
    }
   ],
   "source": [
    "df.dtypes"
   ]
  },
  {
   "cell_type": "code",
   "execution_count": 36,
   "id": "99520a08",
   "metadata": {},
   "outputs": [
    {
     "data": {
      "text/html": [
       "<div>\n",
       "<style scoped>\n",
       "    .dataframe tbody tr th:only-of-type {\n",
       "        vertical-align: middle;\n",
       "    }\n",
       "\n",
       "    .dataframe tbody tr th {\n",
       "        vertical-align: top;\n",
       "    }\n",
       "\n",
       "    .dataframe thead th {\n",
       "        text-align: right;\n",
       "    }\n",
       "</style>\n",
       "<table border=\"1\" class=\"dataframe\">\n",
       "  <thead>\n",
       "    <tr style=\"text-align: right;\">\n",
       "      <th></th>\n",
       "      <th>Survived</th>\n",
       "      <th>Pclass</th>\n",
       "      <th>Sex</th>\n",
       "      <th>Age</th>\n",
       "      <th>SibSp</th>\n",
       "      <th>Parch</th>\n",
       "      <th>Ticket</th>\n",
       "      <th>Fare</th>\n",
       "      <th>Embarked</th>\n",
       "    </tr>\n",
       "  </thead>\n",
       "  <tbody>\n",
       "    <tr>\n",
       "      <th>0</th>\n",
       "      <td>0</td>\n",
       "      <td>2</td>\n",
       "      <td>1</td>\n",
       "      <td>22</td>\n",
       "      <td>1.0</td>\n",
       "      <td>0.000000</td>\n",
       "      <td>523</td>\n",
       "      <td>2.692582</td>\n",
       "      <td>2</td>\n",
       "    </tr>\n",
       "    <tr>\n",
       "      <th>1</th>\n",
       "      <td>1</td>\n",
       "      <td>0</td>\n",
       "      <td>0</td>\n",
       "      <td>38</td>\n",
       "      <td>1.0</td>\n",
       "      <td>0.000000</td>\n",
       "      <td>596</td>\n",
       "      <td>8.442944</td>\n",
       "      <td>0</td>\n",
       "    </tr>\n",
       "    <tr>\n",
       "      <th>2</th>\n",
       "      <td>1</td>\n",
       "      <td>2</td>\n",
       "      <td>0</td>\n",
       "      <td>26</td>\n",
       "      <td>0.0</td>\n",
       "      <td>0.000000</td>\n",
       "      <td>669</td>\n",
       "      <td>2.815138</td>\n",
       "      <td>2</td>\n",
       "    </tr>\n",
       "    <tr>\n",
       "      <th>3</th>\n",
       "      <td>1</td>\n",
       "      <td>0</td>\n",
       "      <td>0</td>\n",
       "      <td>35</td>\n",
       "      <td>1.0</td>\n",
       "      <td>0.000000</td>\n",
       "      <td>49</td>\n",
       "      <td>7.286975</td>\n",
       "      <td>2</td>\n",
       "    </tr>\n",
       "    <tr>\n",
       "      <th>4</th>\n",
       "      <td>0</td>\n",
       "      <td>2</td>\n",
       "      <td>1</td>\n",
       "      <td>35</td>\n",
       "      <td>0.0</td>\n",
       "      <td>0.000000</td>\n",
       "      <td>472</td>\n",
       "      <td>2.837252</td>\n",
       "      <td>2</td>\n",
       "    </tr>\n",
       "    <tr>\n",
       "      <th>...</th>\n",
       "      <td>...</td>\n",
       "      <td>...</td>\n",
       "      <td>...</td>\n",
       "      <td>...</td>\n",
       "      <td>...</td>\n",
       "      <td>...</td>\n",
       "      <td>...</td>\n",
       "      <td>...</td>\n",
       "      <td>...</td>\n",
       "    </tr>\n",
       "    <tr>\n",
       "      <th>886</th>\n",
       "      <td>0</td>\n",
       "      <td>1</td>\n",
       "      <td>1</td>\n",
       "      <td>27</td>\n",
       "      <td>0.0</td>\n",
       "      <td>0.000000</td>\n",
       "      <td>101</td>\n",
       "      <td>3.605551</td>\n",
       "      <td>2</td>\n",
       "    </tr>\n",
       "    <tr>\n",
       "      <th>887</th>\n",
       "      <td>1</td>\n",
       "      <td>0</td>\n",
       "      <td>0</td>\n",
       "      <td>19</td>\n",
       "      <td>0.0</td>\n",
       "      <td>0.000000</td>\n",
       "      <td>14</td>\n",
       "      <td>5.477226</td>\n",
       "      <td>2</td>\n",
       "    </tr>\n",
       "    <tr>\n",
       "      <th>888</th>\n",
       "      <td>0</td>\n",
       "      <td>2</td>\n",
       "      <td>0</td>\n",
       "      <td>29</td>\n",
       "      <td>1.0</td>\n",
       "      <td>1.414214</td>\n",
       "      <td>675</td>\n",
       "      <td>4.842520</td>\n",
       "      <td>2</td>\n",
       "    </tr>\n",
       "    <tr>\n",
       "      <th>889</th>\n",
       "      <td>1</td>\n",
       "      <td>0</td>\n",
       "      <td>1</td>\n",
       "      <td>26</td>\n",
       "      <td>0.0</td>\n",
       "      <td>0.000000</td>\n",
       "      <td>8</td>\n",
       "      <td>5.477226</td>\n",
       "      <td>0</td>\n",
       "    </tr>\n",
       "    <tr>\n",
       "      <th>890</th>\n",
       "      <td>0</td>\n",
       "      <td>2</td>\n",
       "      <td>1</td>\n",
       "      <td>32</td>\n",
       "      <td>0.0</td>\n",
       "      <td>0.000000</td>\n",
       "      <td>466</td>\n",
       "      <td>2.783882</td>\n",
       "      <td>1</td>\n",
       "    </tr>\n",
       "  </tbody>\n",
       "</table>\n",
       "<p>891 rows × 9 columns</p>\n",
       "</div>"
      ],
      "text/plain": [
       "     Survived  Pclass  Sex  Age  SibSp     Parch  Ticket      Fare  Embarked\n",
       "0           0       2    1   22    1.0  0.000000     523  2.692582         2\n",
       "1           1       0    0   38    1.0  0.000000     596  8.442944         0\n",
       "2           1       2    0   26    0.0  0.000000     669  2.815138         2\n",
       "3           1       0    0   35    1.0  0.000000      49  7.286975         2\n",
       "4           0       2    1   35    0.0  0.000000     472  2.837252         2\n",
       "..        ...     ...  ...  ...    ...       ...     ...       ...       ...\n",
       "886         0       1    1   27    0.0  0.000000     101  3.605551         2\n",
       "887         1       0    0   19    0.0  0.000000      14  5.477226         2\n",
       "888         0       2    0   29    1.0  1.414214     675  4.842520         2\n",
       "889         1       0    1   26    0.0  0.000000       8  5.477226         0\n",
       "890         0       2    1   32    0.0  0.000000     466  2.783882         1\n",
       "\n",
       "[891 rows x 9 columns]"
      ]
     },
     "execution_count": 36,
     "metadata": {},
     "output_type": "execute_result"
    }
   ],
   "source": [
    "#Using label encoder encoding the Sex column\n",
    "from sklearn.preprocessing import LabelEncoder\n",
    "\n",
    "LE=LabelEncoder()\n",
    "df['Pclass']=LE.fit_transform(df['Pclass'])\n",
    "df['Sex']=LE.fit_transform(df['Sex'])\n",
    "df['Age']=LE.fit_transform(df['Age'])\n",
    "df['Ticket']=LE.fit_transform(df['Ticket'])\n",
    "df['Embarked']=LE.fit_transform(df['Embarked'])\n",
    "df"
   ]
  },
  {
   "cell_type": "code",
   "execution_count": 37,
   "id": "d85ce0bb",
   "metadata": {},
   "outputs": [
    {
     "data": {
      "image/png": "[encoded data removed]",
      "text/plain": [
       "<Figure size 432x288 with 1 Axes>"
      ]
     },
     "metadata": {},
     "output_type": "display_data"
    }
   ],
   "source": [
    "ax=sns.boxplot(y=df['Age'])"
   ]
  },
  {
   "cell_type": "code",
   "execution_count": 38,
   "id": "b095dbde",
   "metadata": {},
   "outputs": [
    {
     "data": {
      "image/png": "[encoded data removed]",
      "text/plain": [
       "<Figure size 432x288 with 1 Axes>"
      ]
     },
     "metadata": {},
     "output_type": "display_data"
    }
   ],
   "source": [
    "ax=sns.boxplot(y=df['SibSp'])"
   ]
  },
  {
   "cell_type": "code",
   "execution_count": 39,
   "id": "792d1bf0",
   "metadata": {},
   "outputs": [
    {
     "data": {
      "image/png": "[encoded data removed]",
      "text/plain": [
       "<Figure size 432x288 with 1 Axes>"
      ]
     },
     "metadata": {},
     "output_type": "display_data"
    }
   ],
   "source": [
    "ax=sns.boxplot(y=df['Fare'])"
   ]
  },
  {
   "cell_type": "code",
   "execution_count": 40,
   "id": "3c5aae04",
   "metadata": {},
   "outputs": [
    {
     "name": "stdout",
     "output_type": "stream",
     "text": [
      "(array([ 13,  25,  27,  59,  71,  88, 118, 159, 167, 180, 201, 258, 299,\n",
      "       311, 324, 341, 360, 377, 380, 386, 438, 438, 480, 527, 557, 567,\n",
      "       610, 630, 638, 678, 679, 683, 689, 700, 716, 730, 737, 742, 779,\n",
      "       792, 846, 851, 863, 885], dtype=int64), array([5, 5, 7, 4, 4, 7, 7, 4, 5, 4, 4, 7, 7, 7, 4, 7, 5, 7, 7, 4, 5, 7,\n",
      "       4, 7, 7, 5, 5, 3, 5, 5, 7, 4, 7, 7, 7, 7, 7, 7, 7, 4, 4, 3, 4, 5],\n",
      "      dtype=int64))\n"
     ]
    }
   ],
   "source": [
    "#Finding out outliers\n",
    "from scipy.stats import zscore\n",
    "\n",
    "score=np.abs(zscore(df))\n",
    "print(np.where(score>3))"
   ]
  },
  {
   "cell_type": "code",
   "execution_count": 41,
   "id": "43137a4d",
   "metadata": {},
   "outputs": [
    {
     "name": "stdout",
     "output_type": "stream",
     "text": [
      "dfnew.shape =  (848, 9)\n"
     ]
    }
   ],
   "source": [
    "#Removing outliers\n",
    "dfnew=df[(score<3).all(axis=1)]\n",
    "print('dfnew.shape = ',dfnew.shape)\n",
    "df=dfnew"
   ]
  },
  {
   "cell_type": "code",
   "execution_count": 42,
   "id": "a0bbd443",
   "metadata": {},
   "outputs": [
    {
     "data": {
      "text/plain": [
       "4.8260381593714925"
      ]
     },
     "execution_count": 42,
     "metadata": {},
     "output_type": "execute_result"
    }
   ],
   "source": [
    "data_loss=(891-848)/891*100\n",
    "data_loss"
   ]
  },
  {
   "cell_type": "markdown",
   "id": "86d16348",
   "metadata": {},
   "source": [
    "4.82 % Data loss after outliers removed."
   ]
  },
  {
   "cell_type": "code",
   "execution_count": 43,
   "id": "f42e71bb",
   "metadata": {},
   "outputs": [],
   "source": [
    "#Separating the dependent and independent variables.\n",
    "\n",
    "X=df.drop('Survived',axis=1)\n",
    "Y=df['Survived']"
   ]
  },
  {
   "cell_type": "code",
   "execution_count": 44,
   "id": "bb426b5e",
   "metadata": {},
   "outputs": [
    {
     "data": {
      "text/html": [
       "<div>\n",
       "<style scoped>\n",
       "    .dataframe tbody tr th:only-of-type {\n",
       "        vertical-align: middle;\n",
       "    }\n",
       "\n",
       "    .dataframe tbody tr th {\n",
       "        vertical-align: top;\n",
       "    }\n",
       "\n",
       "    .dataframe thead th {\n",
       "        text-align: right;\n",
       "    }\n",
       "</style>\n",
       "<table border=\"1\" class=\"dataframe\">\n",
       "  <thead>\n",
       "    <tr style=\"text-align: right;\">\n",
       "      <th></th>\n",
       "      <th>Pclass</th>\n",
       "      <th>Sex</th>\n",
       "      <th>Age</th>\n",
       "      <th>SibSp</th>\n",
       "      <th>Parch</th>\n",
       "      <th>Ticket</th>\n",
       "      <th>Fare</th>\n",
       "      <th>Embarked</th>\n",
       "    </tr>\n",
       "  </thead>\n",
       "  <tbody>\n",
       "    <tr>\n",
       "      <th>0</th>\n",
       "      <td>2</td>\n",
       "      <td>1</td>\n",
       "      <td>22</td>\n",
       "      <td>1.0</td>\n",
       "      <td>0.000000</td>\n",
       "      <td>523</td>\n",
       "      <td>2.692582</td>\n",
       "      <td>2</td>\n",
       "    </tr>\n",
       "    <tr>\n",
       "      <th>1</th>\n",
       "      <td>0</td>\n",
       "      <td>0</td>\n",
       "      <td>38</td>\n",
       "      <td>1.0</td>\n",
       "      <td>0.000000</td>\n",
       "      <td>596</td>\n",
       "      <td>8.442944</td>\n",
       "      <td>0</td>\n",
       "    </tr>\n",
       "    <tr>\n",
       "      <th>2</th>\n",
       "      <td>2</td>\n",
       "      <td>0</td>\n",
       "      <td>26</td>\n",
       "      <td>0.0</td>\n",
       "      <td>0.000000</td>\n",
       "      <td>669</td>\n",
       "      <td>2.815138</td>\n",
       "      <td>2</td>\n",
       "    </tr>\n",
       "    <tr>\n",
       "      <th>3</th>\n",
       "      <td>0</td>\n",
       "      <td>0</td>\n",
       "      <td>35</td>\n",
       "      <td>1.0</td>\n",
       "      <td>0.000000</td>\n",
       "      <td>49</td>\n",
       "      <td>7.286975</td>\n",
       "      <td>2</td>\n",
       "    </tr>\n",
       "    <tr>\n",
       "      <th>4</th>\n",
       "      <td>2</td>\n",
       "      <td>1</td>\n",
       "      <td>35</td>\n",
       "      <td>0.0</td>\n",
       "      <td>0.000000</td>\n",
       "      <td>472</td>\n",
       "      <td>2.837252</td>\n",
       "      <td>2</td>\n",
       "    </tr>\n",
       "    <tr>\n",
       "      <th>...</th>\n",
       "      <td>...</td>\n",
       "      <td>...</td>\n",
       "      <td>...</td>\n",
       "      <td>...</td>\n",
       "      <td>...</td>\n",
       "      <td>...</td>\n",
       "      <td>...</td>\n",
       "      <td>...</td>\n",
       "    </tr>\n",
       "    <tr>\n",
       "      <th>886</th>\n",
       "      <td>1</td>\n",
       "      <td>1</td>\n",
       "      <td>27</td>\n",
       "      <td>0.0</td>\n",
       "      <td>0.000000</td>\n",
       "      <td>101</td>\n",
       "      <td>3.605551</td>\n",
       "      <td>2</td>\n",
       "    </tr>\n",
       "    <tr>\n",
       "      <th>887</th>\n",
       "      <td>0</td>\n",
       "      <td>0</td>\n",
       "      <td>19</td>\n",
       "      <td>0.0</td>\n",
       "      <td>0.000000</td>\n",
       "      <td>14</td>\n",
       "      <td>5.477226</td>\n",
       "      <td>2</td>\n",
       "    </tr>\n",
       "    <tr>\n",
       "      <th>888</th>\n",
       "      <td>2</td>\n",
       "      <td>0</td>\n",
       "      <td>29</td>\n",
       "      <td>1.0</td>\n",
       "      <td>1.414214</td>\n",
       "      <td>675</td>\n",
       "      <td>4.842520</td>\n",
       "      <td>2</td>\n",
       "    </tr>\n",
       "    <tr>\n",
       "      <th>889</th>\n",
       "      <td>0</td>\n",
       "      <td>1</td>\n",
       "      <td>26</td>\n",
       "      <td>0.0</td>\n",
       "      <td>0.000000</td>\n",
       "      <td>8</td>\n",
       "      <td>5.477226</td>\n",
       "      <td>0</td>\n",
       "    </tr>\n",
       "    <tr>\n",
       "      <th>890</th>\n",
       "      <td>2</td>\n",
       "      <td>1</td>\n",
       "      <td>32</td>\n",
       "      <td>0.0</td>\n",
       "      <td>0.000000</td>\n",
       "      <td>466</td>\n",
       "      <td>2.783882</td>\n",
       "      <td>1</td>\n",
       "    </tr>\n",
       "  </tbody>\n",
       "</table>\n",
       "<p>848 rows × 8 columns</p>\n",
       "</div>"
      ],
      "text/plain": [
       "     Pclass  Sex  Age  SibSp     Parch  Ticket      Fare  Embarked\n",
       "0         2    1   22    1.0  0.000000     523  2.692582         2\n",
       "1         0    0   38    1.0  0.000000     596  8.442944         0\n",
       "2         2    0   26    0.0  0.000000     669  2.815138         2\n",
       "3         0    0   35    1.0  0.000000      49  7.286975         2\n",
       "4         2    1   35    0.0  0.000000     472  2.837252         2\n",
       "..      ...  ...  ...    ...       ...     ...       ...       ...\n",
       "886       1    1   27    0.0  0.000000     101  3.605551         2\n",
       "887       0    0   19    0.0  0.000000      14  5.477226         2\n",
       "888       2    0   29    1.0  1.414214     675  4.842520         2\n",
       "889       0    1   26    0.0  0.000000       8  5.477226         0\n",
       "890       2    1   32    0.0  0.000000     466  2.783882         1\n",
       "\n",
       "[848 rows x 8 columns]"
      ]
     },
     "execution_count": 44,
     "metadata": {},
     "output_type": "execute_result"
    }
   ],
   "source": [
    "X"
   ]
  },
  {
   "cell_type": "code",
   "execution_count": 45,
   "id": "0036c42d",
   "metadata": {},
   "outputs": [
    {
     "data": {
      "text/plain": [
       "0      0\n",
       "1      1\n",
       "2      1\n",
       "3      1\n",
       "4      0\n",
       "      ..\n",
       "886    0\n",
       "887    1\n",
       "888    0\n",
       "889    1\n",
       "890    0\n",
       "Name: Survived, Length: 848, dtype: int64"
      ]
     },
     "execution_count": 45,
     "metadata": {},
     "output_type": "execute_result"
    }
   ],
   "source": [
    "Y"
   ]
  },
  {
   "cell_type": "code",
   "execution_count": 46,
   "id": "fe96ae4d",
   "metadata": {},
   "outputs": [
    {
     "data": {
      "text/html": [
       "<div>\n",
       "<style scoped>\n",
       "    .dataframe tbody tr th:only-of-type {\n",
       "        vertical-align: middle;\n",
       "    }\n",
       "\n",
       "    .dataframe tbody tr th {\n",
       "        vertical-align: top;\n",
       "    }\n",
       "\n",
       "    .dataframe thead th {\n",
       "        text-align: right;\n",
       "    }\n",
       "</style>\n",
       "<table border=\"1\" class=\"dataframe\">\n",
       "  <thead>\n",
       "    <tr style=\"text-align: right;\">\n",
       "      <th></th>\n",
       "      <th>VIF</th>\n",
       "      <th>Features</th>\n",
       "    </tr>\n",
       "  </thead>\n",
       "  <tbody>\n",
       "    <tr>\n",
       "      <th>0</th>\n",
       "      <td>4.645355</td>\n",
       "      <td>Pclass</td>\n",
       "    </tr>\n",
       "    <tr>\n",
       "      <th>1</th>\n",
       "      <td>3.100685</td>\n",
       "      <td>Sex</td>\n",
       "    </tr>\n",
       "    <tr>\n",
       "      <th>2</th>\n",
       "      <td>6.201915</td>\n",
       "      <td>Age</td>\n",
       "    </tr>\n",
       "    <tr>\n",
       "      <th>3</th>\n",
       "      <td>1.958715</td>\n",
       "      <td>SibSp</td>\n",
       "    </tr>\n",
       "    <tr>\n",
       "      <th>4</th>\n",
       "      <td>1.773872</td>\n",
       "      <td>Parch</td>\n",
       "    </tr>\n",
       "    <tr>\n",
       "      <th>5</th>\n",
       "      <td>4.355352</td>\n",
       "      <td>Ticket</td>\n",
       "    </tr>\n",
       "    <tr>\n",
       "      <th>6</th>\n",
       "      <td>6.162600</td>\n",
       "      <td>Fare</td>\n",
       "    </tr>\n",
       "    <tr>\n",
       "      <th>7</th>\n",
       "      <td>4.509101</td>\n",
       "      <td>Embarked</td>\n",
       "    </tr>\n",
       "  </tbody>\n",
       "</table>\n",
       "</div>"
      ],
      "text/plain": [
       "        VIF  Features\n",
       "0  4.645355    Pclass\n",
       "1  3.100685       Sex\n",
       "2  6.201915       Age\n",
       "3  1.958715     SibSp\n",
       "4  1.773872     Parch\n",
       "5  4.355352    Ticket\n",
       "6  6.162600      Fare\n",
       "7  4.509101  Embarked"
      ]
     },
     "execution_count": 46,
     "metadata": {},
     "output_type": "execute_result"
    }
   ],
   "source": [
    "#Checking multicollinearity\n",
    "from statsmodels.stats.outliers_influence import variance_inflation_factor\n",
    "vif=pd.DataFrame()\n",
    "vif['VIF']=[variance_inflation_factor(X.values,i) for i in range(X.shape[1])] \n",
    "vif['Features']=X.columns\n",
    "vif"
   ]
  },
  {
   "cell_type": "markdown",
   "id": "4d82e54d",
   "metadata": {},
   "source": [
    "There is multicollinearity between Age and Fare."
   ]
  },
  {
   "cell_type": "code",
   "execution_count": 47,
   "id": "85f95805",
   "metadata": {},
   "outputs": [],
   "source": [
    "X=X.drop(['Age'],axis=1)"
   ]
  },
  {
   "cell_type": "code",
   "execution_count": 48,
   "id": "cc5e0aeb",
   "metadata": {},
   "outputs": [
    {
     "data": {
      "text/html": [
       "<div>\n",
       "<style scoped>\n",
       "    .dataframe tbody tr th:only-of-type {\n",
       "        vertical-align: middle;\n",
       "    }\n",
       "\n",
       "    .dataframe tbody tr th {\n",
       "        vertical-align: top;\n",
       "    }\n",
       "\n",
       "    .dataframe thead th {\n",
       "        text-align: right;\n",
       "    }\n",
       "</style>\n",
       "<table border=\"1\" class=\"dataframe\">\n",
       "  <thead>\n",
       "    <tr style=\"text-align: right;\">\n",
       "      <th></th>\n",
       "      <th>Pclass</th>\n",
       "      <th>Sex</th>\n",
       "      <th>SibSp</th>\n",
       "      <th>Parch</th>\n",
       "      <th>Ticket</th>\n",
       "      <th>Fare</th>\n",
       "      <th>Embarked</th>\n",
       "    </tr>\n",
       "  </thead>\n",
       "  <tbody>\n",
       "    <tr>\n",
       "      <th>0</th>\n",
       "      <td>2</td>\n",
       "      <td>1</td>\n",
       "      <td>1.0</td>\n",
       "      <td>0.000000</td>\n",
       "      <td>523</td>\n",
       "      <td>2.692582</td>\n",
       "      <td>2</td>\n",
       "    </tr>\n",
       "    <tr>\n",
       "      <th>1</th>\n",
       "      <td>0</td>\n",
       "      <td>0</td>\n",
       "      <td>1.0</td>\n",
       "      <td>0.000000</td>\n",
       "      <td>596</td>\n",
       "      <td>8.442944</td>\n",
       "      <td>0</td>\n",
       "    </tr>\n",
       "    <tr>\n",
       "      <th>2</th>\n",
       "      <td>2</td>\n",
       "      <td>0</td>\n",
       "      <td>0.0</td>\n",
       "      <td>0.000000</td>\n",
       "      <td>669</td>\n",
       "      <td>2.815138</td>\n",
       "      <td>2</td>\n",
       "    </tr>\n",
       "    <tr>\n",
       "      <th>3</th>\n",
       "      <td>0</td>\n",
       "      <td>0</td>\n",
       "      <td>1.0</td>\n",
       "      <td>0.000000</td>\n",
       "      <td>49</td>\n",
       "      <td>7.286975</td>\n",
       "      <td>2</td>\n",
       "    </tr>\n",
       "    <tr>\n",
       "      <th>4</th>\n",
       "      <td>2</td>\n",
       "      <td>1</td>\n",
       "      <td>0.0</td>\n",
       "      <td>0.000000</td>\n",
       "      <td>472</td>\n",
       "      <td>2.837252</td>\n",
       "      <td>2</td>\n",
       "    </tr>\n",
       "    <tr>\n",
       "      <th>...</th>\n",
       "      <td>...</td>\n",
       "      <td>...</td>\n",
       "      <td>...</td>\n",
       "      <td>...</td>\n",
       "      <td>...</td>\n",
       "      <td>...</td>\n",
       "      <td>...</td>\n",
       "    </tr>\n",
       "    <tr>\n",
       "      <th>886</th>\n",
       "      <td>1</td>\n",
       "      <td>1</td>\n",
       "      <td>0.0</td>\n",
       "      <td>0.000000</td>\n",
       "      <td>101</td>\n",
       "      <td>3.605551</td>\n",
       "      <td>2</td>\n",
       "    </tr>\n",
       "    <tr>\n",
       "      <th>887</th>\n",
       "      <td>0</td>\n",
       "      <td>0</td>\n",
       "      <td>0.0</td>\n",
       "      <td>0.000000</td>\n",
       "      <td>14</td>\n",
       "      <td>5.477226</td>\n",
       "      <td>2</td>\n",
       "    </tr>\n",
       "    <tr>\n",
       "      <th>888</th>\n",
       "      <td>2</td>\n",
       "      <td>0</td>\n",
       "      <td>1.0</td>\n",
       "      <td>1.414214</td>\n",
       "      <td>675</td>\n",
       "      <td>4.842520</td>\n",
       "      <td>2</td>\n",
       "    </tr>\n",
       "    <tr>\n",
       "      <th>889</th>\n",
       "      <td>0</td>\n",
       "      <td>1</td>\n",
       "      <td>0.0</td>\n",
       "      <td>0.000000</td>\n",
       "      <td>8</td>\n",
       "      <td>5.477226</td>\n",
       "      <td>0</td>\n",
       "    </tr>\n",
       "    <tr>\n",
       "      <th>890</th>\n",
       "      <td>2</td>\n",
       "      <td>1</td>\n",
       "      <td>0.0</td>\n",
       "      <td>0.000000</td>\n",
       "      <td>466</td>\n",
       "      <td>2.783882</td>\n",
       "      <td>1</td>\n",
       "    </tr>\n",
       "  </tbody>\n",
       "</table>\n",
       "<p>848 rows × 7 columns</p>\n",
       "</div>"
      ],
      "text/plain": [
       "     Pclass  Sex  SibSp     Parch  Ticket      Fare  Embarked\n",
       "0         2    1    1.0  0.000000     523  2.692582         2\n",
       "1         0    0    1.0  0.000000     596  8.442944         0\n",
       "2         2    0    0.0  0.000000     669  2.815138         2\n",
       "3         0    0    1.0  0.000000      49  7.286975         2\n",
       "4         2    1    0.0  0.000000     472  2.837252         2\n",
       "..      ...  ...    ...       ...     ...       ...       ...\n",
       "886       1    1    0.0  0.000000     101  3.605551         2\n",
       "887       0    0    0.0  0.000000      14  5.477226         2\n",
       "888       2    0    1.0  1.414214     675  4.842520         2\n",
       "889       0    1    0.0  0.000000       8  5.477226         0\n",
       "890       2    1    0.0  0.000000     466  2.783882         1\n",
       "\n",
       "[848 rows x 7 columns]"
      ]
     },
     "execution_count": 48,
     "metadata": {},
     "output_type": "execute_result"
    }
   ],
   "source": [
    "X"
   ]
  },
  {
   "cell_type": "code",
   "execution_count": 49,
   "id": "95bde4ea",
   "metadata": {},
   "outputs": [],
   "source": [
    "from sklearn.model_selection import train_test_split\n",
    "\n",
    "x_train,x_test,y_train,y_test=train_test_split(X,Y,test_size=0.30,random_state=42)"
   ]
  },
  {
   "cell_type": "code",
   "execution_count": 50,
   "id": "250728f9",
   "metadata": {},
   "outputs": [
    {
     "name": "stdout",
     "output_type": "stream",
     "text": [
      "(848, 7)\n",
      "(848,)\n"
     ]
    }
   ],
   "source": [
    "print(X.shape)\n",
    "print(Y.shape)"
   ]
  },
  {
   "cell_type": "code",
   "execution_count": 51,
   "id": "2bfc0548",
   "metadata": {},
   "outputs": [
    {
     "data": {
      "text/plain": [
       "0    522\n",
       "1    326\n",
       "Name: Survived, dtype: int64"
      ]
     },
     "execution_count": 51,
     "metadata": {},
     "output_type": "execute_result"
    }
   ],
   "source": [
    "Y.value_counts()"
   ]
  },
  {
   "cell_type": "markdown",
   "id": "7b91c177",
   "metadata": {},
   "source": [
    "The label is imbalanced data, need to balance."
   ]
  },
  {
   "cell_type": "code",
   "execution_count": 52,
   "id": "42f14277",
   "metadata": {},
   "outputs": [],
   "source": [
    "#concatenate training data back together\n",
    "from sklearn.utils import resample\n",
    "\n",
    "X=pd.concat([x_train,y_train],axis=1)"
   ]
  },
  {
   "cell_type": "code",
   "execution_count": 53,
   "id": "d6c4f45d",
   "metadata": {},
   "outputs": [],
   "source": [
    "not_sur=X[X.Survived==0]\n",
    "sur=X[X.Survived==1]"
   ]
  },
  {
   "cell_type": "code",
   "execution_count": 54,
   "id": "1ac199f5",
   "metadata": {},
   "outputs": [],
   "source": [
    "#Upsampling\n",
    "upsam=resample(sur,replace=True, n_samples=len(not_sur), random_state=25)"
   ]
  },
  {
   "cell_type": "code",
   "execution_count": 55,
   "id": "a4ced647",
   "metadata": {},
   "outputs": [],
   "source": [
    "#Combine majority and minority\n",
    "Upsamp=pd.concat([not_sur,upsam])"
   ]
  },
  {
   "cell_type": "code",
   "execution_count": 56,
   "id": "158abfc8",
   "metadata": {},
   "outputs": [
    {
     "data": {
      "text/plain": [
       "0    367\n",
       "1    367\n",
       "Name: Survived, dtype: int64"
      ]
     },
     "execution_count": 56,
     "metadata": {},
     "output_type": "execute_result"
    }
   ],
   "source": [
    "Upsamp.Survived.value_counts()"
   ]
  },
  {
   "cell_type": "markdown",
   "id": "d34ba6a5",
   "metadata": {
    "collapsed": true
   },
   "source": [
    "The label is balanced."
   ]
  },
  {
   "cell_type": "code",
   "execution_count": 57,
   "id": "a27c555f",
   "metadata": {},
   "outputs": [
    {
     "data": {
      "text/html": [
       "<div>\n",
       "<style scoped>\n",
       "    .dataframe tbody tr th:only-of-type {\n",
       "        vertical-align: middle;\n",
       "    }\n",
       "\n",
       "    .dataframe tbody tr th {\n",
       "        vertical-align: top;\n",
       "    }\n",
       "\n",
       "    .dataframe thead th {\n",
       "        text-align: right;\n",
       "    }\n",
       "</style>\n",
       "<table border=\"1\" class=\"dataframe\">\n",
       "  <thead>\n",
       "    <tr style=\"text-align: right;\">\n",
       "      <th></th>\n",
       "      <th>Pclass</th>\n",
       "      <th>Sex</th>\n",
       "      <th>SibSp</th>\n",
       "      <th>Parch</th>\n",
       "      <th>Ticket</th>\n",
       "      <th>Fare</th>\n",
       "      <th>Embarked</th>\n",
       "      <th>Survived</th>\n",
       "    </tr>\n",
       "  </thead>\n",
       "  <tbody>\n",
       "    <tr>\n",
       "      <th>361</th>\n",
       "      <td>1</td>\n",
       "      <td>1</td>\n",
       "      <td>1.000000</td>\n",
       "      <td>0.000000</td>\n",
       "      <td>633</td>\n",
       "      <td>5.265055</td>\n",
       "      <td>0</td>\n",
       "      <td>0</td>\n",
       "    </tr>\n",
       "    <tr>\n",
       "      <th>147</th>\n",
       "      <td>2</td>\n",
       "      <td>0</td>\n",
       "      <td>1.414214</td>\n",
       "      <td>1.414214</td>\n",
       "      <td>676</td>\n",
       "      <td>5.863020</td>\n",
       "      <td>2</td>\n",
       "      <td>0</td>\n",
       "    </tr>\n",
       "    <tr>\n",
       "      <th>6</th>\n",
       "      <td>0</td>\n",
       "      <td>1</td>\n",
       "      <td>0.000000</td>\n",
       "      <td>0.000000</td>\n",
       "      <td>85</td>\n",
       "      <td>7.201562</td>\n",
       "      <td>2</td>\n",
       "      <td>0</td>\n",
       "    </tr>\n",
       "    <tr>\n",
       "      <th>739</th>\n",
       "      <td>2</td>\n",
       "      <td>1</td>\n",
       "      <td>0.000000</td>\n",
       "      <td>0.000000</td>\n",
       "      <td>364</td>\n",
       "      <td>2.809947</td>\n",
       "      <td>2</td>\n",
       "      <td>0</td>\n",
       "    </tr>\n",
       "    <tr>\n",
       "      <th>352</th>\n",
       "      <td>2</td>\n",
       "      <td>1</td>\n",
       "      <td>1.000000</td>\n",
       "      <td>1.000000</td>\n",
       "      <td>214</td>\n",
       "      <td>2.688717</td>\n",
       "      <td>0</td>\n",
       "      <td>0</td>\n",
       "    </tr>\n",
       "    <tr>\n",
       "      <th>...</th>\n",
       "      <td>...</td>\n",
       "      <td>...</td>\n",
       "      <td>...</td>\n",
       "      <td>...</td>\n",
       "      <td>...</td>\n",
       "      <td>...</td>\n",
       "      <td>...</td>\n",
       "      <td>...</td>\n",
       "    </tr>\n",
       "    <tr>\n",
       "      <th>535</th>\n",
       "      <td>1</td>\n",
       "      <td>0</td>\n",
       "      <td>0.000000</td>\n",
       "      <td>1.414214</td>\n",
       "      <td>571</td>\n",
       "      <td>5.123475</td>\n",
       "      <td>2</td>\n",
       "      <td>1</td>\n",
       "    </tr>\n",
       "    <tr>\n",
       "      <th>641</th>\n",
       "      <td>0</td>\n",
       "      <td>0</td>\n",
       "      <td>0.000000</td>\n",
       "      <td>0.000000</td>\n",
       "      <td>581</td>\n",
       "      <td>8.324662</td>\n",
       "      <td>0</td>\n",
       "      <td>1</td>\n",
       "    </tr>\n",
       "    <tr>\n",
       "      <th>248</th>\n",
       "      <td>0</td>\n",
       "      <td>1</td>\n",
       "      <td>1.000000</td>\n",
       "      <td>1.000000</td>\n",
       "      <td>54</td>\n",
       "      <td>7.249428</td>\n",
       "      <td>2</td>\n",
       "      <td>1</td>\n",
       "    </tr>\n",
       "    <tr>\n",
       "      <th>393</th>\n",
       "      <td>0</td>\n",
       "      <td>0</td>\n",
       "      <td>1.000000</td>\n",
       "      <td>0.000000</td>\n",
       "      <td>416</td>\n",
       "      <td>10.643073</td>\n",
       "      <td>0</td>\n",
       "      <td>1</td>\n",
       "    </tr>\n",
       "    <tr>\n",
       "      <th>183</th>\n",
       "      <td>1</td>\n",
       "      <td>1</td>\n",
       "      <td>1.414214</td>\n",
       "      <td>1.000000</td>\n",
       "      <td>114</td>\n",
       "      <td>6.244998</td>\n",
       "      <td>2</td>\n",
       "      <td>1</td>\n",
       "    </tr>\n",
       "  </tbody>\n",
       "</table>\n",
       "<p>734 rows × 8 columns</p>\n",
       "</div>"
      ],
      "text/plain": [
       "     Pclass  Sex     SibSp     Parch  Ticket       Fare  Embarked  Survived\n",
       "361       1    1  1.000000  0.000000     633   5.265055         0         0\n",
       "147       2    0  1.414214  1.414214     676   5.863020         2         0\n",
       "6         0    1  0.000000  0.000000      85   7.201562         2         0\n",
       "739       2    1  0.000000  0.000000     364   2.809947         2         0\n",
       "352       2    1  1.000000  1.000000     214   2.688717         0         0\n",
       "..      ...  ...       ...       ...     ...        ...       ...       ...\n",
       "535       1    0  0.000000  1.414214     571   5.123475         2         1\n",
       "641       0    0  0.000000  0.000000     581   8.324662         0         1\n",
       "248       0    1  1.000000  1.000000      54   7.249428         2         1\n",
       "393       0    0  1.000000  0.000000     416  10.643073         0         1\n",
       "183       1    1  1.414214  1.000000     114   6.244998         2         1\n",
       "\n",
       "[734 rows x 8 columns]"
      ]
     },
     "execution_count": 57,
     "metadata": {},
     "output_type": "execute_result"
    }
   ],
   "source": [
    "Upsamp"
   ]
  },
  {
   "cell_type": "code",
   "execution_count": 58,
   "id": "6dbf3d1f",
   "metadata": {},
   "outputs": [
    {
     "data": {
      "text/html": [
       "<div>\n",
       "<style scoped>\n",
       "    .dataframe tbody tr th:only-of-type {\n",
       "        vertical-align: middle;\n",
       "    }\n",
       "\n",
       "    .dataframe tbody tr th {\n",
       "        vertical-align: top;\n",
       "    }\n",
       "\n",
       "    .dataframe thead th {\n",
       "        text-align: right;\n",
       "    }\n",
       "</style>\n",
       "<table border=\"1\" class=\"dataframe\">\n",
       "  <thead>\n",
       "    <tr style=\"text-align: right;\">\n",
       "      <th></th>\n",
       "      <th>Pclass</th>\n",
       "      <th>Sex</th>\n",
       "      <th>SibSp</th>\n",
       "      <th>Parch</th>\n",
       "      <th>Ticket</th>\n",
       "      <th>Fare</th>\n",
       "      <th>Embarked</th>\n",
       "    </tr>\n",
       "  </thead>\n",
       "  <tbody>\n",
       "    <tr>\n",
       "      <th>361</th>\n",
       "      <td>1</td>\n",
       "      <td>1</td>\n",
       "      <td>1.000000</td>\n",
       "      <td>0.000000</td>\n",
       "      <td>633</td>\n",
       "      <td>5.265055</td>\n",
       "      <td>0</td>\n",
       "    </tr>\n",
       "    <tr>\n",
       "      <th>147</th>\n",
       "      <td>2</td>\n",
       "      <td>0</td>\n",
       "      <td>1.414214</td>\n",
       "      <td>1.414214</td>\n",
       "      <td>676</td>\n",
       "      <td>5.863020</td>\n",
       "      <td>2</td>\n",
       "    </tr>\n",
       "    <tr>\n",
       "      <th>6</th>\n",
       "      <td>0</td>\n",
       "      <td>1</td>\n",
       "      <td>0.000000</td>\n",
       "      <td>0.000000</td>\n",
       "      <td>85</td>\n",
       "      <td>7.201562</td>\n",
       "      <td>2</td>\n",
       "    </tr>\n",
       "    <tr>\n",
       "      <th>739</th>\n",
       "      <td>2</td>\n",
       "      <td>1</td>\n",
       "      <td>0.000000</td>\n",
       "      <td>0.000000</td>\n",
       "      <td>364</td>\n",
       "      <td>2.809947</td>\n",
       "      <td>2</td>\n",
       "    </tr>\n",
       "    <tr>\n",
       "      <th>352</th>\n",
       "      <td>2</td>\n",
       "      <td>1</td>\n",
       "      <td>1.000000</td>\n",
       "      <td>1.000000</td>\n",
       "      <td>214</td>\n",
       "      <td>2.688717</td>\n",
       "      <td>0</td>\n",
       "    </tr>\n",
       "    <tr>\n",
       "      <th>...</th>\n",
       "      <td>...</td>\n",
       "      <td>...</td>\n",
       "      <td>...</td>\n",
       "      <td>...</td>\n",
       "      <td>...</td>\n",
       "      <td>...</td>\n",
       "      <td>...</td>\n",
       "    </tr>\n",
       "    <tr>\n",
       "      <th>535</th>\n",
       "      <td>1</td>\n",
       "      <td>0</td>\n",
       "      <td>0.000000</td>\n",
       "      <td>1.414214</td>\n",
       "      <td>571</td>\n",
       "      <td>5.123475</td>\n",
       "      <td>2</td>\n",
       "    </tr>\n",
       "    <tr>\n",
       "      <th>641</th>\n",
       "      <td>0</td>\n",
       "      <td>0</td>\n",
       "      <td>0.000000</td>\n",
       "      <td>0.000000</td>\n",
       "      <td>581</td>\n",
       "      <td>8.324662</td>\n",
       "      <td>0</td>\n",
       "    </tr>\n",
       "    <tr>\n",
       "      <th>248</th>\n",
       "      <td>0</td>\n",
       "      <td>1</td>\n",
       "      <td>1.000000</td>\n",
       "      <td>1.000000</td>\n",
       "      <td>54</td>\n",
       "      <td>7.249428</td>\n",
       "      <td>2</td>\n",
       "    </tr>\n",
       "    <tr>\n",
       "      <th>393</th>\n",
       "      <td>0</td>\n",
       "      <td>0</td>\n",
       "      <td>1.000000</td>\n",
       "      <td>0.000000</td>\n",
       "      <td>416</td>\n",
       "      <td>10.643073</td>\n",
       "      <td>0</td>\n",
       "    </tr>\n",
       "    <tr>\n",
       "      <th>183</th>\n",
       "      <td>1</td>\n",
       "      <td>1</td>\n",
       "      <td>1.414214</td>\n",
       "      <td>1.000000</td>\n",
       "      <td>114</td>\n",
       "      <td>6.244998</td>\n",
       "      <td>2</td>\n",
       "    </tr>\n",
       "  </tbody>\n",
       "</table>\n",
       "<p>734 rows × 7 columns</p>\n",
       "</div>"
      ],
      "text/plain": [
       "     Pclass  Sex     SibSp     Parch  Ticket       Fare  Embarked\n",
       "361       1    1  1.000000  0.000000     633   5.265055         0\n",
       "147       2    0  1.414214  1.414214     676   5.863020         2\n",
       "6         0    1  0.000000  0.000000      85   7.201562         2\n",
       "739       2    1  0.000000  0.000000     364   2.809947         2\n",
       "352       2    1  1.000000  1.000000     214   2.688717         0\n",
       "..      ...  ...       ...       ...     ...        ...       ...\n",
       "535       1    0  0.000000  1.414214     571   5.123475         2\n",
       "641       0    0  0.000000  0.000000     581   8.324662         0\n",
       "248       0    1  1.000000  1.000000      54   7.249428         2\n",
       "393       0    0  1.000000  0.000000     416  10.643073         0\n",
       "183       1    1  1.414214  1.000000     114   6.244998         2\n",
       "\n",
       "[734 rows x 7 columns]"
      ]
     },
     "execution_count": 58,
     "metadata": {},
     "output_type": "execute_result"
    }
   ],
   "source": [
    "X=Upsamp.drop('Survived',axis=1)\n",
    "Y=Upsamp['Survived']\n",
    "X"
   ]
  },
  {
   "cell_type": "code",
   "execution_count": 59,
   "id": "d74d32c4",
   "metadata": {},
   "outputs": [
    {
     "data": {
      "text/plain": [
       "361    0\n",
       "147    0\n",
       "6      0\n",
       "739    0\n",
       "352    0\n",
       "      ..\n",
       "535    1\n",
       "641    1\n",
       "248    1\n",
       "393    1\n",
       "183    1\n",
       "Name: Survived, Length: 734, dtype: int64"
      ]
     },
     "execution_count": 59,
     "metadata": {},
     "output_type": "execute_result"
    }
   ],
   "source": [
    "Y"
   ]
  },
  {
   "cell_type": "code",
   "execution_count": 60,
   "id": "c05bd4ba",
   "metadata": {},
   "outputs": [
    {
     "data": {
      "text/plain": [
       "array([[-0.3257979 ,  0.8694716 ,  1.10249688, ...,  1.62101111,\n",
       "         0.22935639, -2.04590042],\n",
       "       [ 0.8880887 , -1.15012382,  1.83376683, ...,  1.84016688,\n",
       "         0.47635684,  0.56120185],\n",
       "       [-1.53968451,  0.8694716 , -0.66294496, ..., -1.17195079,\n",
       "         1.02926641,  0.56120185],\n",
       "       ...,\n",
       "       [-1.53968451,  0.8694716 ,  1.10249688, ..., -1.32994681,\n",
       "         1.04903802,  0.56120185],\n",
       "       [-1.53968451, -1.15012382,  1.10249688, ...,  0.51503897,\n",
       "         2.45084542, -2.04590042],\n",
       "       [-0.3257979 ,  0.8694716 ,  1.83376683, ..., -1.02414806,\n",
       "         0.63413997,  0.56120185]])"
      ]
     },
     "execution_count": 60,
     "metadata": {},
     "output_type": "execute_result"
    }
   ],
   "source": [
    "#Scaling dataponits using standardscaler\n",
    "from sklearn.preprocessing import StandardScaler\n",
    "\n",
    "scale=StandardScaler()\n",
    "X_scale=scale.fit_transform(X)\n",
    "X_scale"
   ]
  },
  {
   "cell_type": "code",
   "execution_count": 61,
   "id": "53ebf6a7",
   "metadata": {},
   "outputs": [
    {
     "name": "stdout",
     "output_type": "stream",
     "text": [
      "(734, 7)\n",
      "(734,)\n"
     ]
    }
   ],
   "source": [
    "x_train,x_test,y_train,y_test=train_test_split(X_scale,Y,test_size=0.30,random_state=42)\n",
    "print(X.shape)\n",
    "print(Y.shape)"
   ]
  },
  {
   "cell_type": "markdown",
   "id": "e5a6df2d",
   "metadata": {},
   "source": [
    "Logistic Regression"
   ]
  },
  {
   "cell_type": "code",
   "execution_count": 62,
   "id": "1a866ea8",
   "metadata": {},
   "outputs": [
    {
     "data": {
      "text/plain": [
       "0.7953216374269005"
      ]
     },
     "execution_count": 62,
     "metadata": {},
     "output_type": "execute_result"
    }
   ],
   "source": [
    "from sklearn.linear_model import LinearRegression,LogisticRegression\n",
    "from sklearn.metrics import r2_score,accuracy_score,confusion_matrix,classification_report\n",
    "\n",
    "ls=LogisticRegression()\n",
    "ls.fit(x_train,y_train)\n",
    "ls.score(x_train,y_train)"
   ]
  },
  {
   "cell_type": "code",
   "execution_count": 63,
   "id": "cf806f03",
   "metadata": {},
   "outputs": [
    {
     "name": "stdout",
     "output_type": "stream",
     "text": [
      "0.7420814479638009\n",
      "[[85 35]\n",
      " [22 79]]\n",
      "              precision    recall  f1-score   support\n",
      "\n",
      "           0       0.79      0.71      0.75       120\n",
      "           1       0.69      0.78      0.73       101\n",
      "\n",
      "    accuracy                           0.74       221\n",
      "   macro avg       0.74      0.75      0.74       221\n",
      "weighted avg       0.75      0.74      0.74       221\n",
      "\n"
     ]
    }
   ],
   "source": [
    "lspred=ls.predict(x_test)\n",
    "print(accuracy_score(y_test,lspred))\n",
    "print(confusion_matrix(y_test,lspred))\n",
    "print(classification_report(y_test,lspred))"
   ]
  },
  {
   "cell_type": "markdown",
   "id": "eca669c2",
   "metadata": {},
   "source": [
    "Support Vector Classifier"
   ]
  },
  {
   "cell_type": "code",
   "execution_count": 64,
   "id": "62410e56",
   "metadata": {},
   "outputs": [
    {
     "data": {
      "text/plain": [
       "0.8362573099415205"
      ]
     },
     "execution_count": 64,
     "metadata": {},
     "output_type": "execute_result"
    }
   ],
   "source": [
    "from sklearn.svm import SVC\n",
    "\n",
    "svc=SVC() \n",
    "svc.fit(x_train,y_train)\n",
    "svc.score(x_train,y_train)"
   ]
  },
  {
   "cell_type": "code",
   "execution_count": 65,
   "id": "2816426a",
   "metadata": {},
   "outputs": [
    {
     "name": "stdout",
     "output_type": "stream",
     "text": [
      "0.7782805429864253\n",
      "[[86 34]\n",
      " [15 86]]\n",
      "              precision    recall  f1-score   support\n",
      "\n",
      "           0       0.85      0.72      0.78       120\n",
      "           1       0.72      0.85      0.78       101\n",
      "\n",
      "    accuracy                           0.78       221\n",
      "   macro avg       0.78      0.78      0.78       221\n",
      "weighted avg       0.79      0.78      0.78       221\n",
      "\n"
     ]
    }
   ],
   "source": [
    "predsvc=svc.predict(x_test)\n",
    "print(accuracy_score(y_test,predsvc))\n",
    "print(confusion_matrix(y_test,predsvc))\n",
    "print(classification_report(y_test,predsvc))"
   ]
  },
  {
   "cell_type": "markdown",
   "id": "3042e99d",
   "metadata": {},
   "source": [
    "KNeighbor Classifier"
   ]
  },
  {
   "cell_type": "code",
   "execution_count": 66,
   "id": "5cc452ee",
   "metadata": {},
   "outputs": [
    {
     "data": {
      "text/plain": [
       "0.8674463937621832"
      ]
     },
     "execution_count": 66,
     "metadata": {},
     "output_type": "execute_result"
    }
   ],
   "source": [
    "from sklearn.neighbors import KNeighborsClassifier\n",
    "\n",
    "knn=KNeighborsClassifier()\n",
    "knn.fit(x_train,y_train)\n",
    "knn.score(x_train,y_train)"
   ]
  },
  {
   "cell_type": "code",
   "execution_count": 67,
   "id": "eec6eb9e",
   "metadata": {},
   "outputs": [
    {
     "name": "stdout",
     "output_type": "stream",
     "text": [
      "0.7873303167420814\n",
      "[[88 32]\n",
      " [15 86]]\n",
      "              precision    recall  f1-score   support\n",
      "\n",
      "           0       0.85      0.73      0.79       120\n",
      "           1       0.73      0.85      0.79       101\n",
      "\n",
      "    accuracy                           0.79       221\n",
      "   macro avg       0.79      0.79      0.79       221\n",
      "weighted avg       0.80      0.79      0.79       221\n",
      "\n"
     ]
    }
   ],
   "source": [
    "predknn=knn.predict(x_test)\n",
    "print(accuracy_score(y_test,predknn))\n",
    "print(confusion_matrix(y_test,predknn))\n",
    "print(classification_report(y_test,predknn))"
   ]
  },
  {
   "cell_type": "markdown",
   "id": "f78f81a0",
   "metadata": {},
   "source": [
    "Decision Tree Classifier"
   ]
  },
  {
   "cell_type": "code",
   "execution_count": 68,
   "id": "b3a86734",
   "metadata": {},
   "outputs": [
    {
     "data": {
      "text/plain": [
       "0.9961013645224172"
      ]
     },
     "execution_count": 68,
     "metadata": {},
     "output_type": "execute_result"
    }
   ],
   "source": [
    "from sklearn.tree import DecisionTreeClassifier\n",
    "\n",
    "dtc=DecisionTreeClassifier()\n",
    "dtc.fit(x_train,y_train)\n",
    "dtc.score(x_train,y_train)"
   ]
  },
  {
   "cell_type": "code",
   "execution_count": 69,
   "id": "1b23c969",
   "metadata": {},
   "outputs": [
    {
     "name": "stdout",
     "output_type": "stream",
     "text": [
      "0.8778280542986425\n",
      "[[103  17]\n",
      " [ 10  91]]\n",
      "              precision    recall  f1-score   support\n",
      "\n",
      "           0       0.91      0.86      0.88       120\n",
      "           1       0.84      0.90      0.87       101\n",
      "\n",
      "    accuracy                           0.88       221\n",
      "   macro avg       0.88      0.88      0.88       221\n",
      "weighted avg       0.88      0.88      0.88       221\n",
      "\n"
     ]
    }
   ],
   "source": [
    "preddtc=dtc.predict(x_test)\n",
    "print(accuracy_score(y_test,preddtc))\n",
    "print(confusion_matrix(y_test,preddtc))\n",
    "print(classification_report(y_test,preddtc))"
   ]
  },
  {
   "cell_type": "markdown",
   "id": "af38634d",
   "metadata": {},
   "source": [
    "Random Forest Classifier"
   ]
  },
  {
   "cell_type": "code",
   "execution_count": 99,
   "id": "f3ec6033",
   "metadata": {},
   "outputs": [
    {
     "data": {
      "text/plain": [
       "0.9961013645224172"
      ]
     },
     "execution_count": 99,
     "metadata": {},
     "output_type": "execute_result"
    }
   ],
   "source": [
    "from sklearn.ensemble import RandomForestClassifier\n",
    "\n",
    "rfc=RandomForestClassifier()\n",
    "rfc.fit(x_train,y_train)\n",
    "rfc.score(x_train,y_train)"
   ]
  },
  {
   "cell_type": "code",
   "execution_count": 100,
   "id": "96e5d39c",
   "metadata": {},
   "outputs": [
    {
     "name": "stdout",
     "output_type": "stream",
     "text": [
      "0.8733031674208145\n",
      "[[102  18]\n",
      " [ 10  91]]\n",
      "              precision    recall  f1-score   support\n",
      "\n",
      "           0       0.91      0.85      0.88       120\n",
      "           1       0.83      0.90      0.87       101\n",
      "\n",
      "    accuracy                           0.87       221\n",
      "   macro avg       0.87      0.88      0.87       221\n",
      "weighted avg       0.88      0.87      0.87       221\n",
      "\n"
     ]
    }
   ],
   "source": [
    "predrfc=rfc.predict(x_test)\n",
    "print(accuracy_score(y_test,predrfc))\n",
    "print(confusion_matrix(y_test,predrfc))\n",
    "print(classification_report(y_test,predrfc))"
   ]
  },
  {
   "cell_type": "markdown",
   "id": "1cf03aa2",
   "metadata": {},
   "source": [
    "Cross Validation"
   ]
  },
  {
   "cell_type": "code",
   "execution_count": 72,
   "id": "64a15fbe",
   "metadata": {},
   "outputs": [
    {
     "name": "stdout",
     "output_type": "stream",
     "text": [
      "[0.72972973 0.72972973 0.7972973  0.77027027 0.76712329 0.90410959\n",
      " 0.76712329 0.80821918 0.65753425 0.78082192]\n",
      "0.7711958533876342\n",
      "0.06016859825516021\n"
     ]
    }
   ],
   "source": [
    "#Logistic Regression\n",
    "from sklearn.model_selection import cross_val_score\n",
    "\n",
    "score=cross_val_score(ls,X,Y,cv=10)\n",
    "print(score)\n",
    "print(score.mean())\n",
    "print(score.std())"
   ]
  },
  {
   "cell_type": "code",
   "execution_count": 73,
   "id": "789f0217",
   "metadata": {},
   "outputs": [
    {
     "name": "stdout",
     "output_type": "stream",
     "text": [
      "[0.62162162 0.66216216 0.71621622 0.52702703 0.65753425 0.61643836\n",
      " 0.56164384 0.61643836 0.52054795 0.49315068]\n",
      "0.5992780451684563\n",
      "0.06797713553705186\n"
     ]
    }
   ],
   "source": [
    "#Support vector classifier\n",
    "\n",
    "score=cross_val_score(svc,X,Y,cv=10)\n",
    "print(score)\n",
    "print(score.mean())\n",
    "print(score.std())"
   ]
  },
  {
   "cell_type": "code",
   "execution_count": 74,
   "id": "71760470",
   "metadata": {},
   "outputs": [
    {
     "name": "stdout",
     "output_type": "stream",
     "text": [
      "[0.74324324 0.74324324 0.7972973  0.64864865 0.73972603 0.67123288\n",
      " 0.73972603 0.65753425 0.73972603 0.63013699]\n",
      "0.7110514624213253\n",
      "0.05183486600772494\n"
     ]
    }
   ],
   "source": [
    "#Kneighbor classifier\n",
    "\n",
    "score=cross_val_score(knn,X,Y,cv=10)\n",
    "print(score)\n",
    "print(score.mean())\n",
    "print(score.std())"
   ]
  },
  {
   "cell_type": "code",
   "execution_count": 75,
   "id": "5221bf1d",
   "metadata": {},
   "outputs": [
    {
     "name": "stdout",
     "output_type": "stream",
     "text": [
      "[0.87837838 0.86486486 0.93243243 0.85135135 0.91780822 0.89041096\n",
      " 0.89041096 0.93150685 0.8630137  0.78082192]\n",
      "0.8800999629766754\n",
      "0.0426913651717855\n"
     ]
    }
   ],
   "source": [
    "#Decision Tree classifier\n",
    "\n",
    "score=cross_val_score(dtc,X,Y,cv=10)\n",
    "print(score)\n",
    "print(score.mean())\n",
    "print(score.std())"
   ]
  },
  {
   "cell_type": "code",
   "execution_count": 76,
   "id": "3a0cd52c",
   "metadata": {},
   "outputs": [
    {
     "name": "stdout",
     "output_type": "stream",
     "text": [
      "[0.86486486 0.93243243 0.94594595 0.85135135 0.94520548 0.93150685\n",
      " 0.89041096 0.93150685 0.87671233 0.82191781]\n",
      "0.8991854868567197\n",
      "0.041853816475862136\n"
     ]
    }
   ],
   "source": [
    "#Random forest classifier\n",
    "\n",
    "score=cross_val_score(rfc,X,Y,cv=10)\n",
    "print(score)\n",
    "print(score.mean())\n",
    "print(score.std())"
   ]
  },
  {
   "cell_type": "markdown",
   "id": "593f9a72",
   "metadata": {},
   "source": [
    "Hyper Parameter Tuning"
   ]
  },
  {
   "cell_type": "code",
   "execution_count": 77,
   "id": "efdbb1c8",
   "metadata": {},
   "outputs": [
    {
     "data": {
      "text/plain": [
       "GridSearchCV(cv=10, estimator=LogisticRegression(),\n",
       "             param_grid={'C': [1, 10, 100],\n",
       "                         'penalty': ['l1', 'l2', 'elasticnet'],\n",
       "                         'solver': ['newton-cg', 'lbfgs', 'sag', 'saga']})"
      ]
     },
     "execution_count": 77,
     "metadata": {},
     "output_type": "execute_result"
    }
   ],
   "source": [
    "#Logistic\n",
    "from sklearn.model_selection import GridSearchCV\n",
    "\n",
    "grid_para={'penalty':['l1','l2','elasticnet'],'C':[1,10,100],'solver':['newton-cg','lbfgs','sag','saga']}\n",
    "grid_search=GridSearchCV(estimator=ls,param_grid=grid_para,cv=10)\n",
    "grid_search.fit(x_train,y_train)"
   ]
  },
  {
   "cell_type": "code",
   "execution_count": 78,
   "id": "eecb9155",
   "metadata": {},
   "outputs": [
    {
     "name": "stdout",
     "output_type": "stream",
     "text": [
      "{'C': 1, 'penalty': 'l1', 'solver': 'saga'}\n"
     ]
    }
   ],
   "source": [
    "best_para=grid_search.best_params_\n",
    "print(best_para)"
   ]
  },
  {
   "cell_type": "code",
   "execution_count": 79,
   "id": "117bb12b",
   "metadata": {},
   "outputs": [
    {
     "name": "stdout",
     "output_type": "stream",
     "text": [
      "0.7420814479638009\n",
      "[[85 35]\n",
      " [22 79]]\n"
     ]
    }
   ],
   "source": [
    "ls=LogisticRegression(C=1,penalty='l1',solver='saga')\n",
    "ls.fit(x_train,y_train)\n",
    "lspred=ls.predict(x_test)\n",
    "print(accuracy_score(y_test,lspred))\n",
    "print(confusion_matrix(y_test,lspred))"
   ]
  },
  {
   "cell_type": "markdown",
   "id": "5eb20e4c",
   "metadata": {},
   "source": [
    "The Logistic model accuracy score and crossvalidation score is 74.20%."
   ]
  },
  {
   "cell_type": "code",
   "execution_count": 80,
   "id": "a3baee45",
   "metadata": {},
   "outputs": [],
   "source": [
    "#support vector\n",
    "\n",
    "grid_para={'kernel':('poly','rbf','linear'),'C':[1,10,100,1000],'gamma':[0.01,0.001,0.0001]}"
   ]
  },
  {
   "cell_type": "code",
   "execution_count": 81,
   "id": "e4628b0d",
   "metadata": {},
   "outputs": [
    {
     "data": {
      "text/plain": [
       "GridSearchCV(cv=10, estimator=SVC(),\n",
       "             param_grid={'C': [1, 10, 100, 1000],\n",
       "                         'gamma': [0.01, 0.001, 0.0001],\n",
       "                         'kernel': ('poly', 'rbf', 'linear')})"
      ]
     },
     "execution_count": 81,
     "metadata": {},
     "output_type": "execute_result"
    }
   ],
   "source": [
    "grid_search=GridSearchCV(estimator=svc,param_grid=grid_para,cv=10)\n",
    "grid_search.fit(x_train,y_train)"
   ]
  },
  {
   "cell_type": "code",
   "execution_count": 82,
   "id": "bd87e718",
   "metadata": {},
   "outputs": [
    {
     "name": "stdout",
     "output_type": "stream",
     "text": [
      "{'C': 1000, 'gamma': 0.01, 'kernel': 'rbf'}\n"
     ]
    }
   ],
   "source": [
    "best_para=grid_search.best_params_\n",
    "print(best_para)"
   ]
  },
  {
   "cell_type": "code",
   "execution_count": 83,
   "id": "67bf7255",
   "metadata": {},
   "outputs": [
    {
     "name": "stdout",
     "output_type": "stream",
     "text": [
      "0.7737556561085973\n",
      "[[86 34]\n",
      " [16 85]]\n"
     ]
    }
   ],
   "source": [
    "svc=SVC(kernel='rbf',C=1000,gamma=0.01) \n",
    "svc.fit(x_train,y_train)\n",
    "predsvc=svc.predict(x_test)\n",
    "print(accuracy_score(y_test,predsvc))\n",
    "print(confusion_matrix(y_test,predsvc))"
   ]
  },
  {
   "cell_type": "markdown",
   "id": "4c67b3e0",
   "metadata": {},
   "source": [
    "The support vector model accuracy score and cross validation score is 77%."
   ]
  },
  {
   "cell_type": "code",
   "execution_count": 84,
   "id": "cbd09210",
   "metadata": {},
   "outputs": [
    {
     "data": {
      "text/plain": [
       "GridSearchCV(cv=10, estimator=KNeighborsClassifier(),\n",
       "             param_grid={'algorithm': ['auto', 'ball_tree', 'kd_tree', 'brute'],\n",
       "                         'leaf_size': range(1, 20),\n",
       "                         'n_neighbors': [5, 10, 15, 20],\n",
       "                         'weights': ['uniform', 'distance']})"
      ]
     },
     "execution_count": 84,
     "metadata": {},
     "output_type": "execute_result"
    }
   ],
   "source": [
    "#Kneighbor\n",
    "\n",
    "grid_para={'n_neighbors':[5,10,15,20],'weights':['uniform','distance'],'algorithm':['auto','ball_tree','kd_tree','brute'],'leaf_size':range(1,20,1)}\n",
    "grid_search=GridSearchCV(estimator=knn,param_grid=grid_para,cv=10)\n",
    "grid_search.fit(x_train,y_train)"
   ]
  },
  {
   "cell_type": "code",
   "execution_count": 85,
   "id": "5c134953",
   "metadata": {},
   "outputs": [
    {
     "name": "stdout",
     "output_type": "stream",
     "text": [
      "{'algorithm': 'auto', 'leaf_size': 2, 'n_neighbors': 20, 'weights': 'distance'}\n"
     ]
    }
   ],
   "source": [
    "best_para=grid_search.best_params_\n",
    "print(best_para)"
   ]
  },
  {
   "cell_type": "code",
   "execution_count": 86,
   "id": "d5c9917a",
   "metadata": {},
   "outputs": [
    {
     "name": "stdout",
     "output_type": "stream",
     "text": [
      "0.8552036199095022\n",
      "[[93 27]\n",
      " [ 5 96]]\n"
     ]
    }
   ],
   "source": [
    "knn=KNeighborsClassifier(n_neighbors=20,algorithm='auto',leaf_size=2,weights='distance')\n",
    "knn.fit(x_train,y_train)\n",
    "predknn=knn.predict(x_test)\n",
    "print(accuracy_score(y_test,predknn))\n",
    "print(confusion_matrix(y_test,predknn))"
   ]
  },
  {
   "cell_type": "markdown",
   "id": "e7369beb",
   "metadata": {},
   "source": [
    "The knn model accuracy score is 78% and cross validation score is 85%."
   ]
  },
  {
   "cell_type": "code",
   "execution_count": 87,
   "id": "660aee8b",
   "metadata": {},
   "outputs": [
    {
     "data": {
      "text/plain": [
       "GridSearchCV(cv=10, estimator=DecisionTreeClassifier(),\n",
       "             param_grid={'criterion': ['gini', 'entropy'],\n",
       "                         'max_depth': range(1, 20, 2),\n",
       "                         'min_samples_split': range(1, 20),\n",
       "                         'splitter': ['best', 'random']})"
      ]
     },
     "execution_count": 87,
     "metadata": {},
     "output_type": "execute_result"
    }
   ],
   "source": [
    "#Decision tree\n",
    "\n",
    "grid_para={'criterion':['gini','entropy'],'splitter':['best','random'],'max_depth':range(1,20,2),'min_samples_split':range(1,20,1)}\n",
    "grid_search=GridSearchCV(estimator=dtc,param_grid=grid_para,cv=10)\n",
    "grid_search.fit(x_train,y_train)"
   ]
  },
  {
   "cell_type": "code",
   "execution_count": 88,
   "id": "0a865251",
   "metadata": {},
   "outputs": [
    {
     "name": "stdout",
     "output_type": "stream",
     "text": [
      "{'criterion': 'entropy', 'max_depth': 19, 'min_samples_split': 2, 'splitter': 'random'}\n"
     ]
    }
   ],
   "source": [
    "best_para=grid_search.best_params_\n",
    "print(best_para)"
   ]
  },
  {
   "cell_type": "code",
   "execution_count": 89,
   "id": "f7544421",
   "metadata": {},
   "outputs": [
    {
     "name": "stdout",
     "output_type": "stream",
     "text": [
      "0.8687782805429864\n",
      "[[98 22]\n",
      " [ 7 94]]\n"
     ]
    }
   ],
   "source": [
    "dtc=DecisionTreeClassifier(criterion='entropy',max_depth=19,min_samples_split=2,splitter='random')\n",
    "dtc.fit(x_train,y_train)\n",
    "preddtc=dtc.predict(x_test)\n",
    "print(accuracy_score(y_test,preddtc))\n",
    "print(confusion_matrix(y_test,preddtc))"
   ]
  },
  {
   "cell_type": "markdown",
   "id": "601856c6",
   "metadata": {},
   "source": [
    "The Decision tree model accuracy score is 87.78% and crossvalidation score is 86.87%"
   ]
  },
  {
   "cell_type": "code",
   "execution_count": 94,
   "id": "f7fdde96",
   "metadata": {},
   "outputs": [],
   "source": [
    "#Random forest\n",
    "grid_para={'n_estimators':[90,100,115,130],'criterion':['gini','entropy'],'max_depth':range(2,20,1),'max_features': ['auto','log2']}"
   ]
  },
  {
   "cell_type": "code",
   "execution_count": 95,
   "id": "fca27a24",
   "metadata": {},
   "outputs": [
    {
     "data": {
      "text/plain": [
       "GridSearchCV(cv=10,\n",
       "             estimator=RandomForestClassifier(max_depth=16, n_estimators=115),\n",
       "             param_grid={'criterion': ['gini', 'entropy'],\n",
       "                         'max_depth': range(2, 20),\n",
       "                         'max_features': ['auto', 'log2'],\n",
       "                         'n_estimators': [90, 100, 115, 130]})"
      ]
     },
     "execution_count": 95,
     "metadata": {},
     "output_type": "execute_result"
    }
   ],
   "source": [
    "grid_search=GridSearchCV(estimator=rfc,param_grid=grid_para,cv=10)\n",
    "grid_search.fit(x_train,y_train)"
   ]
  },
  {
   "cell_type": "code",
   "execution_count": 96,
   "id": "ec8f5fcf",
   "metadata": {},
   "outputs": [
    {
     "name": "stdout",
     "output_type": "stream",
     "text": [
      "{'criterion': 'gini', 'max_depth': 12, 'max_features': 'log2', 'n_estimators': 130}\n"
     ]
    }
   ],
   "source": [
    "best_para=grid_search.best_params_\n",
    "print(best_para)"
   ]
  },
  {
   "cell_type": "code",
   "execution_count": 97,
   "id": "217bd485",
   "metadata": {},
   "outputs": [
    {
     "name": "stdout",
     "output_type": "stream",
     "text": [
      "0.8778280542986425\n",
      "[[102  18]\n",
      " [  9  92]]\n"
     ]
    }
   ],
   "source": [
    "rfc=RandomForestClassifier(criterion='gini',max_depth=12,max_features='log2',n_estimators=130)\n",
    "rfc.fit(x_train,y_train)\n",
    "predrfc=rfc.predict(x_test)\n",
    "print(accuracy_score(y_test,predrfc))\n",
    "print(confusion_matrix(y_test,predrfc))"
   ]
  },
  {
   "cell_type": "markdown",
   "id": "d972a649",
   "metadata": {},
   "source": [
    "The random forest model accuracy score is 87.33% and cross validation score is 87.78%"
   ]
  },
  {
   "cell_type": "markdown",
   "id": "e1e515c7",
   "metadata": {},
   "source": [
    "The Random forest classifier model gives the best result."
   ]
  },
  {
   "cell_type": "code",
   "execution_count": 101,
   "id": "4144d576",
   "metadata": {},
   "outputs": [],
   "source": [
    "import pickle\n",
    "filename=\"Titanic.pkl\"\n",
    "pickle.dump(rfc,open(filename, 'wb'))"
   ]
  },
  {
   "cell_type": "markdown",
   "id": "11cb4e0b",
   "metadata": {},
   "source": [
    "Conclusion"
   ]
  },
  {
   "cell_type": "code",
   "execution_count": 102,
   "id": "2bbc5c92",
   "metadata": {},
   "outputs": [
    {
     "name": "stdout",
     "output_type": "stream",
     "text": [
      "0.8733031674208145\n"
     ]
    }
   ],
   "source": [
    "model=pickle.load(open(\"Titanic.pkl\",'rb'))\n",
    "result=model.score(x_test,y_test)\n",
    "print(result)"
   ]
  },
  {
   "cell_type": "code",
   "execution_count": 103,
   "id": "81b4350c",
   "metadata": {},
   "outputs": [
    {
     "data": {
      "text/html": [
       "<div>\n",
       "<style scoped>\n",
       "    .dataframe tbody tr th:only-of-type {\n",
       "        vertical-align: middle;\n",
       "    }\n",
       "\n",
       "    .dataframe tbody tr th {\n",
       "        vertical-align: top;\n",
       "    }\n",
       "\n",
       "    .dataframe thead th {\n",
       "        text-align: right;\n",
       "    }\n",
       "</style>\n",
       "<table border=\"1\" class=\"dataframe\">\n",
       "  <thead>\n",
       "    <tr style=\"text-align: right;\">\n",
       "      <th></th>\n",
       "      <th>0</th>\n",
       "      <th>1</th>\n",
       "      <th>2</th>\n",
       "      <th>3</th>\n",
       "      <th>4</th>\n",
       "      <th>5</th>\n",
       "      <th>6</th>\n",
       "      <th>7</th>\n",
       "      <th>8</th>\n",
       "      <th>9</th>\n",
       "      <th>...</th>\n",
       "      <th>211</th>\n",
       "      <th>212</th>\n",
       "      <th>213</th>\n",
       "      <th>214</th>\n",
       "      <th>215</th>\n",
       "      <th>216</th>\n",
       "      <th>217</th>\n",
       "      <th>218</th>\n",
       "      <th>219</th>\n",
       "      <th>220</th>\n",
       "    </tr>\n",
       "  </thead>\n",
       "  <tbody>\n",
       "    <tr>\n",
       "      <th>Predicted</th>\n",
       "      <td>1</td>\n",
       "      <td>0</td>\n",
       "      <td>0</td>\n",
       "      <td>0</td>\n",
       "      <td>0</td>\n",
       "      <td>0</td>\n",
       "      <td>1</td>\n",
       "      <td>0</td>\n",
       "      <td>1</td>\n",
       "      <td>0</td>\n",
       "      <td>...</td>\n",
       "      <td>0</td>\n",
       "      <td>1</td>\n",
       "      <td>0</td>\n",
       "      <td>1</td>\n",
       "      <td>0</td>\n",
       "      <td>1</td>\n",
       "      <td>1</td>\n",
       "      <td>0</td>\n",
       "      <td>1</td>\n",
       "      <td>0</td>\n",
       "    </tr>\n",
       "    <tr>\n",
       "      <th>Original</th>\n",
       "      <td>1</td>\n",
       "      <td>0</td>\n",
       "      <td>0</td>\n",
       "      <td>0</td>\n",
       "      <td>0</td>\n",
       "      <td>0</td>\n",
       "      <td>1</td>\n",
       "      <td>0</td>\n",
       "      <td>1</td>\n",
       "      <td>0</td>\n",
       "      <td>...</td>\n",
       "      <td>0</td>\n",
       "      <td>1</td>\n",
       "      <td>0</td>\n",
       "      <td>1</td>\n",
       "      <td>0</td>\n",
       "      <td>1</td>\n",
       "      <td>1</td>\n",
       "      <td>0</td>\n",
       "      <td>1</td>\n",
       "      <td>0</td>\n",
       "    </tr>\n",
       "  </tbody>\n",
       "</table>\n",
       "<p>2 rows × 221 columns</p>\n",
       "</div>"
      ],
      "text/plain": [
       "           0    1    2    3    4    5    6    7    8    9    ...  211  212  \\\n",
       "Predicted    1    0    0    0    0    0    1    0    1    0  ...    0    1   \n",
       "Original     1    0    0    0    0    0    1    0    1    0  ...    0    1   \n",
       "\n",
       "           213  214  215  216  217  218  219  220  \n",
       "Predicted    0    1    0    1    1    0    1    0  \n",
       "Original     0    1    0    1    1    0    1    0  \n",
       "\n",
       "[2 rows x 221 columns]"
      ]
     },
     "execution_count": 103,
     "metadata": {},
     "output_type": "execute_result"
    }
   ],
   "source": [
    "Accuracy=pd.DataFrame([model.predict(x_test),predrfc],index=['Predicted','Original'])\n",
    "Accuracy"
   ]
  },
  {
   "cell_type": "code",
   "execution_count": null,
   "id": "3493c5ed",
   "metadata": {
    "collapsed": true
   },
   "outputs": [],
   "source": []
  }
 ],
 "metadata": {
  "kernelspec": {
   "display_name": "Python 3",
   "language": "python",
   "name": "python3"
  },
  "language_info": {
   "codemirror_mode": {
    "name": "ipython",
    "version": 3
   },
   "file_extension": ".py",
   "mimetype": "text/x-python",
   "name": "python",
   "nbconvert_exporter": "python",
   "pygments_lexer": "ipython3",
   "version": "3.8.8"
  }
 },
 "nbformat": 4,
 "nbformat_minor": 5
}
